{
 "cells": [
  {
   "cell_type": "markdown",
   "id": "d4fef9c3",
   "metadata": {
    "papermill": {
     "duration": 0.029219,
     "end_time": "2024-09-06T15:10:35.544329",
     "exception": false,
     "start_time": "2024-09-06T15:10:35.515110",
     "status": "completed"
    },
    "tags": []
   },
   "source": [
    "# Course Description\n",
    "\n",
    "Grow your machine learning skills with scikit-learn and discover how to use this popular Python library to train models using labeled data. In this course, you'll learn how to make powerful predictions, such as whether a customer is will churn from your business, whether an individual has diabetes, and even how to tell classify the genre of a song. Using real-world datasets, you'll find out how to build predictive models, tune their parameters, and determine how well they will perform with unseen data.\n"
   ]
  },
  {
   "cell_type": "code",
   "execution_count": 66,
   "id": "650bb8d8",
   "metadata": {
    "execution": {
     "iopub.execute_input": "2024-09-06T15:10:35.607991Z",
     "iopub.status.busy": "2024-09-06T15:10:35.607566Z",
     "iopub.status.idle": "2024-09-06T15:10:36.007748Z",
     "shell.execute_reply": "2024-09-06T15:10:36.006685Z"
    },
    "papermill": {
     "duration": 0.4361,
     "end_time": "2024-09-06T15:10:36.010315",
     "exception": false,
     "start_time": "2024-09-06T15:10:35.574215",
     "status": "completed"
    },
    "tags": []
   },
   "outputs": [],
   "source": [
    "# Import necessary packages\n",
    "import numpy as np # linear algebra\n",
    "import pandas as pd # data processing, CSV file I/O (e.g. pd.read_csv)\n",
    "import matplotlib.pyplot as plt"
   ]
  },
  {
   "cell_type": "markdown",
   "id": "3cecb0bc",
   "metadata": {
    "papermill": {
     "duration": 0.029195,
     "end_time": "2024-09-06T15:10:36.071038",
     "exception": false,
     "start_time": "2024-09-06T15:10:36.041843",
     "status": "completed"
    },
    "tags": []
   },
   "source": [
    "# Chapter-1: Classification\n",
    "\n",
    "In this chapter, you'll be introduced to classification problems and learn how to solve them using supervised learning techniques. You'll learn how to split data into training and test sets, fit a model, make predictions, and evaluate accuracy. You’ll discover the relationship between model complexity and performance, applying what you learn to a churn dataset, where you will classify the churn status of a telecom company's customers."
   ]
  },
  {
   "cell_type": "markdown",
   "id": "42982c91-d1ba-461a-9461-ae5d803d1717",
   "metadata": {},
   "source": [
    "## 1.1. Machine learning with scikit-learn"
   ]
  },
  {
   "cell_type": "markdown",
   "id": "84b3cf2d",
   "metadata": {
    "papermill": {
     "duration": 0.029384,
     "end_time": "2024-09-06T15:10:36.130267",
     "exception": false,
     "start_time": "2024-09-06T15:10:36.100883",
     "status": "completed"
    },
    "tags": []
   },
   "source": [
    "***Exercise : Binary classification***\n",
    "\n",
    "There are two types of supervised learning—classification and regression. Binary classification is used to predict a target variable that has only two labels, typically represented numerically with a zero or a one.\n",
    "\n",
    "The .head() of a dataset, churn_df, is shown below. You can expect the rest of the data to contain similar values."
   ]
  },
  {
   "cell_type": "code",
   "execution_count": 67,
   "id": "2229f209",
   "metadata": {
    "execution": {
     "iopub.execute_input": "2024-09-06T15:10:36.192593Z",
     "iopub.status.busy": "2024-09-06T15:10:36.192038Z",
     "iopub.status.idle": "2024-09-06T15:10:36.317899Z",
     "shell.execute_reply": "2024-09-06T15:10:36.316913Z"
    },
    "papermill": {
     "duration": 0.159655,
     "end_time": "2024-09-06T15:10:36.320269",
     "exception": false,
     "start_time": "2024-09-06T15:10:36.160614",
     "status": "completed"
    },
    "tags": []
   },
   "outputs": [
    {
     "data": {
      "text/html": [
       "<div>\n",
       "<style scoped>\n",
       "    .dataframe tbody tr th:only-of-type {\n",
       "        vertical-align: middle;\n",
       "    }\n",
       "\n",
       "    .dataframe tbody tr th {\n",
       "        vertical-align: top;\n",
       "    }\n",
       "\n",
       "    .dataframe thead th {\n",
       "        text-align: right;\n",
       "    }\n",
       "</style>\n",
       "<table border=\"1\" class=\"dataframe\">\n",
       "  <thead>\n",
       "    <tr style=\"text-align: right;\">\n",
       "      <th></th>\n",
       "      <th>Unnamed: 0</th>\n",
       "      <th>account_length</th>\n",
       "      <th>area_code</th>\n",
       "      <th>international_plan</th>\n",
       "      <th>voice_mail_plan</th>\n",
       "      <th>number_vmail_messages</th>\n",
       "      <th>total_day_minutes</th>\n",
       "      <th>total_day_calls</th>\n",
       "      <th>total_day_charge</th>\n",
       "      <th>total_eve_minutes</th>\n",
       "      <th>total_eve_calls</th>\n",
       "      <th>total_eve_charge</th>\n",
       "      <th>total_night_minutes</th>\n",
       "      <th>total_night_calls</th>\n",
       "      <th>total_night_charge</th>\n",
       "      <th>total_intl_minutes</th>\n",
       "      <th>total_intl_calls</th>\n",
       "      <th>total_intl_charge</th>\n",
       "      <th>customer_service_calls</th>\n",
       "      <th>churn</th>\n",
       "    </tr>\n",
       "  </thead>\n",
       "  <tbody>\n",
       "    <tr>\n",
       "      <th>0</th>\n",
       "      <td>0</td>\n",
       "      <td>128</td>\n",
       "      <td>415</td>\n",
       "      <td>0</td>\n",
       "      <td>1</td>\n",
       "      <td>25</td>\n",
       "      <td>265.1</td>\n",
       "      <td>110</td>\n",
       "      <td>45.07</td>\n",
       "      <td>197.4</td>\n",
       "      <td>99</td>\n",
       "      <td>16.78</td>\n",
       "      <td>244.7</td>\n",
       "      <td>91</td>\n",
       "      <td>11.01</td>\n",
       "      <td>10.0</td>\n",
       "      <td>3</td>\n",
       "      <td>2.70</td>\n",
       "      <td>1</td>\n",
       "      <td>0</td>\n",
       "    </tr>\n",
       "    <tr>\n",
       "      <th>1</th>\n",
       "      <td>1</td>\n",
       "      <td>107</td>\n",
       "      <td>415</td>\n",
       "      <td>0</td>\n",
       "      <td>1</td>\n",
       "      <td>26</td>\n",
       "      <td>161.6</td>\n",
       "      <td>123</td>\n",
       "      <td>27.47</td>\n",
       "      <td>195.5</td>\n",
       "      <td>103</td>\n",
       "      <td>16.62</td>\n",
       "      <td>254.4</td>\n",
       "      <td>103</td>\n",
       "      <td>11.45</td>\n",
       "      <td>13.7</td>\n",
       "      <td>3</td>\n",
       "      <td>3.70</td>\n",
       "      <td>1</td>\n",
       "      <td>0</td>\n",
       "    </tr>\n",
       "    <tr>\n",
       "      <th>2</th>\n",
       "      <td>2</td>\n",
       "      <td>137</td>\n",
       "      <td>415</td>\n",
       "      <td>0</td>\n",
       "      <td>0</td>\n",
       "      <td>0</td>\n",
       "      <td>243.4</td>\n",
       "      <td>114</td>\n",
       "      <td>41.38</td>\n",
       "      <td>121.2</td>\n",
       "      <td>110</td>\n",
       "      <td>10.30</td>\n",
       "      <td>162.6</td>\n",
       "      <td>104</td>\n",
       "      <td>7.32</td>\n",
       "      <td>12.2</td>\n",
       "      <td>5</td>\n",
       "      <td>3.29</td>\n",
       "      <td>0</td>\n",
       "      <td>0</td>\n",
       "    </tr>\n",
       "    <tr>\n",
       "      <th>3</th>\n",
       "      <td>3</td>\n",
       "      <td>84</td>\n",
       "      <td>408</td>\n",
       "      <td>1</td>\n",
       "      <td>0</td>\n",
       "      <td>0</td>\n",
       "      <td>299.4</td>\n",
       "      <td>71</td>\n",
       "      <td>50.90</td>\n",
       "      <td>61.9</td>\n",
       "      <td>88</td>\n",
       "      <td>5.26</td>\n",
       "      <td>196.9</td>\n",
       "      <td>89</td>\n",
       "      <td>8.86</td>\n",
       "      <td>6.6</td>\n",
       "      <td>7</td>\n",
       "      <td>1.78</td>\n",
       "      <td>2</td>\n",
       "      <td>0</td>\n",
       "    </tr>\n",
       "    <tr>\n",
       "      <th>4</th>\n",
       "      <td>4</td>\n",
       "      <td>75</td>\n",
       "      <td>415</td>\n",
       "      <td>1</td>\n",
       "      <td>0</td>\n",
       "      <td>0</td>\n",
       "      <td>166.7</td>\n",
       "      <td>113</td>\n",
       "      <td>28.34</td>\n",
       "      <td>148.3</td>\n",
       "      <td>122</td>\n",
       "      <td>12.61</td>\n",
       "      <td>186.9</td>\n",
       "      <td>121</td>\n",
       "      <td>8.41</td>\n",
       "      <td>10.1</td>\n",
       "      <td>3</td>\n",
       "      <td>2.73</td>\n",
       "      <td>3</td>\n",
       "      <td>0</td>\n",
       "    </tr>\n",
       "  </tbody>\n",
       "</table>\n",
       "</div>"
      ],
      "text/plain": [
       "   Unnamed: 0  account_length  area_code  international_plan  voice_mail_plan  \\\n",
       "0           0             128        415                   0                1   \n",
       "1           1             107        415                   0                1   \n",
       "2           2             137        415                   0                0   \n",
       "3           3              84        408                   1                0   \n",
       "4           4              75        415                   1                0   \n",
       "\n",
       "   number_vmail_messages  total_day_minutes  total_day_calls  \\\n",
       "0                     25              265.1              110   \n",
       "1                     26              161.6              123   \n",
       "2                      0              243.4              114   \n",
       "3                      0              299.4               71   \n",
       "4                      0              166.7              113   \n",
       "\n",
       "   total_day_charge  total_eve_minutes  total_eve_calls  total_eve_charge  \\\n",
       "0             45.07              197.4               99             16.78   \n",
       "1             27.47              195.5              103             16.62   \n",
       "2             41.38              121.2              110             10.30   \n",
       "3             50.90               61.9               88              5.26   \n",
       "4             28.34              148.3              122             12.61   \n",
       "\n",
       "   total_night_minutes  total_night_calls  total_night_charge  \\\n",
       "0                244.7                 91               11.01   \n",
       "1                254.4                103               11.45   \n",
       "2                162.6                104                7.32   \n",
       "3                196.9                 89                8.86   \n",
       "4                186.9                121                8.41   \n",
       "\n",
       "   total_intl_minutes  total_intl_calls  total_intl_charge  \\\n",
       "0                10.0                 3               2.70   \n",
       "1                13.7                 3               3.70   \n",
       "2                12.2                 5               3.29   \n",
       "3                 6.6                 7               1.78   \n",
       "4                10.1                 3               2.73   \n",
       "\n",
       "   customer_service_calls  churn  \n",
       "0                       1      0  \n",
       "1                       1      0  \n",
       "2                       0      0  \n",
       "3                       2      0  \n",
       "4                       3      0  "
      ]
     },
     "execution_count": 67,
     "metadata": {},
     "output_type": "execute_result"
    }
   ],
   "source": [
    "churn_df = pd.read_csv('data/telecom_churn_clean.csv')\n",
    "churn_df.head()"
   ]
  },
  {
   "cell_type": "markdown",
   "id": "9c2a25da",
   "metadata": {
    "papermill": {
     "duration": 0.030385,
     "end_time": "2024-09-06T15:10:36.381422",
     "exception": false,
     "start_time": "2024-09-06T15:10:36.351037",
     "status": "completed"
    },
    "tags": []
   },
   "source": [
    "***Instructions***\n",
    "\n",
    "* Looking at this data, which column could be the target variable for binary classification?"
   ]
  },
  {
   "cell_type": "markdown",
   "id": "66c7bf11",
   "metadata": {
    "papermill": {
     "duration": 0.030267,
     "end_time": "2024-09-06T15:10:36.442470",
     "exception": false,
     "start_time": "2024-09-06T15:10:36.412203",
     "status": "completed"
    },
    "tags": []
   },
   "source": [
    "***Response***\n",
    "\n",
    "====> \"churn\""
   ]
  },
  {
   "cell_type": "markdown",
   "id": "ce77ec5d",
   "metadata": {
    "papermill": {
     "duration": 0.031134,
     "end_time": "2024-09-06T15:10:36.503624",
     "exception": false,
     "start_time": "2024-09-06T15:10:36.472490",
     "status": "completed"
    },
    "tags": []
   },
   "source": [
    "***Exercise : The supervised learning workflow***\n",
    "\n",
    "Recall that scikit-learn offers a repeatable workflow for using supervised learning models to predict the target variable values when presented with new data.\n",
    "\n",
    "Reorder the pseudo-code provided so it accurately represents the workflow of building a supervised learning model and making predictions."
   ]
  },
  {
   "cell_type": "markdown",
   "id": "b3b0cb2e",
   "metadata": {
    "papermill": {
     "duration": 0.036388,
     "end_time": "2024-09-06T15:10:36.577337",
     "exception": false,
     "start_time": "2024-09-06T15:10:36.540949",
     "status": "completed"
    },
    "tags": []
   },
   "source": [
    "***Instructions***\n",
    "\n",
    "* Drag the code blocks into the correct order to represent how a supervised learning workflow would be executed."
   ]
  },
  {
   "attachments": {
    "1de9dd29-7b8b-4a3e-bda4-470a875d4b66.png": {
     "image/png": "[encoded data removed]"
    }
   },
   "cell_type": "markdown",
   "id": "3c204afd",
   "metadata": {
    "papermill": {
     "duration": 0.030124,
     "end_time": "2024-09-06T15:10:36.642469",
     "exception": false,
     "start_time": "2024-09-06T15:10:36.612345",
     "status": "completed"
    },
    "tags": []
   },
   "source": [
    "***Answer***\n",
    "\n",
    "![Screenshot 2024-08-29 at 15.31.23.png](attachment:1de9dd29-7b8b-4a3e-bda4-470a875d4b66.png)"
   ]
  },
  {
   "cell_type": "markdown",
   "id": "84469db1",
   "metadata": {
    "papermill": {
     "duration": 0.034497,
     "end_time": "2024-09-06T15:10:36.767583",
     "exception": false,
     "start_time": "2024-09-06T15:10:36.733086",
     "status": "completed"
    },
    "tags": []
   },
   "source": [
    "## 1.2. The classification challenge"
   ]
  },
  {
   "cell_type": "markdown",
   "id": "cbaaebd1",
   "metadata": {
    "papermill": {
     "duration": 0.029703,
     "end_time": "2024-09-06T15:10:36.827573",
     "exception": false,
     "start_time": "2024-09-06T15:10:36.797870",
     "status": "completed"
    },
    "tags": []
   },
   "source": [
    "***Exercise : k-Nearest Neighbors: Fit***\n",
    "\n",
    "In this exercise, you will build your first classification model using the churn_df dataset, which has been preloaded for the remainder of the chapter.\n",
    "\n",
    "The target, \"**churn**\", needs to be a single column with the same number of observations as the feature data. The feature data has already been converted into numpy arrays.\n",
    "\n",
    "\"**account_length**\" and \"**customer_service_calls**\" are treated as **features** because account length indicates customer loyalty, and frequent customer service calls may signal dissatisfaction, both of which can be good predictors of churn."
   ]
  },
  {
   "cell_type": "markdown",
   "id": "adaa7ff7",
   "metadata": {
    "papermill": {
     "duration": 0.029725,
     "end_time": "2024-09-06T15:10:36.887475",
     "exception": false,
     "start_time": "2024-09-06T15:10:36.857750",
     "status": "completed"
    },
    "tags": []
   },
   "source": [
    "***Instructions***\n",
    "\n",
    "1. Import KNeighborsClassifier from sklearn.neighbors.\n",
    "2. Instantiate a KNeighborsClassifier called knn with 6 neighbors.\n",
    "3. Fit the classifier to the data using the .fit() method."
   ]
  },
  {
   "cell_type": "code",
   "execution_count": 68,
   "id": "eb1c45c3",
   "metadata": {
    "execution": {
     "iopub.execute_input": "2024-09-06T15:10:36.960524Z",
     "iopub.status.busy": "2024-09-06T15:10:36.960086Z",
     "iopub.status.idle": "2024-09-06T15:10:38.572634Z",
     "shell.execute_reply": "2024-09-06T15:10:38.571446Z"
    },
    "papermill": {
     "duration": 1.646759,
     "end_time": "2024-09-06T15:10:38.575233",
     "exception": false,
     "start_time": "2024-09-06T15:10:36.928474",
     "status": "completed"
    },
    "tags": []
   },
   "outputs": [
    {
     "name": "stdout",
     "output_type": "stream",
     "text": [
      "[0 0 0 ... 0 0 0]\n",
      "[[128   1]\n",
      " [107   1]\n",
      " [137   0]\n",
      " ...\n",
      " [ 28   2]\n",
      " [184   2]\n",
      " [ 74   0]]\n"
     ]
    },
    {
     "data": {
      "text/html": [
       "<style>#sk-container-id-3 {\n",
       "  /* Definition of color scheme common for light and dark mode */\n",
       "  --sklearn-color-text: #000;\n",
       "  --sklearn-color-text-muted: #666;\n",
       "  --sklearn-color-line: gray;\n",
       "  /* Definition of color scheme for unfitted estimators */\n",
       "  --sklearn-color-unfitted-level-0: #fff5e6;\n",
       "  --sklearn-color-unfitted-level-1: #f6e4d2;\n",
       "  --sklearn-color-unfitted-level-2: #ffe0b3;\n",
       "  --sklearn-color-unfitted-level-3: chocolate;\n",
       "  /* Definition of color scheme for fitted estimators */\n",
       "  --sklearn-color-fitted-level-0: #f0f8ff;\n",
       "  --sklearn-color-fitted-level-1: #d4ebff;\n",
       "  --sklearn-color-fitted-level-2: #b3dbfd;\n",
       "  --sklearn-color-fitted-level-3: cornflowerblue;\n",
       "\n",
       "  /* Specific color for light theme */\n",
       "  --sklearn-color-text-on-default-background: var(--sg-text-color, var(--theme-code-foreground, var(--jp-content-font-color1, black)));\n",
       "  --sklearn-color-background: var(--sg-background-color, var(--theme-background, var(--jp-layout-color0, white)));\n",
       "  --sklearn-color-border-box: var(--sg-text-color, var(--theme-code-foreground, var(--jp-content-font-color1, black)));\n",
       "  --sklearn-color-icon: #696969;\n",
       "\n",
       "  @media (prefers-color-scheme: dark) {\n",
       "    /* Redefinition of color scheme for dark theme */\n",
       "    --sklearn-color-text-on-default-background: var(--sg-text-color, var(--theme-code-foreground, var(--jp-content-font-color1, white)));\n",
       "    --sklearn-color-background: var(--sg-background-color, var(--theme-background, var(--jp-layout-color0, #111)));\n",
       "    --sklearn-color-border-box: var(--sg-text-color, var(--theme-code-foreground, var(--jp-content-font-color1, white)));\n",
       "    --sklearn-color-icon: #878787;\n",
       "  }\n",
       "}\n",
       "\n",
       "#sk-container-id-3 {\n",
       "  color: var(--sklearn-color-text);\n",
       "}\n",
       "\n",
       "#sk-container-id-3 pre {\n",
       "  padding: 0;\n",
       "}\n",
       "\n",
       "#sk-container-id-3 input.sk-hidden--visually {\n",
       "  border: 0;\n",
       "  clip: rect(1px 1px 1px 1px);\n",
       "  clip: rect(1px, 1px, 1px, 1px);\n",
       "  height: 1px;\n",
       "  margin: -1px;\n",
       "  overflow: hidden;\n",
       "  padding: 0;\n",
       "  position: absolute;\n",
       "  width: 1px;\n",
       "}\n",
       "\n",
       "#sk-container-id-3 div.sk-dashed-wrapped {\n",
       "  border: 1px dashed var(--sklearn-color-line);\n",
       "  margin: 0 0.4em 0.5em 0.4em;\n",
       "  box-sizing: border-box;\n",
       "  padding-bottom: 0.4em;\n",
       "  background-color: var(--sklearn-color-background);\n",
       "}\n",
       "\n",
       "#sk-container-id-3 div.sk-container {\n",
       "  /* jupyter's `normalize.less` sets `[hidden] { display: none; }`\n",
       "     but bootstrap.min.css set `[hidden] { display: none !important; }`\n",
       "     so we also need the `!important` here to be able to override the\n",
       "     default hidden behavior on the sphinx rendered scikit-learn.org.\n",
       "     See: https://github.com/scikit-learn/scikit-learn/issues/21755 */\n",
       "  display: inline-block !important;\n",
       "  position: relative;\n",
       "}\n",
       "\n",
       "#sk-container-id-3 div.sk-text-repr-fallback {\n",
       "  display: none;\n",
       "}\n",
       "\n",
       "div.sk-parallel-item,\n",
       "div.sk-serial,\n",
       "div.sk-item {\n",
       "  /* draw centered vertical line to link estimators */\n",
       "  background-image: linear-gradient(var(--sklearn-color-text-on-default-background), var(--sklearn-color-text-on-default-background));\n",
       "  background-size: 2px 100%;\n",
       "  background-repeat: no-repeat;\n",
       "  background-position: center center;\n",
       "}\n",
       "\n",
       "/* Parallel-specific style estimator block */\n",
       "\n",
       "#sk-container-id-3 div.sk-parallel-item::after {\n",
       "  content: \"\";\n",
       "  width: 100%;\n",
       "  border-bottom: 2px solid var(--sklearn-color-text-on-default-background);\n",
       "  flex-grow: 1;\n",
       "}\n",
       "\n",
       "#sk-container-id-3 div.sk-parallel {\n",
       "  display: flex;\n",
       "  align-items: stretch;\n",
       "  justify-content: center;\n",
       "  background-color: var(--sklearn-color-background);\n",
       "  position: relative;\n",
       "}\n",
       "\n",
       "#sk-container-id-3 div.sk-parallel-item {\n",
       "  display: flex;\n",
       "  flex-direction: column;\n",
       "}\n",
       "\n",
       "#sk-container-id-3 div.sk-parallel-item:first-child::after {\n",
       "  align-self: flex-end;\n",
       "  width: 50%;\n",
       "}\n",
       "\n",
       "#sk-container-id-3 div.sk-parallel-item:last-child::after {\n",
       "  align-self: flex-start;\n",
       "  width: 50%;\n",
       "}\n",
       "\n",
       "#sk-container-id-3 div.sk-parallel-item:only-child::after {\n",
       "  width: 0;\n",
       "}\n",
       "\n",
       "/* Serial-specific style estimator block */\n",
       "\n",
       "#sk-container-id-3 div.sk-serial {\n",
       "  display: flex;\n",
       "  flex-direction: column;\n",
       "  align-items: center;\n",
       "  background-color: var(--sklearn-color-background);\n",
       "  padding-right: 1em;\n",
       "  padding-left: 1em;\n",
       "}\n",
       "\n",
       "\n",
       "/* Toggleable style: style used for estimator/Pipeline/ColumnTransformer box that is\n",
       "clickable and can be expanded/collapsed.\n",
       "- Pipeline and ColumnTransformer use this feature and define the default style\n",
       "- Estimators will overwrite some part of the style using the `sk-estimator` class\n",
       "*/\n",
       "\n",
       "/* Pipeline and ColumnTransformer style (default) */\n",
       "\n",
       "#sk-container-id-3 div.sk-toggleable {\n",
       "  /* Default theme specific background. It is overwritten whether we have a\n",
       "  specific estimator or a Pipeline/ColumnTransformer */\n",
       "  background-color: var(--sklearn-color-background);\n",
       "}\n",
       "\n",
       "/* Toggleable label */\n",
       "#sk-container-id-3 label.sk-toggleable__label {\n",
       "  cursor: pointer;\n",
       "  display: flex;\n",
       "  width: 100%;\n",
       "  margin-bottom: 0;\n",
       "  padding: 0.5em;\n",
       "  box-sizing: border-box;\n",
       "  text-align: center;\n",
       "  align-items: start;\n",
       "  justify-content: space-between;\n",
       "  gap: 0.5em;\n",
       "}\n",
       "\n",
       "#sk-container-id-3 label.sk-toggleable__label .caption {\n",
       "  font-size: 0.6rem;\n",
       "  font-weight: lighter;\n",
       "  color: var(--sklearn-color-text-muted);\n",
       "}\n",
       "\n",
       "#sk-container-id-3 label.sk-toggleable__label-arrow:before {\n",
       "  /* Arrow on the left of the label */\n",
       "  content: \"▸\";\n",
       "  float: left;\n",
       "  margin-right: 0.25em;\n",
       "  color: var(--sklearn-color-icon);\n",
       "}\n",
       "\n",
       "#sk-container-id-3 label.sk-toggleable__label-arrow:hover:before {\n",
       "  color: var(--sklearn-color-text);\n",
       "}\n",
       "\n",
       "/* Toggleable content - dropdown */\n",
       "\n",
       "#sk-container-id-3 div.sk-toggleable__content {\n",
       "  display: none;\n",
       "  text-align: left;\n",
       "  /* unfitted */\n",
       "  background-color: var(--sklearn-color-unfitted-level-0);\n",
       "}\n",
       "\n",
       "#sk-container-id-3 div.sk-toggleable__content.fitted {\n",
       "  /* fitted */\n",
       "  background-color: var(--sklearn-color-fitted-level-0);\n",
       "}\n",
       "\n",
       "#sk-container-id-3 div.sk-toggleable__content pre {\n",
       "  margin: 0.2em;\n",
       "  border-radius: 0.25em;\n",
       "  color: var(--sklearn-color-text);\n",
       "  /* unfitted */\n",
       "  background-color: var(--sklearn-color-unfitted-level-0);\n",
       "}\n",
       "\n",
       "#sk-container-id-3 div.sk-toggleable__content.fitted pre {\n",
       "  /* unfitted */\n",
       "  background-color: var(--sklearn-color-fitted-level-0);\n",
       "}\n",
       "\n",
       "#sk-container-id-3 input.sk-toggleable__control:checked~div.sk-toggleable__content {\n",
       "  /* Expand drop-down */\n",
       "  display: block;\n",
       "  width: 100%;\n",
       "  overflow: visible;\n",
       "}\n",
       "\n",
       "#sk-container-id-3 input.sk-toggleable__control:checked~label.sk-toggleable__label-arrow:before {\n",
       "  content: \"▾\";\n",
       "}\n",
       "\n",
       "/* Pipeline/ColumnTransformer-specific style */\n",
       "\n",
       "#sk-container-id-3 div.sk-label input.sk-toggleable__control:checked~label.sk-toggleable__label {\n",
       "  color: var(--sklearn-color-text);\n",
       "  background-color: var(--sklearn-color-unfitted-level-2);\n",
       "}\n",
       "\n",
       "#sk-container-id-3 div.sk-label.fitted input.sk-toggleable__control:checked~label.sk-toggleable__label {\n",
       "  background-color: var(--sklearn-color-fitted-level-2);\n",
       "}\n",
       "\n",
       "/* Estimator-specific style */\n",
       "\n",
       "/* Colorize estimator box */\n",
       "#sk-container-id-3 div.sk-estimator input.sk-toggleable__control:checked~label.sk-toggleable__label {\n",
       "  /* unfitted */\n",
       "  background-color: var(--sklearn-color-unfitted-level-2);\n",
       "}\n",
       "\n",
       "#sk-container-id-3 div.sk-estimator.fitted input.sk-toggleable__control:checked~label.sk-toggleable__label {\n",
       "  /* fitted */\n",
       "  background-color: var(--sklearn-color-fitted-level-2);\n",
       "}\n",
       "\n",
       "#sk-container-id-3 div.sk-label label.sk-toggleable__label,\n",
       "#sk-container-id-3 div.sk-label label {\n",
       "  /* The background is the default theme color */\n",
       "  color: var(--sklearn-color-text-on-default-background);\n",
       "}\n",
       "\n",
       "/* On hover, darken the color of the background */\n",
       "#sk-container-id-3 div.sk-label:hover label.sk-toggleable__label {\n",
       "  color: var(--sklearn-color-text);\n",
       "  background-color: var(--sklearn-color-unfitted-level-2);\n",
       "}\n",
       "\n",
       "/* Label box, darken color on hover, fitted */\n",
       "#sk-container-id-3 div.sk-label.fitted:hover label.sk-toggleable__label.fitted {\n",
       "  color: var(--sklearn-color-text);\n",
       "  background-color: var(--sklearn-color-fitted-level-2);\n",
       "}\n",
       "\n",
       "/* Estimator label */\n",
       "\n",
       "#sk-container-id-3 div.sk-label label {\n",
       "  font-family: monospace;\n",
       "  font-weight: bold;\n",
       "  display: inline-block;\n",
       "  line-height: 1.2em;\n",
       "}\n",
       "\n",
       "#sk-container-id-3 div.sk-label-container {\n",
       "  text-align: center;\n",
       "}\n",
       "\n",
       "/* Estimator-specific */\n",
       "#sk-container-id-3 div.sk-estimator {\n",
       "  font-family: monospace;\n",
       "  border: 1px dotted var(--sklearn-color-border-box);\n",
       "  border-radius: 0.25em;\n",
       "  box-sizing: border-box;\n",
       "  margin-bottom: 0.5em;\n",
       "  /* unfitted */\n",
       "  background-color: var(--sklearn-color-unfitted-level-0);\n",
       "}\n",
       "\n",
       "#sk-container-id-3 div.sk-estimator.fitted {\n",
       "  /* fitted */\n",
       "  background-color: var(--sklearn-color-fitted-level-0);\n",
       "}\n",
       "\n",
       "/* on hover */\n",
       "#sk-container-id-3 div.sk-estimator:hover {\n",
       "  /* unfitted */\n",
       "  background-color: var(--sklearn-color-unfitted-level-2);\n",
       "}\n",
       "\n",
       "#sk-container-id-3 div.sk-estimator.fitted:hover {\n",
       "  /* fitted */\n",
       "  background-color: var(--sklearn-color-fitted-level-2);\n",
       "}\n",
       "\n",
       "/* Specification for estimator info (e.g. \"i\" and \"?\") */\n",
       "\n",
       "/* Common style for \"i\" and \"?\" */\n",
       "\n",
       ".sk-estimator-doc-link,\n",
       "a:link.sk-estimator-doc-link,\n",
       "a:visited.sk-estimator-doc-link {\n",
       "  float: right;\n",
       "  font-size: smaller;\n",
       "  line-height: 1em;\n",
       "  font-family: monospace;\n",
       "  background-color: var(--sklearn-color-background);\n",
       "  border-radius: 1em;\n",
       "  height: 1em;\n",
       "  width: 1em;\n",
       "  text-decoration: none !important;\n",
       "  margin-left: 0.5em;\n",
       "  text-align: center;\n",
       "  /* unfitted */\n",
       "  border: var(--sklearn-color-unfitted-level-1) 1pt solid;\n",
       "  color: var(--sklearn-color-unfitted-level-1);\n",
       "}\n",
       "\n",
       ".sk-estimator-doc-link.fitted,\n",
       "a:link.sk-estimator-doc-link.fitted,\n",
       "a:visited.sk-estimator-doc-link.fitted {\n",
       "  /* fitted */\n",
       "  border: var(--sklearn-color-fitted-level-1) 1pt solid;\n",
       "  color: var(--sklearn-color-fitted-level-1);\n",
       "}\n",
       "\n",
       "/* On hover */\n",
       "div.sk-estimator:hover .sk-estimator-doc-link:hover,\n",
       ".sk-estimator-doc-link:hover,\n",
       "div.sk-label-container:hover .sk-estimator-doc-link:hover,\n",
       ".sk-estimator-doc-link:hover {\n",
       "  /* unfitted */\n",
       "  background-color: var(--sklearn-color-unfitted-level-3);\n",
       "  color: var(--sklearn-color-background);\n",
       "  text-decoration: none;\n",
       "}\n",
       "\n",
       "div.sk-estimator.fitted:hover .sk-estimator-doc-link.fitted:hover,\n",
       ".sk-estimator-doc-link.fitted:hover,\n",
       "div.sk-label-container:hover .sk-estimator-doc-link.fitted:hover,\n",
       ".sk-estimator-doc-link.fitted:hover {\n",
       "  /* fitted */\n",
       "  background-color: var(--sklearn-color-fitted-level-3);\n",
       "  color: var(--sklearn-color-background);\n",
       "  text-decoration: none;\n",
       "}\n",
       "\n",
       "/* Span, style for the box shown on hovering the info icon */\n",
       ".sk-estimator-doc-link span {\n",
       "  display: none;\n",
       "  z-index: 9999;\n",
       "  position: relative;\n",
       "  font-weight: normal;\n",
       "  right: .2ex;\n",
       "  padding: .5ex;\n",
       "  margin: .5ex;\n",
       "  width: min-content;\n",
       "  min-width: 20ex;\n",
       "  max-width: 50ex;\n",
       "  color: var(--sklearn-color-text);\n",
       "  box-shadow: 2pt 2pt 4pt #999;\n",
       "  /* unfitted */\n",
       "  background: var(--sklearn-color-unfitted-level-0);\n",
       "  border: .5pt solid var(--sklearn-color-unfitted-level-3);\n",
       "}\n",
       "\n",
       ".sk-estimator-doc-link.fitted span {\n",
       "  /* fitted */\n",
       "  background: var(--sklearn-color-fitted-level-0);\n",
       "  border: var(--sklearn-color-fitted-level-3);\n",
       "}\n",
       "\n",
       ".sk-estimator-doc-link:hover span {\n",
       "  display: block;\n",
       "}\n",
       "\n",
       "/* \"?\"-specific style due to the `<a>` HTML tag */\n",
       "\n",
       "#sk-container-id-3 a.estimator_doc_link {\n",
       "  float: right;\n",
       "  font-size: 1rem;\n",
       "  line-height: 1em;\n",
       "  font-family: monospace;\n",
       "  background-color: var(--sklearn-color-background);\n",
       "  border-radius: 1rem;\n",
       "  height: 1rem;\n",
       "  width: 1rem;\n",
       "  text-decoration: none;\n",
       "  /* unfitted */\n",
       "  color: var(--sklearn-color-unfitted-level-1);\n",
       "  border: var(--sklearn-color-unfitted-level-1) 1pt solid;\n",
       "}\n",
       "\n",
       "#sk-container-id-3 a.estimator_doc_link.fitted {\n",
       "  /* fitted */\n",
       "  border: var(--sklearn-color-fitted-level-1) 1pt solid;\n",
       "  color: var(--sklearn-color-fitted-level-1);\n",
       "}\n",
       "\n",
       "/* On hover */\n",
       "#sk-container-id-3 a.estimator_doc_link:hover {\n",
       "  /* unfitted */\n",
       "  background-color: var(--sklearn-color-unfitted-level-3);\n",
       "  color: var(--sklearn-color-background);\n",
       "  text-decoration: none;\n",
       "}\n",
       "\n",
       "#sk-container-id-3 a.estimator_doc_link.fitted:hover {\n",
       "  /* fitted */\n",
       "  background-color: var(--sklearn-color-fitted-level-3);\n",
       "}\n",
       "\n",
       ".estimator-table summary {\n",
       "    padding: .5rem;\n",
       "    font-family: monospace;\n",
       "    cursor: pointer;\n",
       "}\n",
       "\n",
       ".estimator-table details[open] {\n",
       "    padding-left: 0.1rem;\n",
       "    padding-right: 0.1rem;\n",
       "    padding-bottom: 0.3rem;\n",
       "}\n",
       "\n",
       ".estimator-table .parameters-table {\n",
       "    margin-left: auto !important;\n",
       "    margin-right: auto !important;\n",
       "}\n",
       "\n",
       ".estimator-table .parameters-table tr:nth-child(odd) {\n",
       "    background-color: #fff;\n",
       "}\n",
       "\n",
       ".estimator-table .parameters-table tr:nth-child(even) {\n",
       "    background-color: #f6f6f6;\n",
       "}\n",
       "\n",
       ".estimator-table .parameters-table tr:hover {\n",
       "    background-color: #e0e0e0;\n",
       "}\n",
       "\n",
       ".estimator-table table td {\n",
       "    border: 1px solid rgba(106, 105, 104, 0.232);\n",
       "}\n",
       "\n",
       ".user-set td {\n",
       "    color:rgb(255, 94, 0);\n",
       "    text-align: left;\n",
       "}\n",
       "\n",
       ".user-set td.value pre {\n",
       "    color:rgb(255, 94, 0) !important;\n",
       "    background-color: transparent !important;\n",
       "}\n",
       "\n",
       ".default td {\n",
       "    color: black;\n",
       "    text-align: left;\n",
       "}\n",
       "\n",
       ".user-set td i,\n",
       ".default td i {\n",
       "    color: black;\n",
       "}\n",
       "\n",
       ".copy-paste-icon {\n",
       "    background-image: url(data:image/svg+xml;base64,PHN2ZyB4bWxucz0iaHR0cDovL3d3dy53My5vcmcvMjAwMC9zdmciIHZpZXdCb3g9IjAgMCA0NDggNTEyIj48IS0tIUZvbnQgQXdlc29tZSBGcmVlIDYuNy4yIGJ5IEBmb250YXdlc29tZSAtIGh0dHBzOi8vZm9udGF3ZXNvbWUuY29tIExpY2Vuc2UgLSBodHRwczovL2ZvbnRhd2Vzb21lLmNvbS9saWNlbnNlL2ZyZWUgQ29weXJpZ2h0IDIwMjUgRm9udGljb25zLCBJbmMuLS0+PHBhdGggZD0iTTIwOCAwTDMzMi4xIDBjMTIuNyAwIDI0LjkgNS4xIDMzLjkgMTQuMWw2Ny45IDY3LjljOSA5IDE0LjEgMjEuMiAxNC4xIDMzLjlMNDQ4IDMzNmMwIDI2LjUtMjEuNSA0OC00OCA0OGwtMTkyIDBjLTI2LjUgMC00OC0yMS41LTQ4LTQ4bDAtMjg4YzAtMjYuNSAyMS41LTQ4IDQ4LTQ4ek00OCAxMjhsODAgMCAwIDY0LTY0IDAgMCAyNTYgMTkyIDAgMC0zMiA2NCAwIDAgNDhjMCAyNi41LTIxLjUgNDgtNDggNDhMNDggNTEyYy0yNi41IDAtNDgtMjEuNS00OC00OEwwIDE3NmMwLTI2LjUgMjEuNS00OCA0OC00OHoiLz48L3N2Zz4=);\n",
       "    background-repeat: no-repeat;\n",
       "    background-size: 14px 14px;\n",
       "    background-position: 0;\n",
       "    display: inline-block;\n",
       "    width: 14px;\n",
       "    height: 14px;\n",
       "    cursor: pointer;\n",
       "}\n",
       "</style><body><div id=\"sk-container-id-3\" class=\"sk-top-container\"><div class=\"sk-text-repr-fallback\"><pre>KNeighborsClassifier(n_neighbors=6)</pre><b>In a Jupyter environment, please rerun this cell to show the HTML representation or trust the notebook. <br />On GitHub, the HTML representation is unable to render, please try loading this page with nbviewer.org.</b></div><div class=\"sk-container\" hidden><div class=\"sk-item\"><div class=\"sk-estimator fitted sk-toggleable\"><input class=\"sk-toggleable__control sk-hidden--visually\" id=\"sk-estimator-id-3\" type=\"checkbox\" checked><label for=\"sk-estimator-id-3\" class=\"sk-toggleable__label fitted sk-toggleable__label-arrow\"><div><div>KNeighborsClassifier</div></div><div><a class=\"sk-estimator-doc-link fitted\" rel=\"noreferrer\" target=\"_blank\" href=\"https://scikit-learn.org/1.7/modules/generated/sklearn.neighbors.KNeighborsClassifier.html\">?<span>Documentation for KNeighborsClassifier</span></a><span class=\"sk-estimator-doc-link fitted\">i<span>Fitted</span></span></div></label><div class=\"sk-toggleable__content fitted\" data-param-prefix=\"\">\n",
       "        <div class=\"estimator-table\">\n",
       "            <details>\n",
       "                <summary>Parameters</summary>\n",
       "                <table class=\"parameters-table\">\n",
       "                  <tbody>\n",
       "                    \n",
       "        <tr class=\"user-set\">\n",
       "            <td><i class=\"copy-paste-icon\"\n",
       "                 onclick=\"copyToClipboard('n_neighbors',\n",
       "                          this.parentElement.nextElementSibling)\"\n",
       "            ></i></td>\n",
       "            <td class=\"param\">n_neighbors&nbsp;</td>\n",
       "            <td class=\"value\">6</td>\n",
       "        </tr>\n",
       "    \n",
       "\n",
       "        <tr class=\"default\">\n",
       "            <td><i class=\"copy-paste-icon\"\n",
       "                 onclick=\"copyToClipboard('weights',\n",
       "                          this.parentElement.nextElementSibling)\"\n",
       "            ></i></td>\n",
       "            <td class=\"param\">weights&nbsp;</td>\n",
       "            <td class=\"value\">&#x27;uniform&#x27;</td>\n",
       "        </tr>\n",
       "    \n",
       "\n",
       "        <tr class=\"default\">\n",
       "            <td><i class=\"copy-paste-icon\"\n",
       "                 onclick=\"copyToClipboard('algorithm',\n",
       "                          this.parentElement.nextElementSibling)\"\n",
       "            ></i></td>\n",
       "            <td class=\"param\">algorithm&nbsp;</td>\n",
       "            <td class=\"value\">&#x27;auto&#x27;</td>\n",
       "        </tr>\n",
       "    \n",
       "\n",
       "        <tr class=\"default\">\n",
       "            <td><i class=\"copy-paste-icon\"\n",
       "                 onclick=\"copyToClipboard('leaf_size',\n",
       "                          this.parentElement.nextElementSibling)\"\n",
       "            ></i></td>\n",
       "            <td class=\"param\">leaf_size&nbsp;</td>\n",
       "            <td class=\"value\">30</td>\n",
       "        </tr>\n",
       "    \n",
       "\n",
       "        <tr class=\"default\">\n",
       "            <td><i class=\"copy-paste-icon\"\n",
       "                 onclick=\"copyToClipboard('p',\n",
       "                          this.parentElement.nextElementSibling)\"\n",
       "            ></i></td>\n",
       "            <td class=\"param\">p&nbsp;</td>\n",
       "            <td class=\"value\">2</td>\n",
       "        </tr>\n",
       "    \n",
       "\n",
       "        <tr class=\"default\">\n",
       "            <td><i class=\"copy-paste-icon\"\n",
       "                 onclick=\"copyToClipboard('metric',\n",
       "                          this.parentElement.nextElementSibling)\"\n",
       "            ></i></td>\n",
       "            <td class=\"param\">metric&nbsp;</td>\n",
       "            <td class=\"value\">&#x27;minkowski&#x27;</td>\n",
       "        </tr>\n",
       "    \n",
       "\n",
       "        <tr class=\"default\">\n",
       "            <td><i class=\"copy-paste-icon\"\n",
       "                 onclick=\"copyToClipboard('metric_params',\n",
       "                          this.parentElement.nextElementSibling)\"\n",
       "            ></i></td>\n",
       "            <td class=\"param\">metric_params&nbsp;</td>\n",
       "            <td class=\"value\">None</td>\n",
       "        </tr>\n",
       "    \n",
       "\n",
       "        <tr class=\"default\">\n",
       "            <td><i class=\"copy-paste-icon\"\n",
       "                 onclick=\"copyToClipboard('n_jobs',\n",
       "                          this.parentElement.nextElementSibling)\"\n",
       "            ></i></td>\n",
       "            <td class=\"param\">n_jobs&nbsp;</td>\n",
       "            <td class=\"value\">None</td>\n",
       "        </tr>\n",
       "    \n",
       "                  </tbody>\n",
       "                </table>\n",
       "            </details>\n",
       "        </div>\n",
       "    </div></div></div></div></div><script>function copyToClipboard(text, element) {\n",
       "    // Get the parameter prefix from the closest toggleable content\n",
       "    const toggleableContent = element.closest('.sk-toggleable__content');\n",
       "    const paramPrefix = toggleableContent ? toggleableContent.dataset.paramPrefix : '';\n",
       "    const fullParamName = paramPrefix ? `${paramPrefix}${text}` : text;\n",
       "\n",
       "    const originalStyle = element.style;\n",
       "    const computedStyle = window.getComputedStyle(element);\n",
       "    const originalWidth = computedStyle.width;\n",
       "    const originalHTML = element.innerHTML.replace('Copied!', '');\n",
       "\n",
       "    navigator.clipboard.writeText(fullParamName)\n",
       "        .then(() => {\n",
       "            element.style.width = originalWidth;\n",
       "            element.style.color = 'green';\n",
       "            element.innerHTML = \"Copied!\";\n",
       "\n",
       "            setTimeout(() => {\n",
       "                element.innerHTML = originalHTML;\n",
       "                element.style = originalStyle;\n",
       "            }, 2000);\n",
       "        })\n",
       "        .catch(err => {\n",
       "            console.error('Failed to copy:', err);\n",
       "            element.style.color = 'red';\n",
       "            element.innerHTML = \"Failed!\";\n",
       "            setTimeout(() => {\n",
       "                element.innerHTML = originalHTML;\n",
       "                element.style = originalStyle;\n",
       "            }, 2000);\n",
       "        });\n",
       "    return false;\n",
       "}\n",
       "\n",
       "document.querySelectorAll('.fa-regular.fa-copy').forEach(function(element) {\n",
       "    const toggleableContent = element.closest('.sk-toggleable__content');\n",
       "    const paramPrefix = toggleableContent ? toggleableContent.dataset.paramPrefix : '';\n",
       "    const paramName = element.parentElement.nextElementSibling.textContent.trim();\n",
       "    const fullParamName = paramPrefix ? `${paramPrefix}${paramName}` : paramName;\n",
       "\n",
       "    element.setAttribute('title', fullParamName);\n",
       "});\n",
       "</script></body>"
      ],
      "text/plain": [
       "KNeighborsClassifier(n_neighbors=6)"
      ]
     },
     "execution_count": 68,
     "metadata": {},
     "output_type": "execute_result"
    }
   ],
   "source": [
    "# Import KNeighborsClassifier\n",
    "from sklearn.neighbors import KNeighborsClassifier \n",
    "\n",
    "y = churn_df[\"churn\"].values\n",
    "print(y)\n",
    "X = churn_df[[\"account_length\", \"customer_service_calls\"]].values\n",
    "print(X)\n",
    "\n",
    "# Create a KNN classifier with 6 neighbors\n",
    "knn = KNeighborsClassifier(n_neighbors=6)\n",
    "\n",
    "# Fit the classifier to the data\n",
    "knn.fit(X, y)"
   ]
  },
  {
   "cell_type": "markdown",
   "id": "89f8d962",
   "metadata": {
    "papermill": {
     "duration": 0.030384,
     "end_time": "2024-09-06T15:10:38.636671",
     "exception": false,
     "start_time": "2024-09-06T15:10:38.606287",
     "status": "completed"
    },
    "tags": []
   },
   "source": [
    "***Exercise : k-Nearest Neighbors: Predict***\n",
    "\n",
    "Now you have fit a KNN classifier, you can use it to predict the label of new data points. All available data was used for training, however, fortunately, there are new observations available. These have been preloaded for you as X_new.\n",
    "\n",
    "The model knn, which you created and fit the data in the last exercise, has been preloaded for you. You will use your classifier to predict the labels of a set of new data points:\n",
    "\n",
    "**X_new = np.array([[30.0, 17.5],\n",
    "                  [107.0, 24.1],\n",
    "                  [213.0, 10.9]])**"
   ]
  },
  {
   "cell_type": "markdown",
   "id": "3e407edc",
   "metadata": {
    "papermill": {
     "duration": 0.029935,
     "end_time": "2024-09-06T15:10:38.697120",
     "exception": false,
     "start_time": "2024-09-06T15:10:38.667185",
     "status": "completed"
    },
    "tags": []
   },
   "source": [
    "***Instructions***\n",
    "\n",
    "1. Create y_pred by predicting the target values of the unseen features X_new using the knn model.\n",
    "2. Print the predicted labels for the set of predictions."
   ]
  },
  {
   "cell_type": "code",
   "execution_count": 69,
   "id": "bc76e0db",
   "metadata": {
    "execution": {
     "iopub.execute_input": "2024-09-06T15:10:38.759672Z",
     "iopub.status.busy": "2024-09-06T15:10:38.759091Z",
     "iopub.status.idle": "2024-09-06T15:10:38.769427Z",
     "shell.execute_reply": "2024-09-06T15:10:38.768292Z"
    },
    "papermill": {
     "duration": 0.044078,
     "end_time": "2024-09-06T15:10:38.771584",
     "exception": false,
     "start_time": "2024-09-06T15:10:38.727506",
     "status": "completed"
    },
    "tags": []
   },
   "outputs": [
    {
     "name": "stdout",
     "output_type": "stream",
     "text": [
      "Predictions: [0 1 0]\n"
     ]
    }
   ],
   "source": [
    "X_new = np.array([[30.0, 17.5],\n",
    "                  [107.0, 24.1],\n",
    "                  [213.0, 10.9]])\n",
    "\n",
    "# Predict the labels for the X_new\n",
    "y_pred = knn.predict(X_new)\n",
    "\n",
    "# Print the predictions\n",
    "print(\"Predictions: {}\".format(y_pred)) "
   ]
  },
  {
   "cell_type": "code",
   "execution_count": 70,
   "id": "0555cced",
   "metadata": {
    "execution": {
     "iopub.execute_input": "2024-09-06T15:10:38.835458Z",
     "iopub.status.busy": "2024-09-06T15:10:38.835032Z",
     "iopub.status.idle": "2024-09-06T15:10:38.846028Z",
     "shell.execute_reply": "2024-09-06T15:10:38.844825Z"
    },
    "papermill": {
     "duration": 0.045213,
     "end_time": "2024-09-06T15:10:38.848329",
     "exception": false,
     "start_time": "2024-09-06T15:10:38.803116",
     "status": "completed"
    },
    "tags": []
   },
   "outputs": [
    {
     "name": "stdout",
     "output_type": "stream",
     "text": [
      "Predictions: [0 0 0 0 0 1 0]\n"
     ]
    }
   ],
   "source": [
    "X1_new = np.array([[30.0, 17.5],\n",
    "                  [17.0, 25.1],\n",
    "                  [147.0, 75.1],\n",
    "                  [157.0, 85.1],\n",
    "                  [57.0, 25.1],\n",
    "                  [107.0, 24.1],\n",
    "                  [213.0, 10.9]])\n",
    "\n",
    "# Predict the labels for the X_new\n",
    "y1_pred = knn.predict(X1_new)\n",
    "\n",
    "# Print the predictions\n",
    "print(\"Predictions: {}\".format(y1_pred)) "
   ]
  },
  {
   "cell_type": "markdown",
   "id": "80c42425",
   "metadata": {
    "papermill": {
     "duration": 0.030254,
     "end_time": "2024-09-06T15:10:38.909544",
     "exception": false,
     "start_time": "2024-09-06T15:10:38.879290",
     "status": "completed"
    },
    "tags": []
   },
   "source": [
    "## 1.3. Measuring model performance"
   ]
  },
  {
   "cell_type": "markdown",
   "id": "35a7211d",
   "metadata": {
    "papermill": {
     "duration": 0.030325,
     "end_time": "2024-09-06T15:10:38.970711",
     "exception": false,
     "start_time": "2024-09-06T15:10:38.940386",
     "status": "completed"
    },
    "tags": []
   },
   "source": [
    "***Exercise : Train/test split + computing accuracy***\n",
    "\n",
    "It's time to practice splitting your data into training and test sets with the **churn_df** dataset!\n",
    "\n",
    "NumPy arrays have been created for you containing **the features as X** and **the target variable as y**."
   ]
  },
  {
   "cell_type": "markdown",
   "id": "8b227237",
   "metadata": {
    "papermill": {
     "duration": 0.030741,
     "end_time": "2024-09-06T15:10:39.032090",
     "exception": false,
     "start_time": "2024-09-06T15:10:39.001349",
     "status": "completed"
    },
    "tags": []
   },
   "source": [
    "***Instructions***\n",
    "\n",
    "1. Import train_test_split from sklearn.model_selection.\n",
    "2. Split X and y into training and test sets, setting test_size equal to 20%, random_state to 42, and ensuring the target label proportions reflect that of the original dataset.\n",
    "3. Fit the knn model to the training data.\n",
    "4. Compute and print the model's accuracy for the test data."
   ]
  },
  {
   "cell_type": "code",
   "execution_count": 71,
   "id": "6e11cf36",
   "metadata": {
    "execution": {
     "iopub.execute_input": "2024-09-06T15:10:39.095967Z",
     "iopub.status.busy": "2024-09-06T15:10:39.095583Z",
     "iopub.status.idle": "2024-09-06T15:10:39.192267Z",
     "shell.execute_reply": "2024-09-06T15:10:39.190918Z"
    },
    "papermill": {
     "duration": 0.132013,
     "end_time": "2024-09-06T15:10:39.194869",
     "exception": false,
     "start_time": "2024-09-06T15:10:39.062856",
     "status": "completed"
    },
    "tags": []
   },
   "outputs": [
    {
     "name": "stdout",
     "output_type": "stream",
     "text": [
      "0.8545727136431784\n"
     ]
    }
   ],
   "source": [
    "# Import the module\n",
    "from sklearn.model_selection import train_test_split\n",
    "\n",
    "X = churn_df.drop(\"churn\", axis=1).values\n",
    "y = churn_df[\"churn\"].values\n",
    "\n",
    "# Split into training and test sets\n",
    "X_train, X_test, y_train, y_test = train_test_split(X, y, test_size=0.2, random_state=42, stratify=y)\n",
    "knn = KNeighborsClassifier(n_neighbors=5)\n",
    "\n",
    "# Fit the classifier to the training data\n",
    "knn.fit(X_train, y_train)\n",
    "\n",
    "# Print the accuracy\n",
    "print(knn.score(X_test, y_test))"
   ]
  },
  {
   "cell_type": "markdown",
   "id": "93718542",
   "metadata": {
    "papermill": {
     "duration": 0.031943,
     "end_time": "2024-09-06T15:10:39.258242",
     "exception": false,
     "start_time": "2024-09-06T15:10:39.226299",
     "status": "completed"
    },
    "tags": []
   },
   "source": [
    "***Exercise : Overfitting and underfitting***\n",
    "\n",
    "Interpreting model complexity is a great way to evaluate supervised learning performance. Your aim is to produce a model that can interpret the relationship between features and the target variable, as well as generalize well when exposed to new observations.\n",
    "\n",
    "The training and test sets have been created from the **churn_df** dataset and preloaded as **X_train**, **X_test**, **y_train**, and **y_test**.\n",
    "\n",
    "In addition, **KNeighborsClassifier** has been imported for you along with numpy as np."
   ]
  },
  {
   "cell_type": "markdown",
   "id": "16482576",
   "metadata": {
    "papermill": {
     "duration": 0.030588,
     "end_time": "2024-09-06T15:10:39.320206",
     "exception": false,
     "start_time": "2024-09-06T15:10:39.289618",
     "status": "completed"
    },
    "tags": []
   },
   "source": [
    "***Instructions***\n",
    "\n",
    "1. Create neighbors as a numpy array of values from 1 up to and including 12.\n",
    "2. Instantiate a KNeighborsClassifier, with the number of neighbors equal to the neighbor iterator.\n",
    "3. Fit the model to the training data.\n",
    "4. Calculate accuracy scores for the training set and test set separately using the .score() method, and assign the results to the train_accuracies and test_accuracies dictionaries, respectively, utilizing the neighbor iterator as the index."
   ]
  },
  {
   "cell_type": "code",
   "execution_count": 72,
   "id": "a4b18b1a",
   "metadata": {
    "execution": {
     "iopub.execute_input": "2024-09-06T15:10:39.383820Z",
     "iopub.status.busy": "2024-09-06T15:10:39.383438Z",
     "iopub.status.idle": "2024-09-06T15:10:41.662885Z",
     "shell.execute_reply": "2024-09-06T15:10:41.661747Z"
    },
    "papermill": {
     "duration": 2.314514,
     "end_time": "2024-09-06T15:10:41.665494",
     "exception": false,
     "start_time": "2024-09-06T15:10:39.350980",
     "status": "completed"
    },
    "tags": []
   },
   "outputs": [
    {
     "name": "stdout",
     "output_type": "stream",
     "text": [
      "[ 1  2  3  4  5  6  7  8  9 10 11 12] \n",
      " {np.int64(1): 1.0, np.int64(2): 0.8885971492873218, np.int64(3): 0.8994748687171793, np.int64(4): 0.8750937734433608, np.int64(5): 0.878469617404351, np.int64(6): 0.8660915228807202, np.int64(7): 0.8705926481620405, np.int64(8): 0.8615903975993998, np.int64(9): 0.86384096024006, np.int64(10): 0.858589647411853, np.int64(11): 0.8604651162790697, np.int64(12): 0.8574643660915229} \n",
      " {np.int64(1): 0.7856071964017991, np.int64(2): 0.8470764617691154, np.int64(3): 0.8320839580209896, np.int64(4): 0.856071964017991, np.int64(5): 0.8545727136431784, np.int64(6): 0.8590704647676162, np.int64(7): 0.8605697151424287, np.int64(8): 0.8620689655172413, np.int64(9): 0.863568215892054, np.int64(10): 0.8605697151424287, np.int64(11): 0.8605697151424287, np.int64(12): 0.8605697151424287}\n"
     ]
    }
   ],
   "source": [
    "# Create neighbors\n",
    "neighbors = np.arange(1, 13)\n",
    "train_accuracies = {}\n",
    "test_accuracies = {}\n",
    "\n",
    "for neighbor in neighbors:\n",
    "  \n",
    "    # Set up a KNN Classifier\n",
    "    knn = KNeighborsClassifier(n_neighbors=neighbor)\n",
    "  \n",
    "    # Fit the model\n",
    "    knn.fit(X_train, y_train)\n",
    "  \n",
    "    # Compute accuracy\n",
    "    train_accuracies[neighbor] = knn.score(X_train, y_train)\n",
    "    test_accuracies[neighbor] = knn.score(X_test, y_test)\n",
    "print(neighbors, '\\n', train_accuracies, '\\n', test_accuracies)"
   ]
  },
  {
   "cell_type": "markdown",
   "id": "e033d84f",
   "metadata": {
    "papermill": {
     "duration": 0.030314,
     "end_time": "2024-09-06T15:10:41.726695",
     "exception": false,
     "start_time": "2024-09-06T15:10:41.696381",
     "status": "completed"
    },
    "tags": []
   },
   "source": [
    "***Exercise : Visualizing model complexity***\n",
    "\n",
    "Now you have calculated the accuracy of the KNN model on the training and test sets using various values of n_neighbors, you can create a model complexity curve to visualize how performance changes as the model becomes less complex!\n",
    "\n",
    "The variables **neighbors**, **train_accuracies**, and **test_accuracies**, which you generated in the previous exercise, have all been preloaded for you. You will plot the results to aid in finding the optimal number of neighbors for your model."
   ]
  },
  {
   "cell_type": "markdown",
   "id": "68b8f6c9",
   "metadata": {
    "papermill": {
     "duration": 0.030214,
     "end_time": "2024-09-06T15:10:41.787671",
     "exception": false,
     "start_time": "2024-09-06T15:10:41.757457",
     "status": "completed"
    },
    "tags": []
   },
   "source": [
    "***Instructions***\n",
    "\n",
    "* Add a title \"KNN: Varying Number of Neighbors\".\n",
    "* Plot the .values() method of train_accuracies on the y-axis against neighbors on the x-axis, with a label of \"Training Accuracy\".\n",
    "* Plot the .values() method of test_accuracies on the y-axis against neighbors on the x-axis, with a label of \"Testing Accuracy\".\n",
    "* Display the plot."
   ]
  },
  {
   "cell_type": "code",
   "execution_count": 73,
   "id": "4915379c",
   "metadata": {
    "execution": {
     "iopub.execute_input": "2024-09-06T15:10:41.850982Z",
     "iopub.status.busy": "2024-09-06T15:10:41.850242Z",
     "iopub.status.idle": "2024-09-06T15:10:42.148158Z",
     "shell.execute_reply": "2024-09-06T15:10:42.146992Z"
    },
    "papermill": {
     "duration": 0.332582,
     "end_time": "2024-09-06T15:10:42.150785",
     "exception": false,
     "start_time": "2024-09-06T15:10:41.818203",
     "status": "completed"
    },
    "tags": []
   },
   "outputs": [
    {
     "data": {
      "image/png": "[encoded data removed]",
      "text/plain": [
       "<Figure size 640x480 with 1 Axes>"
      ]
     },
     "metadata": {},
     "output_type": "display_data"
    }
   ],
   "source": [
    "# Add a title\n",
    "plt.title(\"KNN: Varying Number of Neighbors\")\n",
    "\n",
    "# Plot training accuracies\n",
    "plt.plot(neighbors, train_accuracies.values(), label=\"Training Accuracy\")\n",
    "\n",
    "# Plot test accuracies\n",
    "plt.plot(neighbors, test_accuracies.values(), label=\"Testing Accuracy\")\n",
    "\n",
    "plt.legend()\n",
    "plt.xlabel(\"Number of Neighbors\")\n",
    "plt.ylabel(\"Accuracy\")\n",
    "\n",
    "# Display the plot\n",
    "plt.show()"
   ]
  },
  {
   "cell_type": "markdown",
   "id": "9e5234c4",
   "metadata": {
    "papermill": {
     "duration": 0.031895,
     "end_time": "2024-09-06T15:10:42.215750",
     "exception": false,
     "start_time": "2024-09-06T15:10:42.183855",
     "status": "completed"
    },
    "tags": []
   },
   "source": [
    "# Chapter-2: Regression\n",
    "\n",
    "In this chapter, you will be introduced to regression, and build models to predict sales values using a dataset on advertising expenditure. You will learn about the mechanics of linear regression and common performance metrics such as R-squared and root mean squared error. You will perform k-fold cross-validation, and apply regularization to regression models to reduce the risk of overfitting."
   ]
  },
  {
   "cell_type": "markdown",
   "id": "71a96e9e",
   "metadata": {
    "papermill": {
     "duration": 0.031804,
     "end_time": "2024-09-06T15:10:42.280209",
     "exception": false,
     "start_time": "2024-09-06T15:10:42.248405",
     "status": "completed"
    },
    "tags": []
   },
   "source": [
    "## 2.1. Introduction to regression\n"
   ]
  },
  {
   "attachments": {
    "9b771586-d814-4f6f-9565-5a5e01722d58.png": {
     "image/png": "[encoded data removed]"
    }
   },
   "cell_type": "markdown",
   "id": "6158276c",
   "metadata": {
    "papermill": {
     "duration": 0.031091,
     "end_time": "2024-09-06T15:10:42.343252",
     "exception": false,
     "start_time": "2024-09-06T15:10:42.312161",
     "status": "completed"
    },
    "tags": []
   },
   "source": [
    "***Exercise : Creating features***\n",
    "\n",
    "In this chapter, you will work with a dataset called sales_df, which contains information on advertising campaign expenditure across different media types, and the number of dollars generated in sales for the respective campaign. The dataset has been preloaded for you. Here are the first two rows:\n",
    "\n",
    "![Screenshot 2024-08-30 at 01.04.19.png](attachment:9b771586-d814-4f6f-9565-5a5e01722d58.png)\n",
    "\n",
    "You will use the advertising expenditure as features to predict **sales** values, initially working with the \"**radio**\" column. However, before you make any predictions you will need to create the feature and target arrays, reshaping them to the correct format for scikit-learn."
   ]
  },
  {
   "cell_type": "markdown",
   "id": "43c7fbba",
   "metadata": {
    "papermill": {
     "duration": 0.031602,
     "end_time": "2024-09-06T15:10:42.406670",
     "exception": false,
     "start_time": "2024-09-06T15:10:42.375068",
     "status": "completed"
    },
    "tags": []
   },
   "source": [
    "***Instructions***\n",
    "\n",
    "* Create X, an array of the values from the sales_df DataFrame's \"radio\" column.\n",
    "* Create y, an array of the values from the sales_df DataFrame's \"sales\" column.\n",
    "* Reshape X into a two-dimensional NumPy array.\n",
    "* Print the shape of X and y."
   ]
  },
  {
   "cell_type": "code",
   "execution_count": 74,
   "id": "730e4537",
   "metadata": {
    "execution": {
     "iopub.execute_input": "2024-09-06T15:10:42.471863Z",
     "iopub.status.busy": "2024-09-06T15:10:42.470841Z",
     "iopub.status.idle": "2024-09-06T15:10:42.501759Z",
     "shell.execute_reply": "2024-09-06T15:10:42.500531Z"
    },
    "papermill": {
     "duration": 0.066133,
     "end_time": "2024-09-06T15:10:42.504213",
     "exception": false,
     "start_time": "2024-09-06T15:10:42.438080",
     "status": "completed"
    },
    "tags": []
   },
   "outputs": [
    {
     "data": {
      "text/html": [
       "<div>\n",
       "<style scoped>\n",
       "    .dataframe tbody tr th:only-of-type {\n",
       "        vertical-align: middle;\n",
       "    }\n",
       "\n",
       "    .dataframe tbody tr th {\n",
       "        vertical-align: top;\n",
       "    }\n",
       "\n",
       "    .dataframe thead th {\n",
       "        text-align: right;\n",
       "    }\n",
       "</style>\n",
       "<table border=\"1\" class=\"dataframe\">\n",
       "  <thead>\n",
       "    <tr style=\"text-align: right;\">\n",
       "      <th></th>\n",
       "      <th>tv</th>\n",
       "      <th>radio</th>\n",
       "      <th>social_media</th>\n",
       "      <th>sales</th>\n",
       "    </tr>\n",
       "  </thead>\n",
       "  <tbody>\n",
       "    <tr>\n",
       "      <th>0</th>\n",
       "      <td>16000.0</td>\n",
       "      <td>6566.23</td>\n",
       "      <td>2907.98</td>\n",
       "      <td>54732.76</td>\n",
       "    </tr>\n",
       "    <tr>\n",
       "      <th>1</th>\n",
       "      <td>13000.0</td>\n",
       "      <td>9237.76</td>\n",
       "      <td>2409.57</td>\n",
       "      <td>46677.90</td>\n",
       "    </tr>\n",
       "    <tr>\n",
       "      <th>2</th>\n",
       "      <td>41000.0</td>\n",
       "      <td>15886.45</td>\n",
       "      <td>2913.41</td>\n",
       "      <td>150177.83</td>\n",
       "    </tr>\n",
       "    <tr>\n",
       "      <th>3</th>\n",
       "      <td>83000.0</td>\n",
       "      <td>30020.03</td>\n",
       "      <td>6922.30</td>\n",
       "      <td>298246.34</td>\n",
       "    </tr>\n",
       "    <tr>\n",
       "      <th>4</th>\n",
       "      <td>15000.0</td>\n",
       "      <td>8437.41</td>\n",
       "      <td>1406.00</td>\n",
       "      <td>56594.18</td>\n",
       "    </tr>\n",
       "  </tbody>\n",
       "</table>\n",
       "</div>"
      ],
      "text/plain": [
       "        tv     radio  social_media      sales\n",
       "0  16000.0   6566.23       2907.98   54732.76\n",
       "1  13000.0   9237.76       2409.57   46677.90\n",
       "2  41000.0  15886.45       2913.41  150177.83\n",
       "3  83000.0  30020.03       6922.30  298246.34\n",
       "4  15000.0   8437.41       1406.00   56594.18"
      ]
     },
     "execution_count": 74,
     "metadata": {},
     "output_type": "execute_result"
    }
   ],
   "source": [
    "sales_df = pd.read_csv('data/advertising_and_sales_clean.csv')\n",
    "sales_df = sales_df.drop(columns=['influencer'])\n",
    "sales_df.head()"
   ]
  },
  {
   "cell_type": "code",
   "execution_count": 75,
   "id": "cda94463",
   "metadata": {
    "execution": {
     "iopub.execute_input": "2024-09-06T15:10:42.577765Z",
     "iopub.status.busy": "2024-09-06T15:10:42.576938Z",
     "iopub.status.idle": "2024-09-06T15:10:42.584380Z",
     "shell.execute_reply": "2024-09-06T15:10:42.583034Z"
    },
    "papermill": {
     "duration": 0.043375,
     "end_time": "2024-09-06T15:10:42.587257",
     "exception": false,
     "start_time": "2024-09-06T15:10:42.543882",
     "status": "completed"
    },
    "tags": []
   },
   "outputs": [
    {
     "name": "stdout",
     "output_type": "stream",
     "text": [
      "(4546, 1) (4546,)\n"
     ]
    }
   ],
   "source": [
    "import numpy as np\n",
    "\n",
    "# Create X from the radio column's values\n",
    "X = sales_df[\"radio\"].values\n",
    "\n",
    "# Create y from the sales column's values\n",
    "y = sales_df[\"sales\"].values\n",
    "\n",
    "# Reshape X\n",
    "X = X.reshape(-1, 1)\n",
    "\n",
    "# Check the shape of the features and targets\n",
    "print(X.shape, y.shape)"
   ]
  },
  {
   "cell_type": "markdown",
   "id": "af851822",
   "metadata": {
    "papermill": {
     "duration": 0.038598,
     "end_time": "2024-09-06T15:10:42.667336",
     "exception": false,
     "start_time": "2024-09-06T15:10:42.628738",
     "status": "completed"
    },
    "tags": []
   },
   "source": [
    "***Exercise : Building a linear regression model***\n",
    "\n",
    "Now you have created your feature and target arrays, you will train a linear regression model on all feature and target values.\n",
    "\n",
    "As the goal is to assess the relationship between the feature and target values there is no need to split the data into training and test sets.\n",
    "\n",
    "X and y have been preloaded for you as follows:\n",
    "\n",
    "**y = sales_df[\"sales\"].values**\n",
    "\n",
    "**X = sales_df[\"radio\"].values.reshape(-1, 1)**"
   ]
  },
  {
   "cell_type": "markdown",
   "id": "b602acd8",
   "metadata": {
    "papermill": {
     "duration": 0.031669,
     "end_time": "2024-09-06T15:10:42.731079",
     "exception": false,
     "start_time": "2024-09-06T15:10:42.699410",
     "status": "completed"
    },
    "tags": []
   },
   "source": [
    "***Instructions***\n",
    "\n",
    "* Import LinearRegression.\n",
    "* Instantiate a linear regression model.\n",
    "* Predict sales values using X, storing as predictions."
   ]
  },
  {
   "cell_type": "code",
   "execution_count": 76,
   "id": "266a9134",
   "metadata": {
    "execution": {
     "iopub.execute_input": "2024-09-06T15:10:42.797343Z",
     "iopub.status.busy": "2024-09-06T15:10:42.796349Z",
     "iopub.status.idle": "2024-09-06T15:10:42.815088Z",
     "shell.execute_reply": "2024-09-06T15:10:42.813824Z"
    },
    "papermill": {
     "duration": 0.054551,
     "end_time": "2024-09-06T15:10:42.817591",
     "exception": false,
     "start_time": "2024-09-06T15:10:42.763040",
     "status": "completed"
    },
    "tags": []
   },
   "outputs": [
    {
     "name": "stdout",
     "output_type": "stream",
     "text": [
      "[ 95491.17119147 117829.51038393 173423.38071499 291603.11444202\n",
      " 111137.28167129]\n"
     ]
    }
   ],
   "source": [
    "# Import LinearRegression\n",
    "from sklearn.linear_model import LinearRegression\n",
    "\n",
    "# Create the model\n",
    "reg = LinearRegression()\n",
    "\n",
    "# Fit the model to the data\n",
    "reg.fit(X, y)\n",
    "\n",
    "# Make predictions\n",
    "predictions = reg.predict(X)\n",
    "\n",
    "print(predictions[:5])"
   ]
  },
  {
   "cell_type": "markdown",
   "id": "33e6d1c9",
   "metadata": {
    "papermill": {
     "duration": 0.037268,
     "end_time": "2024-09-06T15:10:42.887199",
     "exception": false,
     "start_time": "2024-09-06T15:10:42.849931",
     "status": "completed"
    },
    "tags": []
   },
   "source": [
    "***Exercise : Visualizing a linear regression model***\n",
    "\n",
    "Now you have built your linear regression model and trained it using all available observations, you can visualize how well the model fits the data. This allows you to interpret the relationship between radio advertising expenditure and sales values.\n",
    "\n",
    "The variables X, an array of radio values, y, an array of sales values, and predictions, an array of the model's predicted values for y given X, have all been preloaded for you from the previous exercise."
   ]
  },
  {
   "cell_type": "markdown",
   "id": "15f533c9",
   "metadata": {
    "papermill": {
     "duration": 0.03302,
     "end_time": "2024-09-06T15:10:42.955450",
     "exception": false,
     "start_time": "2024-09-06T15:10:42.922430",
     "status": "completed"
    },
    "tags": []
   },
   "source": [
    "***Instructions***\n",
    "\n",
    "* Import matplotlib.pyplot as plt.\n",
    "* Create a scatter plot visualizing y against X, with observations in blue.\n",
    "* Draw a red line plot displaying the predictions against X.\n",
    "* Display the plot."
   ]
  },
  {
   "cell_type": "code",
   "execution_count": 77,
   "id": "0c46a460",
   "metadata": {
    "execution": {
     "iopub.execute_input": "2024-09-06T15:10:43.023456Z",
     "iopub.status.busy": "2024-09-06T15:10:43.023037Z",
     "iopub.status.idle": "2024-09-06T15:10:43.219927Z",
     "shell.execute_reply": "2024-09-06T15:10:43.218911Z"
    },
    "papermill": {
     "duration": 0.233379,
     "end_time": "2024-09-06T15:10:43.222467",
     "exception": false,
     "start_time": "2024-09-06T15:10:42.989088",
     "status": "completed"
    },
    "tags": []
   },
   "outputs": [
    {
     "data": {
      "image/png": "[encoded data removed]",
      "text/plain": [
       "<Figure size 640x480 with 1 Axes>"
      ]
     },
     "metadata": {},
     "output_type": "display_data"
    }
   ],
   "source": [
    "# Import matplotlib.pyplot\n",
    "import matplotlib.pyplot as plt\n",
    "\n",
    "# Create scatter plot\n",
    "plt.scatter(X, y, color=\"blue\")\n",
    "\n",
    "# Create line plot\n",
    "plt.plot(X, predictions, color=\"red\")\n",
    "plt.xlabel(\"Radio Expenditure ($)\")\n",
    "plt.ylabel(\"Sales ($)\")\n",
    "\n",
    "# Display the plot\n",
    "plt.show()"
   ]
  },
  {
   "cell_type": "markdown",
   "id": "2ed28db5",
   "metadata": {
    "papermill": {
     "duration": 0.034685,
     "end_time": "2024-09-06T15:10:43.291209",
     "exception": false,
     "start_time": "2024-09-06T15:10:43.256524",
     "status": "completed"
    },
    "tags": []
   },
   "source": [
    "## 2.2. The basics of linear regression"
   ]
  },
  {
   "attachments": {
    "4b4329d7-a273-477a-8020-a25b9021f5ff.png": {
     "image/png": "[encoded data removed]"
    }
   },
   "cell_type": "markdown",
   "id": "50688817",
   "metadata": {
    "papermill": {
     "duration": 0.047391,
     "end_time": "2024-09-06T15:10:43.378279",
     "exception": false,
     "start_time": "2024-09-06T15:10:43.330888",
     "status": "completed"
    },
    "tags": []
   },
   "source": [
    "***Exercise : Fit and predict for regression***\n",
    "\n",
    "Now you have seen how linear regression works, your task is to create a multiple linear regression model using all of the features in the sales_df dataset, which has been preloaded for you. As a reminder, here are the first two rows:\n",
    "\n",
    "![Screenshot 2024-08-30 at 10.51.40.png](attachment:4b4329d7-a273-477a-8020-a25b9021f5ff.png)\n",
    "\n",
    "You will then use this model to predict sales based on the values of the test features.\n",
    "\n",
    "LinearRegression and train_test_split have been preloaded for you from their respective modules."
   ]
  },
  {
   "cell_type": "markdown",
   "id": "82fb5d9e",
   "metadata": {
    "papermill": {
     "duration": 0.033732,
     "end_time": "2024-09-06T15:10:43.448072",
     "exception": false,
     "start_time": "2024-09-06T15:10:43.414340",
     "status": "completed"
    },
    "tags": []
   },
   "source": [
    "***Instructions***\n",
    "\n",
    "* Create X, an array containing values of all features in sales_df, and y, containing all values from the \"sales\" column.\n",
    "* Instantiate a linear regression model.\n",
    "* Fit the model to the training data.\n",
    "* Create y_pred, making predictions for sales using the test features."
   ]
  },
  {
   "cell_type": "code",
   "execution_count": 78,
   "id": "f55de8d7",
   "metadata": {
    "execution": {
     "iopub.execute_input": "2024-09-06T15:10:43.517675Z",
     "iopub.status.busy": "2024-09-06T15:10:43.517188Z",
     "iopub.status.idle": "2024-09-06T15:10:43.523049Z",
     "shell.execute_reply": "2024-09-06T15:10:43.521993Z"
    },
    "papermill": {
     "duration": 0.043185,
     "end_time": "2024-09-06T15:10:43.525067",
     "exception": false,
     "start_time": "2024-09-06T15:10:43.481882",
     "status": "completed"
    },
    "tags": []
   },
   "outputs": [],
   "source": [
    "from sklearn.model_selection import train_test_split\n",
    "from sklearn.linear_model import LinearRegression"
   ]
  },
  {
   "cell_type": "code",
   "execution_count": 79,
   "id": "9a685601",
   "metadata": {
    "execution": {
     "iopub.execute_input": "2024-09-06T15:10:43.595105Z",
     "iopub.status.busy": "2024-09-06T15:10:43.593988Z",
     "iopub.status.idle": "2024-09-06T15:10:43.610792Z",
     "shell.execute_reply": "2024-09-06T15:10:43.609690Z"
    },
    "papermill": {
     "duration": 0.053879,
     "end_time": "2024-09-06T15:10:43.613023",
     "exception": false,
     "start_time": "2024-09-06T15:10:43.559144",
     "status": "completed"
    },
    "tags": []
   },
   "outputs": [
    {
     "name": "stdout",
     "output_type": "stream",
     "text": [
      "Predictions: [53176.66154234 70996.19873235], Actual Values: [55261.28 67574.9 ]\n"
     ]
    }
   ],
   "source": [
    "# Create X and y arrays\n",
    "X = sales_df.drop(\"sales\", axis=1).values\n",
    "y = sales_df[\"sales\"].values\n",
    "\n",
    "X_train, X_test, y_train, y_test = train_test_split(X, y, test_size=0.3, random_state=42)\n",
    "\n",
    "# Instantiate the model\n",
    "reg = LinearRegression()\n",
    "\n",
    "# Fit the model to the data\n",
    "reg.fit(X_train, y_train)\n",
    "\n",
    "# Make predictions\n",
    "y_pred = reg.predict(X_test)\n",
    "print(\"Predictions: {}, Actual Values: {}\".format(y_pred[:2], y_test[:2]))"
   ]
  },
  {
   "cell_type": "markdown",
   "id": "3994981c",
   "metadata": {
    "papermill": {
     "duration": 0.033706,
     "end_time": "2024-09-06T15:10:43.681100",
     "exception": false,
     "start_time": "2024-09-06T15:10:43.647394",
     "status": "completed"
    },
    "tags": []
   },
   "source": [
    "***Exercise : Regression performance***\n",
    "\n",
    "Now you have fit a model, reg, using all features from sales_df, and made predictions of sales values, you can evaluate performance using some common regression metrics.\n",
    "\n",
    "The variables X_train, X_test, y_train, y_test, and y_pred, along with the fitted model, reg, all from the last exercise, have been preloaded for you.\n",
    "\n",
    "Your task is to find out how well the features can explain the variance in the target values, along with assessing the model's ability to make predictions on unseen data."
   ]
  },
  {
   "cell_type": "markdown",
   "id": "f9b6c5eb",
   "metadata": {
    "papermill": {
     "duration": 0.033674,
     "end_time": "2024-09-06T15:10:43.748623",
     "exception": false,
     "start_time": "2024-09-06T15:10:43.714949",
     "status": "completed"
    },
    "tags": []
   },
   "source": [
    "***Instructions***\n",
    "\n",
    "* Import root_mean_squared_error.\n",
    "* Calculate the model's R-squared score by passing the test feature values and the test target values to an appropriate method.\n",
    "* Calculate the model's root mean squared error using y_test and y_pred.\n",
    "* Print r_squared and rmse."
   ]
  },
  {
   "cell_type": "code",
   "execution_count": 80,
   "id": "370512ca",
   "metadata": {
    "execution": {
     "iopub.execute_input": "2024-09-06T15:10:43.818145Z",
     "iopub.status.busy": "2024-09-06T15:10:43.817720Z",
     "iopub.status.idle": "2024-09-06T15:10:43.826790Z",
     "shell.execute_reply": "2024-09-06T15:10:43.825706Z"
    },
    "papermill": {
     "duration": 0.046787,
     "end_time": "2024-09-06T15:10:43.829056",
     "exception": false,
     "start_time": "2024-09-06T15:10:43.782269",
     "status": "completed"
    },
    "tags": []
   },
   "outputs": [
    {
     "name": "stdout",
     "output_type": "stream",
     "text": [
      "R^2: 0.9990152104759368\n",
      "RMSE: 2944.4331996001006\n"
     ]
    }
   ],
   "source": [
    "# Import root_mean_squared_error\n",
    "from sklearn.metrics import root_mean_squared_error\n",
    "\n",
    "# Compute R-squared\n",
    "r_squared = reg.score(X_test, y_test)\n",
    "\n",
    "# Compute RMSE\n",
    "rmse = root_mean_squared_error(y_test, y_pred)\n",
    "\n",
    "# Print the metrics\n",
    "print(\"R^2: {}\".format(r_squared))\n",
    "print(\"RMSE: {}\".format(rmse))"
   ]
  },
  {
   "cell_type": "markdown",
   "id": "e5c6bf9b",
   "metadata": {
    "papermill": {
     "duration": 0.033868,
     "end_time": "2024-09-06T15:10:43.898607",
     "exception": false,
     "start_time": "2024-09-06T15:10:43.864739",
     "status": "completed"
    },
    "tags": []
   },
   "source": [
    "## 2.3. Cross-validation"
   ]
  },
  {
   "cell_type": "markdown",
   "id": "aeff75ac",
   "metadata": {
    "papermill": {
     "duration": 0.03367,
     "end_time": "2024-09-06T15:10:43.966231",
     "exception": false,
     "start_time": "2024-09-06T15:10:43.932561",
     "status": "completed"
    },
    "tags": []
   },
   "source": [
    "***Exercise : Cross-validation for R-squared***\n",
    "\n",
    "Cross-validation is a vital approach to evaluating a model. It maximizes the amount of data that is available to the model, as the model is not only trained but also tested on all of the available data.\n",
    "\n",
    "In this exercise, you will build a linear regression model, then use 6-fold cross-validation to assess its accuracy for predicting sales using social media advertising expenditure. You will display the individual score for each of the six-folds.\n",
    "\n",
    "The sales_df dataset has been split into y for the target variable, and X for the features, and preloaded for you. LinearRegression has been imported from sklearn.linear_model."
   ]
  },
  {
   "cell_type": "markdown",
   "id": "19556555",
   "metadata": {
    "papermill": {
     "duration": 0.033844,
     "end_time": "2024-09-06T15:10:44.034563",
     "exception": false,
     "start_time": "2024-09-06T15:10:44.000719",
     "status": "completed"
    },
    "tags": []
   },
   "source": [
    "***Instructions***\n",
    "\n",
    "* Import **KFold** and **cross_val_score**.\n",
    "* Create kf by calling **KFold()**, setting the number of splits to six, shuffle to True, and setting a seed of 5.\n",
    "* Perform cross-validation using reg on X and y, passing kf to cv.\n",
    "* Print the cv_results."
   ]
  },
  {
   "cell_type": "code",
   "execution_count": 81,
   "id": "9a1732c0",
   "metadata": {
    "execution": {
     "iopub.execute_input": "2024-09-06T15:10:44.104479Z",
     "iopub.status.busy": "2024-09-06T15:10:44.103659Z",
     "iopub.status.idle": "2024-09-06T15:10:44.127043Z",
     "shell.execute_reply": "2024-09-06T15:10:44.125943Z"
    },
    "papermill": {
     "duration": 0.061008,
     "end_time": "2024-09-06T15:10:44.129498",
     "exception": false,
     "start_time": "2024-09-06T15:10:44.068490",
     "status": "completed"
    },
    "tags": []
   },
   "outputs": [
    {
     "name": "stdout",
     "output_type": "stream",
     "text": [
      "[0.99894062 0.99909245 0.9990103  0.99896344 0.99889153 0.99903953]\n"
     ]
    }
   ],
   "source": [
    "# Import the necessary modules\n",
    "from sklearn.model_selection import cross_val_score, KFold\n",
    "\n",
    "# Create a KFold object\n",
    "kf = KFold(n_splits=6, shuffle=True, random_state=5)\n",
    "\n",
    "reg = LinearRegression()\n",
    "\n",
    "# Compute 6-fold cross-validation scores\n",
    "cv_results = cross_val_score(reg, X, y, cv=kf)\n",
    "\n",
    "# Print scores\n",
    "print(cv_results)"
   ]
  },
  {
   "cell_type": "markdown",
   "id": "65930cac",
   "metadata": {
    "papermill": {
     "duration": 0.03345,
     "end_time": "2024-09-06T15:10:44.196757",
     "exception": false,
     "start_time": "2024-09-06T15:10:44.163307",
     "status": "completed"
    },
    "tags": []
   },
   "source": [
    "***Exercise : Analyzing cross-validation metrics***\n",
    "\n",
    "Now you have performed cross-validation, it's time to analyze the results.\n",
    "\n",
    "You will display the **mean**, **standard deviation**, and **95% confidence interval** for **cv_results**, which has been preloaded for you from the previous exercise.\n",
    "\n",
    "numpy has been imported for you as np."
   ]
  },
  {
   "cell_type": "markdown",
   "id": "90a96cbf",
   "metadata": {
    "papermill": {
     "duration": 0.033859,
     "end_time": "2024-09-06T15:10:44.264253",
     "exception": false,
     "start_time": "2024-09-06T15:10:44.230394",
     "status": "completed"
    },
    "tags": []
   },
   "source": [
    "***Instructions***\n",
    "\n",
    "* Calculate and print the mean of the results.\n",
    "* Calculate and print the standard deviation of cv_results.\n",
    "* Display the 95% confidence interval for your results using np.quantile()."
   ]
  },
  {
   "cell_type": "code",
   "execution_count": 82,
   "id": "10c4992a",
   "metadata": {
    "execution": {
     "iopub.execute_input": "2024-09-06T15:10:44.335302Z",
     "iopub.status.busy": "2024-09-06T15:10:44.334350Z",
     "iopub.status.idle": "2024-09-06T15:10:44.342978Z",
     "shell.execute_reply": "2024-09-06T15:10:44.341923Z"
    },
    "papermill": {
     "duration": 0.046308,
     "end_time": "2024-09-06T15:10:44.345229",
     "exception": false,
     "start_time": "2024-09-06T15:10:44.298921",
     "status": "completed"
    },
    "tags": []
   },
   "outputs": [
    {
     "name": "stdout",
     "output_type": "stream",
     "text": [
      "0.9989896443678249\n",
      "6.608118371529651e-05\n",
      "[0.99889767 0.99908583]\n"
     ]
    }
   ],
   "source": [
    "# Print the mean\n",
    "print(np.mean(cv_results))\n",
    "\n",
    "# Print the standard deviation\n",
    "print(np.std(cv_results))\n",
    "\n",
    "# Print the 95% confidence interval\n",
    "print(np.quantile(cv_results, [0.025, 0.975]))"
   ]
  },
  {
   "cell_type": "markdown",
   "id": "533cc23a",
   "metadata": {
    "papermill": {
     "duration": 0.033989,
     "end_time": "2024-09-06T15:10:44.414004",
     "exception": false,
     "start_time": "2024-09-06T15:10:44.380015",
     "status": "completed"
    },
    "tags": []
   },
   "source": [
    "## 2.4. Regularized regression"
   ]
  },
  {
   "cell_type": "markdown",
   "id": "103f36d6",
   "metadata": {
    "papermill": {
     "duration": 0.034055,
     "end_time": "2024-09-06T15:10:44.482489",
     "exception": false,
     "start_time": "2024-09-06T15:10:44.448434",
     "status": "completed"
    },
    "tags": []
   },
   "source": [
    "***Resume of section***"
   ]
  },
  {
   "cell_type": "markdown",
   "id": "8468072e",
   "metadata": {
    "papermill": {
     "duration": 0.034786,
     "end_time": "2024-09-06T15:10:44.551109",
     "exception": false,
     "start_time": "2024-09-06T15:10:44.516323",
     "status": "completed"
    },
    "tags": []
   },
   "source": [
    "==>> This section discusses regularized regression techniques to prevent overfitting in linear regression models.\n",
    "\n",
    "**Introduction to Regularization:** Regularization is used to avoid overfitting by penalizing large coefficients in the model.\n",
    "\n",
    "**Why Regularize?:** Large coefficients can lead to overfitting, so regularization modifies the loss function to penalize large coefficients.\n",
    "\n",
    "**Ridge Regression:** Ridge regression adds a penalty proportional to the square of the coefficients, controlled by a hyperparameter, alpha. Alpha determines model complexity, where a high alpha can lead to underfitting.\n",
    "\n",
    "**Ridge in Scikit-Learn:** Ridge regression is implemented in Scikit-Learn by looping over different alpha values, showing that performance decreases as alpha increases.\n",
    "\n",
    "**Lasso Regression:** Lasso regression penalizes the absolute value of coefficients, unlike Ridge.\n",
    "\n",
    "**Lasso in Scikit-Learn:** Similar to Ridge, but with a sharp performance drop as alpha increases.\n",
    "\n",
    "**Lasso for Feature Selection:** Lasso can be used for feature selection by shrinking less important feature coefficients to zero.\n",
    "\n",
    "**Lasso Feature Selection in Scikit-Learn:** Lasso is applied to assess feature importance, showing that the most important predictor for blood glucose levels is whether an individual has diabetes.\n",
    "\n",
    "**Feature Importance:** This method is valuable for communicating results to non-technical audiences and identifying important predictors for various phenomena."
   ]
  },
  {
   "cell_type": "markdown",
   "id": "865c96d0",
   "metadata": {
    "papermill": {
     "duration": 0.033734,
     "end_time": "2024-09-06T15:10:44.619914",
     "exception": false,
     "start_time": "2024-09-06T15:10:44.586180",
     "status": "completed"
    },
    "tags": []
   },
   "source": [
    "***Exercise : Regularized regression: Ridge***\n",
    "\n",
    "Ridge regression performs regularization by computing the squared values of the model parameters multiplied by alpha and adding them to the loss function.\n",
    "\n",
    "In this exercise, you will fit ridge regression models over a range of different alpha values, and print their R-squared\n",
    " scores. You will use all of the **features** in the **sales_df** dataset to predict \"sales\". The data has been split into **X_train**, **X_test**, **y_train**, **y_test** for you.\n",
    "\n",
    "A variable called **alphas** has been provided as a l**ist containing different alpha values**, which you will loop through to generate scores"
   ]
  },
  {
   "cell_type": "markdown",
   "id": "4fd983dc",
   "metadata": {
    "papermill": {
     "duration": 0.033764,
     "end_time": "2024-09-06T15:10:44.687493",
     "exception": false,
     "start_time": "2024-09-06T15:10:44.653729",
     "status": "completed"
    },
    "tags": []
   },
   "source": [
    "***Instructions***\n",
    "\n",
    "* Import Ridge.\n",
    "* Instantiate Ridge, setting alpha equal to alpha.\n",
    "* Fit the model to the training data.\n",
    "* Calculate the (R^2) score for each iteration of ridge."
   ]
  },
  {
   "cell_type": "code",
   "execution_count": 83,
   "id": "2684b7c4",
   "metadata": {
    "execution": {
     "iopub.execute_input": "2024-09-06T15:10:44.758163Z",
     "iopub.status.busy": "2024-09-06T15:10:44.757281Z",
     "iopub.status.idle": "2024-09-06T15:10:44.782580Z",
     "shell.execute_reply": "2024-09-06T15:10:44.781454Z"
    },
    "papermill": {
     "duration": 0.063747,
     "end_time": "2024-09-06T15:10:44.785615",
     "exception": false,
     "start_time": "2024-09-06T15:10:44.721868",
     "status": "completed"
    },
    "tags": []
   },
   "outputs": [
    {
     "name": "stdout",
     "output_type": "stream",
     "text": [
      "[0.9990152104759369, 0.9990152104759373, 0.9990152104759419, 0.999015210475987, 0.9990152104764387, 0.9990152104809561]\n"
     ]
    }
   ],
   "source": [
    "# Import Ridge\n",
    "from sklearn.linear_model import Ridge\n",
    "alphas = [0.1, 1.0, 10.0, 100.0, 1000.0, 10000.0]\n",
    "ridge_scores = []\n",
    "for alpha in alphas:\n",
    "  \n",
    "  # Create a Ridge regression model\n",
    "  ridge = Ridge(alpha=alpha)\n",
    "  \n",
    "  # Fit the data\n",
    "  ridge.fit(X_train, y_train)\n",
    "  \n",
    "  # Obtain R-squared\n",
    "  y_pred = ridge.predict(X_test)\n",
    "  ridge_scores.append(ridge.score(X_test, y_test))\n",
    "print(ridge_scores)"
   ]
  },
  {
   "cell_type": "markdown",
   "id": "7bc73bf8",
   "metadata": {
    "papermill": {
     "duration": 0.056264,
     "end_time": "2024-09-06T15:10:44.899256",
     "exception": false,
     "start_time": "2024-09-06T15:10:44.842992",
     "status": "completed"
    },
    "tags": []
   },
   "source": [
    "***Exercise : Lasso regression for feature importance***\n",
    "\n",
    "Lasso regression can be used to identify important features in a dataset.\n",
    "\n",
    "In this exercise, you will fit a lasso regression model to the **sales_df** data and plot the model's coefficients.\n",
    "\n",
    "The **feature** and **target** variable arrays have been pre-loaded as **X** and **y**, along with **sales_columns**, which contains the dataset's feature names.\n"
   ]
  },
  {
   "cell_type": "markdown",
   "id": "84e51171",
   "metadata": {
    "papermill": {
     "duration": 0.034063,
     "end_time": "2024-09-06T15:10:44.967804",
     "exception": false,
     "start_time": "2024-09-06T15:10:44.933741",
     "status": "completed"
    },
    "tags": []
   },
   "source": [
    "***Instructions***\n",
    "\n",
    "* Import Lasso from sklearn.linear_model.\n",
    "* Instantiate a Lasso regressor with an alpha of 0.3.\n",
    "* Fit the model to the data.\n",
    "* Compute the model's coefficients, storing as lasso_coef."
   ]
  },
  {
   "cell_type": "markdown",
   "id": "f2eb26d2",
   "metadata": {
    "papermill": {
     "duration": 0.033968,
     "end_time": "2024-09-06T15:10:45.036090",
     "exception": false,
     "start_time": "2024-09-06T15:10:45.002122",
     "status": "completed"
    },
    "tags": []
   },
   "source": []
  },
  {
   "cell_type": "code",
   "execution_count": 84,
   "id": "3fe154a4",
   "metadata": {
    "execution": {
     "iopub.execute_input": "2024-09-06T15:10:45.107085Z",
     "iopub.status.busy": "2024-09-06T15:10:45.106674Z",
     "iopub.status.idle": "2024-09-06T15:10:45.301535Z",
     "shell.execute_reply": "2024-09-06T15:10:45.300399Z"
    },
    "papermill": {
     "duration": 0.232503,
     "end_time": "2024-09-06T15:10:45.303599",
     "exception": false,
     "start_time": "2024-09-06T15:10:45.071096",
     "status": "completed"
    },
    "tags": []
   },
   "outputs": [
    {
     "name": "stdout",
     "output_type": "stream",
     "text": [
      "[ 3.56256962 -0.00397035  0.00496385]\n"
     ]
    },
    {
     "data": {
      "image/png": "[encoded data removed]",
      "text/plain": [
       "<Figure size 640x480 with 1 Axes>"
      ]
     },
     "metadata": {},
     "output_type": "display_data"
    }
   ],
   "source": [
    "# Import necessary libraries\n",
    "from sklearn.linear_model import Lasso\n",
    "import matplotlib.pyplot as plt\n",
    "\n",
    "# Instantiate a lasso regression model\n",
    "lasso = Lasso(alpha=0.3)\n",
    "\n",
    "# Fit the model to the data\n",
    "lasso.fit(X, y)\n",
    "\n",
    "# Compute and print the coefficients\n",
    "lasso_coef = lasso.coef_\n",
    "print(lasso_coef)\n",
    "\n",
    "# Ensure that the number of features in sales_df matches the number of coefficients\n",
    "# Adjust `sales_df.columns` to only include the relevant feature names corresponding to the coefficients\n",
    "feature_names = sales_df.columns[:len(lasso_coef)]\n",
    "\n",
    "# Plot the coefficients\n",
    "plt.bar(feature_names, lasso_coef)\n",
    "plt.xticks(rotation=45)\n",
    "plt.show()\n"
   ]
  },
  {
   "cell_type": "markdown",
   "id": "92710f9d",
   "metadata": {
    "papermill": {
     "duration": 0.034637,
     "end_time": "2024-09-06T15:10:45.372742",
     "exception": false,
     "start_time": "2024-09-06T15:10:45.338105",
     "status": "completed"
    },
    "tags": []
   },
   "source": [
    "# Chapter-3: Fine-Tuning Your Model\n",
    "\n",
    "Having trained models, now you will learn how to evaluate them. In this chapter, you will be introduced to several metrics along with a visualization technique for analyzing classification model performance using scikit-learn. You will also learn how to optimize classification and regression models through the use of hyperparameter tuning."
   ]
  },
  {
   "cell_type": "markdown",
   "id": "7055439b",
   "metadata": {
    "papermill": {
     "duration": 0.033574,
     "end_time": "2024-09-06T15:10:45.441185",
     "exception": false,
     "start_time": "2024-09-06T15:10:45.407611",
     "status": "completed"
    },
    "tags": []
   },
   "source": [
    "## 3.1. How good is your model?"
   ]
  },
  {
   "cell_type": "markdown",
   "id": "eaa372f0",
   "metadata": {
    "papermill": {
     "duration": 0.033474,
     "end_time": "2024-09-06T15:10:45.508466",
     "exception": false,
     "start_time": "2024-09-06T15:10:45.474992",
     "status": "completed"
    },
    "tags": []
   },
   "source": [
    "**Short Resume for Each Point:**"
   ]
  },
  {
   "cell_type": "markdown",
   "id": "c1f53129",
   "metadata": {
    "papermill": {
     "duration": 0.033309,
     "end_time": "2024-09-06T15:10:45.576733",
     "exception": false,
     "start_time": "2024-09-06T15:10:45.543424",
     "status": "completed"
    },
    "tags": []
   },
   "source": [
    "***1. How good is your model?***\n",
    "\n",
    "Refers to classification problems and their evaluation.\n",
    "\n",
    "**2. Classification metrics**\n",
    "\n",
    "Accuracy is commonly used but can be misleading.\n",
    "\n",
    "**3. Class imbalance**\n",
    "\n",
    "In imbalanced data, like fraud detection, accuracy alone may not reflect true model performance.\n",
    "\n",
    "**4. Confusion matrix**\n",
    "\n",
    "A 2x2 matrix summarizes a binary classifier's performance with actual vs. predicted labels.\n",
    "\n",
    "**5.  Assessing classification performance**\n",
    "\n",
    "The confusion matrix includes True Positives (TP), True Negatives (TN), False Positives (FP), and False Negatives (FN). Accuracy can be calculated from this, but other metrics like precision and recall provide deeper insights.\n",
    "\n",
    "**6. Precision**\n",
    "\n",
    "Precision = TP / (TP + FP). High precision indicates fewer false positives.\n",
    "\n",
    "**7. Recall**\n",
    "\n",
    "Recall = TP / (TP + FN). High recall indicates fewer false negatives.\n",
    "\n",
    "**8. F1 Score**\n",
    "\n",
    "The F1 score balances precision and recall, useful when both metrics matter.\n",
    "\n",
    "**9.  Confusion matrix & classification report in scikit-learn**\n",
    "\n",
    "Using scikit-learn, confusion matrix and classification report can calculate precision, recall, and other metrics, providing a comprehensive evaluation of model performance."
   ]
  },
  {
   "attachments": {
    "b2e516c0-78f5-4156-bc69-96a6672cf1fb.png": {
     "image/png": "[encoded data removed]"
    }
   },
   "cell_type": "markdown",
   "id": "6f095ee2",
   "metadata": {
    "papermill": {
     "duration": 0.033305,
     "end_time": "2024-09-06T15:10:45.643618",
     "exception": false,
     "start_time": "2024-09-06T15:10:45.610313",
     "status": "completed"
    },
    "tags": []
   },
   "source": [
    "***Exercise : Deciding on a primary metric***\n",
    "\n",
    "\n",
    "As you have seen, several metrics can be useful to evaluate the performance of classification models, including accuracy, precision, recall, and F1-score.\n",
    "\n",
    "In this exercise, you will be provided with three different classification problems, and your task is to select the problem where precision is best suited as the primary metric.\n",
    "\n",
    "***Instructions***\n",
    "\n",
    "![Screenshot 2024-08-30 at 23.30.47.png](attachment:b2e516c0-78f5-4156-bc69-96a6672cf1fb.png)"
   ]
  },
  {
   "cell_type": "markdown",
   "id": "2d10578d",
   "metadata": {
    "papermill": {
     "duration": 0.033422,
     "end_time": "2024-09-06T15:10:45.711158",
     "exception": false,
     "start_time": "2024-09-06T15:10:45.677736",
     "status": "completed"
    },
    "tags": []
   },
   "source": [
    "***Exercise : Assessing a diabetes prediction classifier***\n",
    "\n",
    "\n",
    "In this chapter you'll work with the diabetes_df dataset introduced previously.\n",
    "\n",
    "The goal is to predict whether or not each individual is likely to have diabetes based on the features body mass index (BMI) and age (in years). Therefore, it is a binary classification problem. A target value of 0 indicates that the individual does not have diabetes, while a value of 1 indicates that the individual does have diabetes.\n",
    "\n",
    "**diabetes_df** has been preloaded for you as a pandas DataFrame and split into **X_train**, **X_test**, **y_train**, and **y_test**. In addition, a **KNeighborsClassifier()** has been instantiated and assigned to knn.\n",
    "\n",
    "***You will fit the model, make predictions on the test set, then produce a confusion matrix and classification report.***\n",
    "\n",
    "\n",
    "***Instructions***\n",
    "\n",
    "* Import confusion_matrix and classification_report.\n",
    "* Fit the model to the training data.\n",
    "* Predict the labels of the test set, storing the results as y_pred.\n",
    "* Compute and print the confusion matrix and classification report for the test labels versus the predicted labels."
   ]
  },
  {
   "cell_type": "code",
   "execution_count": 85,
   "id": "0c40f95b",
   "metadata": {
    "execution": {
     "iopub.execute_input": "2024-09-06T15:10:45.780860Z",
     "iopub.status.busy": "2024-09-06T15:10:45.780427Z",
     "iopub.status.idle": "2024-09-06T15:10:45.801334Z",
     "shell.execute_reply": "2024-09-06T15:10:45.800258Z"
    },
    "papermill": {
     "duration": 0.058689,
     "end_time": "2024-09-06T15:10:45.803682",
     "exception": false,
     "start_time": "2024-09-06T15:10:45.744993",
     "status": "completed"
    },
    "tags": []
   },
   "outputs": [
    {
     "data": {
      "text/html": [
       "<div>\n",
       "<style scoped>\n",
       "    .dataframe tbody tr th:only-of-type {\n",
       "        vertical-align: middle;\n",
       "    }\n",
       "\n",
       "    .dataframe tbody tr th {\n",
       "        vertical-align: top;\n",
       "    }\n",
       "\n",
       "    .dataframe thead th {\n",
       "        text-align: right;\n",
       "    }\n",
       "</style>\n",
       "<table border=\"1\" class=\"dataframe\">\n",
       "  <thead>\n",
       "    <tr style=\"text-align: right;\">\n",
       "      <th></th>\n",
       "      <th>pregnancies</th>\n",
       "      <th>glucose</th>\n",
       "      <th>diastolic</th>\n",
       "      <th>triceps</th>\n",
       "      <th>insulin</th>\n",
       "      <th>bmi</th>\n",
       "      <th>dpf</th>\n",
       "      <th>age</th>\n",
       "      <th>diabetes</th>\n",
       "    </tr>\n",
       "  </thead>\n",
       "  <tbody>\n",
       "    <tr>\n",
       "      <th>0</th>\n",
       "      <td>6</td>\n",
       "      <td>148</td>\n",
       "      <td>72</td>\n",
       "      <td>35</td>\n",
       "      <td>0</td>\n",
       "      <td>33.6</td>\n",
       "      <td>0.627</td>\n",
       "      <td>50</td>\n",
       "      <td>1</td>\n",
       "    </tr>\n",
       "    <tr>\n",
       "      <th>1</th>\n",
       "      <td>1</td>\n",
       "      <td>85</td>\n",
       "      <td>66</td>\n",
       "      <td>29</td>\n",
       "      <td>0</td>\n",
       "      <td>26.6</td>\n",
       "      <td>0.351</td>\n",
       "      <td>31</td>\n",
       "      <td>0</td>\n",
       "    </tr>\n",
       "    <tr>\n",
       "      <th>2</th>\n",
       "      <td>8</td>\n",
       "      <td>183</td>\n",
       "      <td>64</td>\n",
       "      <td>0</td>\n",
       "      <td>0</td>\n",
       "      <td>23.3</td>\n",
       "      <td>0.672</td>\n",
       "      <td>32</td>\n",
       "      <td>1</td>\n",
       "    </tr>\n",
       "    <tr>\n",
       "      <th>3</th>\n",
       "      <td>1</td>\n",
       "      <td>89</td>\n",
       "      <td>66</td>\n",
       "      <td>23</td>\n",
       "      <td>94</td>\n",
       "      <td>28.1</td>\n",
       "      <td>0.167</td>\n",
       "      <td>21</td>\n",
       "      <td>0</td>\n",
       "    </tr>\n",
       "    <tr>\n",
       "      <th>4</th>\n",
       "      <td>0</td>\n",
       "      <td>137</td>\n",
       "      <td>40</td>\n",
       "      <td>35</td>\n",
       "      <td>168</td>\n",
       "      <td>43.1</td>\n",
       "      <td>2.288</td>\n",
       "      <td>33</td>\n",
       "      <td>1</td>\n",
       "    </tr>\n",
       "  </tbody>\n",
       "</table>\n",
       "</div>"
      ],
      "text/plain": [
       "   pregnancies  glucose  diastolic  triceps  insulin   bmi    dpf  age  \\\n",
       "0            6      148         72       35        0  33.6  0.627   50   \n",
       "1            1       85         66       29        0  26.6  0.351   31   \n",
       "2            8      183         64        0        0  23.3  0.672   32   \n",
       "3            1       89         66       23       94  28.1  0.167   21   \n",
       "4            0      137         40       35      168  43.1  2.288   33   \n",
       "\n",
       "   diabetes  \n",
       "0         1  \n",
       "1         0  \n",
       "2         1  \n",
       "3         0  \n",
       "4         1  "
      ]
     },
     "execution_count": 85,
     "metadata": {},
     "output_type": "execute_result"
    }
   ],
   "source": [
    "diabetes_df = pd.read_csv('data/diabetes_clean.csv')\n",
    "diabetes_df.head()"
   ]
  },
  {
   "cell_type": "code",
   "execution_count": 86,
   "id": "ee1f34c3",
   "metadata": {
    "execution": {
     "iopub.execute_input": "2024-09-06T15:10:45.873877Z",
     "iopub.status.busy": "2024-09-06T15:10:45.872977Z",
     "iopub.status.idle": "2024-09-06T15:10:45.880340Z",
     "shell.execute_reply": "2024-09-06T15:10:45.879380Z"
    },
    "papermill": {
     "duration": 0.044812,
     "end_time": "2024-09-06T15:10:45.882590",
     "exception": false,
     "start_time": "2024-09-06T15:10:45.837778",
     "status": "completed"
    },
    "tags": []
   },
   "outputs": [
    {
     "name": "stdout",
     "output_type": "stream",
     "text": [
      "(768, 2) (768,)\n"
     ]
    }
   ],
   "source": [
    "X = diabetes_df[[\"bmi\", \"age\"]].values\n",
    "y = diabetes_df[\"diabetes\"].values\n",
    "print(X.shape, y.shape)"
   ]
  },
  {
   "cell_type": "code",
   "execution_count": 87,
   "id": "a8dcada9",
   "metadata": {
    "execution": {
     "iopub.execute_input": "2024-09-06T15:10:45.952088Z",
     "iopub.status.busy": "2024-09-06T15:10:45.951672Z",
     "iopub.status.idle": "2024-09-06T15:10:45.986739Z",
     "shell.execute_reply": "2024-09-06T15:10:45.985651Z"
    },
    "papermill": {
     "duration": 0.072617,
     "end_time": "2024-09-06T15:10:45.989099",
     "exception": false,
     "start_time": "2024-09-06T15:10:45.916482",
     "status": "completed"
    },
    "tags": []
   },
   "outputs": [
    {
     "name": "stdout",
     "output_type": "stream",
     "text": [
      "[[158  48]\n",
      " [ 55  47]]\n",
      "              precision    recall  f1-score   support\n",
      "\n",
      "           0       0.74      0.77      0.75       206\n",
      "           1       0.49      0.46      0.48       102\n",
      "\n",
      "    accuracy                           0.67       308\n",
      "   macro avg       0.62      0.61      0.62       308\n",
      "weighted avg       0.66      0.67      0.66       308\n",
      "\n"
     ]
    }
   ],
   "source": [
    "# Import confusion matrix\n",
    "from sklearn.metrics import classification_report, confusion_matrix\n",
    "\n",
    "knn = KNeighborsClassifier(n_neighbors=6)\n",
    "\n",
    "X_train, X_test, y_train, y_test = train_test_split(X, y,test_size=0.4,random_state=42)\n",
    " \n",
    "\n",
    "# Fit the model to the training data\n",
    "knn.fit(X_train, y_train)\n",
    "\n",
    "# Predict the labels of the test data: y_pred\n",
    "y_pred = knn.predict(X_test)\n",
    "\n",
    "# Generate the confusion matrix and classification report\n",
    "print(confusion_matrix(y_test, y_pred))\n",
    "print(classification_report(y_test, y_pred))"
   ]
  },
  {
   "cell_type": "markdown",
   "id": "63ae26fe",
   "metadata": {
    "papermill": {
     "duration": 0.033995,
     "end_time": "2024-09-06T15:10:46.058039",
     "exception": false,
     "start_time": "2024-09-06T15:10:46.024044",
     "status": "completed"
    },
    "tags": []
   },
   "source": [
    "## 3.2. Logistic regression and the ROC curve"
   ]
  },
  {
   "cell_type": "markdown",
   "id": "bf32560e",
   "metadata": {
    "papermill": {
     "duration": 0.033983,
     "end_time": "2024-09-06T15:10:46.126404",
     "exception": false,
     "start_time": "2024-09-06T15:10:46.092421",
     "status": "completed"
    },
    "tags": []
   },
   "source": [
    "***Exercise : Building a logistic regression model***\n",
    "\n",
    "In this exercise, you will build a logistic regression model using all features in the diabetes_df dataset. The model will be used to predict the probability of individuals in the test set having a diabetes diagnosis.\n",
    "\n",
    "The **diabetes_df** dataset has been split into X_train, X_test, y_train, and y_test, and preloaded for you.\n",
    "\n"
   ]
  },
  {
   "cell_type": "markdown",
   "id": "027d9713",
   "metadata": {
    "papermill": {
     "duration": 0.03436,
     "end_time": "2024-09-06T15:10:46.195174",
     "exception": false,
     "start_time": "2024-09-06T15:10:46.160814",
     "status": "completed"
    },
    "tags": []
   },
   "source": [
    "\n",
    "***Instructions***\n",
    "\n",
    "* Import Lasso from sklearn.linear_model.\n",
    "* Instantiate a Lasso regressor with an alpha of 0.3."
   ]
  },
  {
   "cell_type": "code",
   "execution_count": 88,
   "id": "4c060539",
   "metadata": {
    "execution": {
     "iopub.execute_input": "2024-09-06T15:10:46.266655Z",
     "iopub.status.busy": "2024-09-06T15:10:46.266091Z",
     "iopub.status.idle": "2024-09-06T15:10:46.274570Z",
     "shell.execute_reply": "2024-09-06T15:10:46.273448Z"
    },
    "papermill": {
     "duration": 0.046818,
     "end_time": "2024-09-06T15:10:46.276747",
     "exception": false,
     "start_time": "2024-09-06T15:10:46.229929",
     "status": "completed"
    },
    "tags": []
   },
   "outputs": [],
   "source": [
    "# Step 1: Import the required functions\n",
    "from sklearn.model_selection import train_test_split\n",
    "\n",
    "# Step 2: Separate features (X) and target (y)\n",
    "X = diabetes_df.drop('diabetes', axis=1).values  # Features (all columns except 'diabetes')\n",
    "y = diabetes_df['diabetes'].values  # Target variable (the 'diabetes' column)\n",
    "\n",
    "# Step 3: Split the data into training and testing sets\n",
    "X_train, X_test, y_train, y_test = train_test_split(X, y, test_size=0.2, random_state=42)\n",
    "\n",
    "# Now you have X_train, X_test, y_train, and y_test ready to use for modeling"
   ]
  },
  {
   "cell_type": "code",
   "execution_count": 89,
   "id": "78bc097c",
   "metadata": {
    "execution": {
     "iopub.execute_input": "2024-09-06T15:10:46.347055Z",
     "iopub.status.busy": "2024-09-06T15:10:46.346645Z",
     "iopub.status.idle": "2024-09-06T15:10:46.355092Z",
     "shell.execute_reply": "2024-09-06T15:10:46.353999Z"
    },
    "papermill": {
     "duration": 0.046521,
     "end_time": "2024-09-06T15:10:46.357610",
     "exception": false,
     "start_time": "2024-09-06T15:10:46.311089",
     "status": "completed"
    },
    "tags": []
   },
   "outputs": [
    {
     "name": "stdout",
     "output_type": "stream",
     "text": [
      "X_train (first 5 rows):\n",
      "[[2.000e+00 8.400e+01 0.000e+00 0.000e+00 0.000e+00 0.000e+00 3.040e-01\n",
      "  2.100e+01]\n",
      " [9.000e+00 1.120e+02 8.200e+01 2.400e+01 0.000e+00 2.820e+01 1.282e+00\n",
      "  5.000e+01]\n",
      " [1.000e+00 1.390e+02 4.600e+01 1.900e+01 8.300e+01 2.870e+01 6.540e-01\n",
      "  2.200e+01]\n",
      " [0.000e+00 1.610e+02 5.000e+01 0.000e+00 0.000e+00 2.190e+01 2.540e-01\n",
      "  6.500e+01]\n",
      " [6.000e+00 1.340e+02 8.000e+01 3.700e+01 3.700e+02 4.620e+01 2.380e-01\n",
      "  4.600e+01]]\n",
      "\n",
      "X_test (first 5 rows):\n",
      "[[6.00e+00 9.80e+01 5.80e+01 3.30e+01 1.90e+02 3.40e+01 4.30e-01 4.30e+01]\n",
      " [2.00e+00 1.12e+02 7.50e+01 3.20e+01 0.00e+00 3.57e+01 1.48e-01 2.10e+01]\n",
      " [2.00e+00 1.08e+02 6.40e+01 0.00e+00 0.00e+00 3.08e+01 1.58e-01 2.10e+01]\n",
      " [8.00e+00 1.07e+02 8.00e+01 0.00e+00 0.00e+00 2.46e+01 8.56e-01 3.40e+01]\n",
      " [7.00e+00 1.36e+02 9.00e+01 0.00e+00 0.00e+00 2.99e+01 2.10e-01 5.00e+01]]\n",
      "\n",
      "y_train (first 5 elements):\n",
      "[0 1 0 0 1]\n",
      "\n",
      "y_test (first 5 elements):\n",
      "[0 0 0 0 0]\n"
     ]
    }
   ],
   "source": [
    "#Printing a Subset of the Data\n",
    "\n",
    "# For pandas DataFrames (X_train and X_test)\n",
    "print(\"X_train (first 5 rows):\")\n",
    "print(X_train[:5])  # Print the first 5 rows of the DataFrame\n",
    "\n",
    "print(\"\\nX_test (first 5 rows):\")\n",
    "print(X_test[:5])  # Print the first 5 rows of the DataFrame\n",
    "\n",
    "# For pandas Series or numpy arrays (y_train and y_test)\n",
    "print(\"\\ny_train (first 5 elements):\")\n",
    "print(y_train[:5])  # Print the first 5 elements\n",
    "\n",
    "print(\"\\ny_test (first 5 elements):\")\n",
    "print(y_test[:5])  # Print the first 5 elements"
   ]
  },
  {
   "cell_type": "code",
   "execution_count": 90,
   "id": "f77f768c",
   "metadata": {
    "execution": {
     "iopub.execute_input": "2024-09-06T15:10:46.427837Z",
     "iopub.status.busy": "2024-09-06T15:10:46.427432Z",
     "iopub.status.idle": "2024-09-06T15:10:46.462149Z",
     "shell.execute_reply": "2024-09-06T15:10:46.460631Z"
    },
    "papermill": {
     "duration": 0.072653,
     "end_time": "2024-09-06T15:10:46.464488",
     "exception": false,
     "start_time": "2024-09-06T15:10:46.391835",
     "status": "completed"
    },
    "tags": []
   },
   "outputs": [
    {
     "name": "stdout",
     "output_type": "stream",
     "text": [
      "[0.27587171 0.18844086 0.11448808 0.16354446 0.47152763 0.44181565\n",
      " 0.01545949 0.66077894 0.54146137 0.77733211]\n"
     ]
    }
   ],
   "source": [
    "# Import LogisticRegression\n",
    "from sklearn.linear_model import LogisticRegression\n",
    "\n",
    "# Instantiate the model\n",
    "logreg = LogisticRegression(max_iter=1000)\n",
    "\n",
    "# Fit the model\n",
    "logreg.fit(X_train, y_train)\n",
    "\n",
    "# Predict probabilities\n",
    "y_pred_probs = logreg.predict_proba(X_test)[:, 1]\n",
    "\n",
    "print(y_pred_probs[:10])"
   ]
  },
  {
   "cell_type": "markdown",
   "id": "b7a365b7",
   "metadata": {
    "papermill": {
     "duration": 0.035073,
     "end_time": "2024-09-06T15:10:46.533890",
     "exception": false,
     "start_time": "2024-09-06T15:10:46.498817",
     "status": "completed"
    },
    "tags": []
   },
   "source": [
    "***Exercise : The ROC curve***\n",
    "\n",
    "Now you have built a logistic regression model for predicting diabetes status, you can plot the **ROC curve** to visualize how the true positive rate and false positive rate vary as the decision threshold changes.\n",
    "\n",
    "The **test labels**, **y_test**, and the **predicted probabilities** of the test features belonging to the positive class, **y_pred_probs**, have been preloaded for you, along with matplotlib.pyplot as plt.\n",
    "\n",
    "You will create a **ROC** curve and then interpret the results.\n"
   ]
  },
  {
   "cell_type": "markdown",
   "id": "f9e916db",
   "metadata": {
    "papermill": {
     "duration": 0.033637,
     "end_time": "2024-09-06T15:10:46.602975",
     "exception": false,
     "start_time": "2024-09-06T15:10:46.569338",
     "status": "completed"
    },
    "tags": []
   },
   "source": [
    "***Instructions 1/2***\n",
    "\n",
    "* Import roc_curve.\n",
    "* Calculate the ROC curve values, using y_test and y_pred_probs, and unpacking the results into fpr, tpr, and thresholds.\n",
    "* Plot true positive rate against false positive rate."
   ]
  },
  {
   "cell_type": "code",
   "execution_count": 91,
   "id": "c3531490",
   "metadata": {
    "execution": {
     "iopub.execute_input": "2024-09-06T15:10:46.673244Z",
     "iopub.status.busy": "2024-09-06T15:10:46.672207Z",
     "iopub.status.idle": "2024-09-06T15:10:46.916575Z",
     "shell.execute_reply": "2024-09-06T15:10:46.915483Z"
    },
    "papermill": {
     "duration": 0.282013,
     "end_time": "2024-09-06T15:10:46.918944",
     "exception": false,
     "start_time": "2024-09-06T15:10:46.636931",
     "status": "completed"
    },
    "tags": []
   },
   "outputs": [
    {
     "data": {
      "image/png": "[encoded data removed]",
      "text/plain": [
       "<Figure size 640x480 with 1 Axes>"
      ]
     },
     "metadata": {},
     "output_type": "display_data"
    }
   ],
   "source": [
    "# Import roc_curve\n",
    "from sklearn.metrics import roc_curve\n",
    "\n",
    "# Generate ROC curve values: fpr, tpr, thresholds\n",
    "fpr, tpr, thresholds = roc_curve(y_test, y_pred_probs)\n",
    "\n",
    "plt.plot([0, 1], [0, 1], 'k--')\n",
    "\n",
    "# Plot tpr against fpr\n",
    "plt.plot(fpr, tpr)\n",
    "plt.xlabel('False Positive Rate')\n",
    "plt.ylabel('True Positive Rate')\n",
    "plt.title('ROC Curve for Diabetes Prediction')\n",
    "plt.show()"
   ]
  },
  {
   "cell_type": "markdown",
   "id": "bf75bea6",
   "metadata": {
    "papermill": {
     "duration": 0.034714,
     "end_time": "2024-09-06T15:10:46.989947",
     "exception": false,
     "start_time": "2024-09-06T15:10:46.955233",
     "status": "completed"
    },
    "tags": []
   },
   "source": [
    "***Instructions 2/2***\n",
    "\n",
    "**Question**\n",
    "\n",
    "Well done on producing the ROC curve for the diabetes prediction model.\n",
    "\n",
    "But, what does the plot tell you about the model's performance?\n",
    "\n",
    "**Response**\n",
    "\n",
    "\n",
    "- The model is about as good as randomly guessing the class of each observation.\n",
    "\n",
    "- The model is much worse than randomly guessing the class of each observation.\n",
    "\n",
    "- **The model is much better than randomly guessing the class of each observation.**  ==> Correct Answer\n",
    "\n",
    "- It is not possible to conclude whether the model performs better or worse than randomly guessing the class of each observation."
   ]
  },
  {
   "cell_type": "markdown",
   "id": "37ca62b3",
   "metadata": {
    "papermill": {
     "duration": 0.035035,
     "end_time": "2024-09-06T15:10:47.060227",
     "exception": false,
     "start_time": "2024-09-06T15:10:47.025192",
     "status": "completed"
    },
    "tags": []
   },
   "source": [
    "***Exercise : ROC AUC***\n",
    "\n",
    "The ROC curve you plotted in the last exercise looked promising.\n",
    "\n",
    "Now you will compute the area under the ROC curve, along with the other classification metrics you have used previously.\n",
    "\n",
    "The **confusion_matrix** and **classification_report** functions have been preloaded for you, along with the **logreg** model you previously built, plus **X_train**, **X_test**, **y_train**, **y_test**. Also, the model's predicted test set labels are stored as **y_pred**, and probabilities of test set observations belonging to the positive class stored as **y_pred_probs**.\n",
    "\n",
    "A **knn** model has also been created and the performance metrics printed in the console, so you can compare the **roc_auc_score**, **confusion_matrix**, and **classification_report** between the two models.\n",
    "\n",
    "\n"
   ]
  },
  {
   "cell_type": "markdown",
   "id": "cb35265c",
   "metadata": {
    "papermill": {
     "duration": 0.034759,
     "end_time": "2024-09-06T15:10:47.130305",
     "exception": false,
     "start_time": "2024-09-06T15:10:47.095546",
     "status": "completed"
    },
    "tags": []
   },
   "source": [
    "***Instructions***\n",
    "\n",
    "* Import roc_auc_score.\n",
    "* Calculate and print the ROC AUC score, passing the test labels and the predicted positive class probabilities.\n",
    "* Calculate and print the confusion matrix.\n",
    "* Call classification_report()."
   ]
  },
  {
   "cell_type": "code",
   "execution_count": 92,
   "id": "052c60d4",
   "metadata": {
    "execution": {
     "iopub.execute_input": "2024-09-06T15:10:47.202465Z",
     "iopub.status.busy": "2024-09-06T15:10:47.202017Z",
     "iopub.status.idle": "2024-09-06T15:10:47.223587Z",
     "shell.execute_reply": "2024-09-06T15:10:47.221811Z"
    },
    "papermill": {
     "duration": 0.060548,
     "end_time": "2024-09-06T15:10:47.225819",
     "exception": false,
     "start_time": "2024-09-06T15:10:47.165271",
     "status": "completed"
    },
    "tags": []
   },
   "outputs": [
    {
     "name": "stdout",
     "output_type": "stream",
     "text": [
      "ROC AUC Score: 0.8128558310376492\n",
      "y_test shape: (154,)\n",
      "y_pred shape: (154,)\n",
      "Confusion Matrix:\n",
      " [[78 21]\n",
      " [18 37]]\n",
      "Classification Report:\n",
      "               precision    recall  f1-score   support\n",
      "\n",
      "           0       0.81      0.79      0.80        99\n",
      "           1       0.64      0.67      0.65        55\n",
      "\n",
      "    accuracy                           0.75       154\n",
      "   macro avg       0.73      0.73      0.73       154\n",
      "weighted avg       0.75      0.75      0.75       154\n",
      "\n"
     ]
    }
   ],
   "source": [
    "# Import roc_auc_score\n",
    "from sklearn.metrics import roc_auc_score, confusion_matrix, classification_report\n",
    "\n",
    "# Calculate roc_auc_score\n",
    "print(\"ROC AUC Score:\", roc_auc_score(y_test, y_pred_probs))\n",
    "\n",
    "# Ensure y_pred is generated from the test set\n",
    "y_pred = logreg.predict(X_test)\n",
    "\n",
    "# Print shapes to debug\n",
    "print(\"y_test shape:\", y_test.shape)\n",
    "print(\"y_pred shape:\", y_pred.shape)\n",
    "\n",
    "# Calculate the confusion matrix if dimensions match\n",
    "if y_test.shape[0] == y_pred.shape[0]:\n",
    "    print(\"Confusion Matrix:\\n\", confusion_matrix(y_test, y_pred))\n",
    "else:\n",
    "    print(\"Mismatch in number of samples between y_test and y_pred.\")\n",
    "\n",
    "# Calculate the classification report\n",
    "if y_test.shape[0] == y_pred.shape[0]:\n",
    "    print(\"Classification Report:\\n\", classification_report(y_test, y_pred))\n",
    "else:\n",
    "    print(\"Mismatch in number of samples between y_test and y_pred.\")\n"
   ]
  },
  {
   "cell_type": "markdown",
   "id": "d527fd7c",
   "metadata": {
    "papermill": {
     "duration": 0.035711,
     "end_time": "2024-09-06T15:10:47.296571",
     "exception": false,
     "start_time": "2024-09-06T15:10:47.260860",
     "status": "completed"
    },
    "tags": []
   },
   "source": [
    "**===>>> Did you notice that logistic regression performs better than the KNN model across all the metrics you calculated? A ROC AUC score of 0.8002 means this model is 60% better than a chance model at correctly predicting labels! scikit-learn makes it easy to produce several classification metrics with only a few lines of code.**"
   ]
  },
  {
   "cell_type": "markdown",
   "id": "48393c0f",
   "metadata": {
    "papermill": {
     "duration": 0.034439,
     "end_time": "2024-09-06T15:10:47.366622",
     "exception": false,
     "start_time": "2024-09-06T15:10:47.332183",
     "status": "completed"
    },
    "tags": []
   },
   "source": [
    "## 3.3. Hyperparameter tuning"
   ]
  },
  {
   "cell_type": "markdown",
   "id": "b75ff151",
   "metadata": {
    "papermill": {
     "duration": 0.034517,
     "end_time": "2024-09-06T15:10:47.436643",
     "exception": false,
     "start_time": "2024-09-06T15:10:47.402126",
     "status": "completed"
    },
    "tags": []
   },
   "source": [
    "***Exercise : Hyperparameter tuning with GridSearchCV***\n",
    "\n",
    "Now you have seen how to perform **grid search hyperparameter tuning**, you are going to build a **lasso regression model** with optimal hyperparameters to predict blood glucose levels using the features in the diabetes_df dataset.\n",
    "\n",
    "X_train, X_test, y_train, and y_test have been preloaded for you. A KFold() object has been created and stored for you as kf, along with a lasso regression model as lasso."
   ]
  },
  {
   "cell_type": "markdown",
   "id": "1705ebc9",
   "metadata": {
    "papermill": {
     "duration": 0.035232,
     "end_time": "2024-09-06T15:10:47.506799",
     "exception": false,
     "start_time": "2024-09-06T15:10:47.471567",
     "status": "completed"
    },
    "tags": []
   },
   "source": [
    "***Instructions***\n",
    "\n",
    "* Import GridSearchCV.\n",
    "* Set up a parameter grid for \"alpha\", using np.linspace() to create 20 evenly spaced values ranging from 0.00001 to 1.\n",
    "* Call GridSearchCV(), passing lasso, the parameter grid, and setting cv equal to kf.\n",
    "* Fit the grid search object to the training data to perform a cross-validated grid search."
   ]
  },
  {
   "cell_type": "code",
   "execution_count": 93,
   "id": "f843c74a",
   "metadata": {
    "execution": {
     "iopub.execute_input": "2024-09-06T15:10:47.580839Z",
     "iopub.status.busy": "2024-09-06T15:10:47.580423Z",
     "iopub.status.idle": "2024-09-06T15:10:47.595935Z",
     "shell.execute_reply": "2024-09-06T15:10:47.594951Z"
    },
    "papermill": {
     "duration": 0.055498,
     "end_time": "2024-09-06T15:10:47.598993",
     "exception": false,
     "start_time": "2024-09-06T15:10:47.543495",
     "status": "completed"
    },
    "tags": []
   },
   "outputs": [
    {
     "name": "stdout",
     "output_type": "stream",
     "text": [
      "X: [[ 6.    72.    35.    ...  0.627 50.     1.   ]\n",
      " [ 1.    66.    29.    ...  0.351 31.     0.   ]\n",
      " [ 8.    64.     0.    ...  0.672 32.     1.   ]\n",
      " ...\n",
      " [ 5.    72.    23.    ...  0.245 30.     0.   ]\n",
      " [ 1.    60.     0.    ...  0.349 47.     1.   ]\n",
      " [ 1.    70.    31.    ...  0.315 23.     0.   ]]\n",
      "####\n",
      "y: [148  85 183  89 137 116  78 115 197 125 110 168 139 189 166 100 118 107\n",
      " 103 115 126  99 196 119 143 125 147  97 145 117 109 158  88  92 122 103\n",
      " 138 102  90 111 180 133 106 171 159 180 146  71 103 105 103 101  88 176\n",
      " 150  73 187 100 146 105  84 133  44 141 114  99 109 109  95 146 100 139\n",
      " 126 129  79   0  62  95 131 112 113  74  83 101 137 110 106 100 136 107\n",
      "  80 123  81 134 142 144  92  71  93 122 163 151 125  81  85 126  96 144\n",
      "  83  95 171 155  89  76 160 146 124  78  97  99 162 111 107 132 113  88\n",
      " 120 118 117 105 173 122 170  84  96 125 100  93 129 105 128 106 108 108\n",
      " 154 102  57 106 147  90 136 114 156 153 188 152  99 109  88 163 151 102\n",
      " 114 100 131 104 148 120 110 111 102 134  87  79  75 179  85 129 143 130\n",
      "  87 119   0  73 141 194 181 128 109 139 111 123 159 135  85 158 105 107\n",
      " 109 148 113 138 108  99 103 111 196 162  96 184  81 147 179 140 112 151\n",
      " 109 125  85 112 177 158 119 142 100  87 101 162 197 117 142 134  79 122\n",
      "  74 171 181 179 164 104  91  91 139 119 146 184 122 165 124 111 106 129\n",
      "  90  86  92 113 111 114 193 155 191 141  95 142 123  96 138 128 102 146\n",
      " 101 108 122  71 106 100 106 104 114 108 146 129 133 161 108 136 155 119\n",
      "  96 108  78 107 128 128 161 151 146 126 100 112 167 144  77 115 150 120\n",
      " 161 137 128 124  80 106 155 113 109 112  99 182 115 194 129 112 124 152\n",
      " 112 157 122 179 102 105 118  87 180 106  95 165 117 115 152 178 130  95\n",
      "   0 122  95 126 139 116  99   0  92 137  61  90  90 165 125 129  88 196\n",
      " 189 158 103 146 147  99 124 101  81 133 173 118  84 105 122 140  98  87\n",
      " 156  93 107 105 109  90 125 119 116 105 144 100 100 166 131 116 158 127\n",
      "  96 131  82 193  95 137 136  72 168 123 115 101 197 172 102 112 143 143\n",
      " 138 173  97 144  83 129 119  94 102 115 151 184  94 181 135  95  99  89\n",
      "  80 139  90 141 140 147  97 107 189  83 117 108 117 180 100  95 104 120\n",
      "  82 134  91 119 100 175 135  86 148 134 120  71  74  88 115 124  74  97\n",
      " 120 154 144 137 119 136 114 137 105 114 126 132 158 123  85  84 145 135\n",
      " 139 173  99 194  83  89  99 125  80 166 110  81 195 154 117  84   0  94\n",
      "  96  75 180 130  84 120  84 139  91  91  99 163 145 125  76 129  68 124\n",
      " 114 130 125  87  97 116 117 111 122 107  86  91  77 132 105  57 127 129\n",
      " 100 128  90  84  88 186 187 131 164 189 116  84 114  88  84 124  97 110\n",
      " 103  85 125 198  87  99  91  95  99  92 154 121  78 130 111  98 143 119\n",
      " 108 118 133 197 151 109 121 100 124  93 143 103 176  73 111 112 132  82\n",
      " 123 188  67  89 173 109 108  96 124 150 183 124 181  92 152 111 106 174\n",
      " 168 105 138 106 117  68 112 119 112  92 183  94 108  90 125 132 128  94\n",
      " 114 102 111 128  92 104 104  94  97 100 102 128 147  90 103 157 167 179\n",
      " 136 107  91 117 123 120 106 155 101 120 127  80 162 199 167 145 115 112\n",
      " 145 111  98 154 165  99  68 123  91 195 156  93 121 101  56 162  95 125\n",
      " 136 129 130 107 140 144 107 158 121 129  90 142 169  99 127 118 122 125\n",
      " 168 129 110  80 115 127 164  93 158 126 129 134 102 187 173  94 108  97\n",
      "  83 114 149 117 111 112 116 141 175  92 130 120 174 106 105  95 126  65\n",
      "  99 102 120 102 109 140 153 100 147  81 187 162 136 121 108 181 154 128\n",
      " 137 123 106 190  88 170  89 101 122 121 126  93]\n",
      "####\n",
      "X_train: [[ 2.     0.     0.    ...  0.304 21.     0.   ]\n",
      " [ 9.    82.    24.    ...  1.282 50.     1.   ]\n",
      " [ 1.    46.    19.    ...  0.654 22.     0.   ]\n",
      " ...\n",
      " [10.    86.    37.    ...  1.136 38.     1.   ]\n",
      " [ 0.     0.     0.    ...  0.205 29.     1.   ]\n",
      " [ 0.    96.     0.    ...  0.262 21.     0.   ]]\n",
      "####\n",
      "X_test: [[ 6.    58.    33.    ...  0.43  43.     0.   ]\n",
      " [ 2.    75.    32.    ...  0.148 21.     0.   ]\n",
      " [ 2.    64.     0.    ...  0.158 21.     0.   ]\n",
      " ...\n",
      " [ 8.    72.     0.    ...  0.485 57.     0.   ]\n",
      " [ 2.    70.    38.    ...  0.337 29.     1.   ]\n",
      " [ 8.    70.    40.    ...  0.705 39.     0.   ]]\n",
      "####\n",
      "y_train: [ 84 112 139 161 134 130 132 161 108  80  87 171  88 146 191 122 159 100\n",
      " 123 123 155 102 125 100 104 131 145 152 100 147 128 100  80  84 194 123\n",
      "  78 106 129 129  61  81 102  99 107 170  85 102  97 127 133  94  83 123\n",
      " 187 152 129 106 111 111 143 124 165 108 137 179 171  83 101 120  89 129\n",
      " 119 109 127 105  77  95 105 135 131 103  82 128 122 138 125 101 133 111\n",
      "  95 117 165 109 110 106  95   0 143 101 115 142 116 126  78  99 143 128\n",
      "  85  87 106 100 124  95  79 107  90  85 160 162  81 107 107 144 114 134\n",
      " 127 180 168 171 106 120 195 145 105 143  80  76 129  86 129 114 117 189\n",
      " 100 126 111 144 189 101 100  73   0 119  94 125 111 196 158  97 121 108\n",
      " 151 103  99 117 134 133 180 114 108 141  94  99 153   0 102 104  95 142\n",
      " 109 108 181 136 106  78  88 128 108 164 148 190  81  68  90 114 124 124\n",
      " 197 186 127  91 106 115 122 154 132 173 169 126 102 107 137  80 119 146\n",
      "   0 118 188 141 158  93 157 144 105 133 115 163 180 144 141 115 130 150\n",
      "  82 117 102  90 113 174 154 194  91 166 140 123 119 112  90  93 108 111\n",
      " 106 193 125 129 115  87 132 155 100 187 139 101 197 120  90 125 108 111\n",
      "  90 130 184 100 128  97 116 122 111 188 120  97  95  99 119  76 125  79\n",
      " 196  82 100 107 119 146 107 130 124 113 125 183  65 111 146 174  97 142\n",
      "  87 144 126 121 128  57  56 124 116 181 180 154 124 134 118 103 140 110\n",
      "  89  92  84  99 128 158  95 164 161  92 136 163  87 147  92 142 147 103\n",
      " 147 117 102 109 179  99 122 154 173 117 120 179 155 118 130  85 120 112\n",
      "  94 109 114 102 114 114 156 105  84 112 155 101  90  81  94 129  99 176\n",
      " 114  72 117 162  91  89 197  90 138  91  86 115  93 103 116  95 126 138\n",
      " 136 105 136 116  99 106  57  92 129 151  99  88 157 181 132 101 108 106\n",
      " 107 108 128  95 107  73 108  97 122 173 125 105 136 111  96  99 112 130\n",
      " 176 168  67 116 153 120 128  92  83 110  89  79 165 105 122 106 182 102\n",
      " 140  88 193 133  98 125 100  92 114 119 116  75 137 158 129 127 117  97\n",
      " 118 110 139 163 125 103 100 102 162 123 149 144  99  91 143 120  88 156\n",
      " 196 131 131 120 125 137 147 107 168 187  93  98 115   0  71  88 113  96\n",
      "  97 121 142 194 156  96  83 166 132 195 129  44 137 179 117  81  68 114\n",
      " 166  99 180  99  93 128 109  88 115 151 129  71 175 121 146 138 102 124\n",
      " 137 105 126  95 100  85  94 198 113 111 122  84 181 100 124 123 178  91\n",
      " 126  91 189 112 108 105  71 148 170 167 145 136  96 119  99  87 130 139\n",
      " 118 137 162  84 146 114 125  90  99 113 134 151 106 123 119 143  89 122\n",
      " 128 199 173 145 122  84 100 148 118 112  74 111 138 126 122 139  96 101\n",
      " 141 125]\n",
      "####\n",
      "y_test: [ 98 112 108 107 136 103  71 117 154 147 111 179 148  96  88 125  84  86\n",
      " 183 140 104  88 106  96 129 184 109 100 102  89 162 146 184 167 109 152\n",
      " 197 109 121 131  85 135 109 104  92 158 111  95 112 173  94 145 140 134\n",
      " 139  74 158  80 121 168 154 122 129  92  84 147  81 137 104 172 150  83\n",
      "  91  95 103 103 105  96 117 110 159 104  75 135 119 187 152 124  99  87\n",
      "  93  92  74 120 123 144 106  83 177  62 164  78 126 146 158 112 141 173\n",
      "  80 109  97 175 105 167 112 124 162 110  91 115 105 100 119  90 151 101\n",
      " 115 155 135 189 183 151 109 136 181 102 120 158 150  68 112  90 139 139\n",
      "  93  84  85  73 112 165  77  95 146  74]\n"
     ]
    }
   ],
   "source": [
    "# Step 1: Import the required functions\n",
    "from sklearn.model_selection import train_test_split\n",
    "\n",
    "# Step 2: Separate features (X) and target (y)\n",
    "X = diabetes_df.drop('glucose', axis=1).values  # Features (all columns except 'diabetes')\n",
    "y = diabetes_df['glucose'].values  # Target variable (the 'diabetes' column)\n",
    "\n",
    "print(\"X:\", X)\n",
    "print(\"####\")\n",
    "print(\"y:\", y)\n",
    "print(\"####\")\n",
    "# Step 3: Split the data into training and testing sets\n",
    "X_train, X_test, y_train, y_test = train_test_split(X, y, test_size=0.2, random_state=42)\n",
    "\n",
    "# Now you have X_train, X_test, y_train, and y_test ready to use for modeling\n",
    "print(\"X_train:\", X_train)\n",
    "print(\"####\")\n",
    "print(\"X_test:\", X_test)\n",
    "print(\"####\")\n",
    "print(\"y_train:\", y_train)\n",
    "print(\"####\")\n",
    "print(\"y_test:\", y_test)"
   ]
  },
  {
   "cell_type": "code",
   "execution_count": 94,
   "id": "a37ef958",
   "metadata": {
    "execution": {
     "iopub.execute_input": "2024-09-06T15:10:47.672571Z",
     "iopub.status.busy": "2024-09-06T15:10:47.672147Z",
     "iopub.status.idle": "2024-09-06T15:10:47.860473Z",
     "shell.execute_reply": "2024-09-06T15:10:47.859100Z"
    },
    "papermill": {
     "duration": 0.227526,
     "end_time": "2024-09-06T15:10:47.862916",
     "exception": false,
     "start_time": "2024-09-06T15:10:47.635390",
     "status": "completed"
    },
    "tags": []
   },
   "outputs": [
    {
     "name": "stdout",
     "output_type": "stream",
     "text": [
      "Tuned lasso paramaters: {'alpha': np.float64(0.05264105263157895)}\n",
      "Tuned lasso score: 0.3265989419658603\n"
     ]
    }
   ],
   "source": [
    "# Instantiate Lasso model\n",
    "lasso = Lasso()\n",
    "\n",
    "# Import GridSearchCV\n",
    "from sklearn.model_selection import GridSearchCV\n",
    "\n",
    "# Set up the parameter grid\n",
    "param_grid = {\"alpha\": np.linspace(0.00001, 1, 20)}\n",
    "\n",
    "# Instantiate GridSearchCV for Lasso with 5-fold cross-validation\n",
    "lasso_cv = GridSearchCV(estimator=lasso, param_grid=param_grid, cv=kf)\n",
    "\n",
    "# Fit to the training data\n",
    "lasso_cv.fit(X_train, y_train)\n",
    "\n",
    "# Print the best parameters and the best score\n",
    "print(\"Tuned lasso paramaters: {}\".format(lasso_cv.best_params_))\n",
    "print(\"Tuned lasso score: {}\".format(lasso_cv.best_score_))"
   ]
  },
  {
   "cell_type": "markdown",
   "id": "9b50f1cb",
   "metadata": {
    "papermill": {
     "duration": 0.034979,
     "end_time": "2024-09-06T15:10:47.933555",
     "exception": false,
     "start_time": "2024-09-06T15:10:47.898576",
     "status": "completed"
    },
    "tags": []
   },
   "source": [
    "***Exercise : Hyperparameter tuning with RandomizedSearchCV***\n",
    "\n",
    "As you saw, **GridSearchCV** can be computationally expensive, especially if you are searching over a **large hyperparameter space**. In this case, you can use **RandomizedSearchCV**, which tests a fixed number of hyperparameter settings from specified probability distributions.\n",
    "\n",
    "Training and test sets from **diabetes_df** have been pre-loaded for you as X_train. X_test, y_train, and y_test, where the target is \"**diabetes**\". A **logistic regression model** has been created and stored as **logreg**, as well as a **KFold** variable stored as kf.\n",
    "\n",
    "You will define a range of hyperparameters and use **RandomizedSearchCV**, which has been imported from **sklearn.model_selection**, to look for optimal hyperparameters from these options.\n"
   ]
  },
  {
   "cell_type": "markdown",
   "id": "6b3df58b",
   "metadata": {
    "papermill": {
     "duration": 0.035725,
     "end_time": "2024-09-06T15:10:48.004584",
     "exception": false,
     "start_time": "2024-09-06T15:10:47.968859",
     "status": "completed"
    },
    "tags": []
   },
   "source": [
    "***Instructions***\n",
    "* Create params, adding \"l1\" and \"l2\" as penalty values, setting C to a range of 50 float values between 0.1 and 1.0, and class_weight to either \"balanced\" or a dictionary containing 0:0.8, 1:0.2.\n",
    "* Create the Randomized Search CV object, passing the model and the parameters, and setting cv equal to kf.\n",
    "* Fit logreg_cv to the training data.\n",
    "* Print the model's best parameters and accuracy score."
   ]
  },
  {
   "cell_type": "code",
   "execution_count": 95,
   "id": "084ad5bb",
   "metadata": {
    "execution": {
     "iopub.execute_input": "2024-09-06T15:10:48.077220Z",
     "iopub.status.busy": "2024-09-06T15:10:48.076832Z",
     "iopub.status.idle": "2024-09-06T15:10:48.093216Z",
     "shell.execute_reply": "2024-09-06T15:10:48.091338Z"
    },
    "papermill": {
     "duration": 0.055523,
     "end_time": "2024-09-06T15:10:48.095544",
     "exception": false,
     "start_time": "2024-09-06T15:10:48.040021",
     "status": "completed"
    },
    "tags": []
   },
   "outputs": [
    {
     "name": "stdout",
     "output_type": "stream",
     "text": [
      "X: [[  6.    148.     72.    ...  33.6     0.627  50.   ]\n",
      " [  1.     85.     66.    ...  26.6     0.351  31.   ]\n",
      " [  8.    183.     64.    ...  23.3     0.672  32.   ]\n",
      " ...\n",
      " [  5.    121.     72.    ...  26.2     0.245  30.   ]\n",
      " [  1.    126.     60.    ...  30.1     0.349  47.   ]\n",
      " [  1.     93.     70.    ...  30.4     0.315  23.   ]]\n",
      "####\n",
      "y: [1 0 1 0 1 0 1 0 1 1 0 1 0 1 1 1 1 1 0 1 0 0 1 1 1 1 1 0 0 0 0 1 0 0 0 0 0\n",
      " 1 1 1 0 0 0 1 0 1 0 0 1 0 0 0 0 1 0 0 1 0 0 0 0 1 0 0 1 0 1 0 0 0 1 0 1 0\n",
      " 0 0 0 0 1 0 0 0 0 0 1 0 0 0 1 0 0 0 0 1 0 0 0 0 0 1 1 0 0 0 0 0 0 0 0 1 1\n",
      " 1 0 0 1 1 1 0 0 0 1 0 0 0 1 1 0 0 1 1 1 1 1 0 0 0 0 0 0 0 0 0 0 1 0 0 0 0\n",
      " 0 0 0 0 1 0 1 1 0 0 0 1 0 0 0 0 1 1 0 0 0 0 1 1 0 0 0 1 0 1 0 1 0 0 0 0 0\n",
      " 1 1 1 1 1 0 0 1 1 0 1 0 1 1 1 0 0 0 0 0 0 1 1 0 1 0 0 0 1 1 1 1 0 1 1 1 1\n",
      " 0 0 0 0 0 1 0 0 1 1 0 0 0 1 1 1 1 0 0 0 1 1 0 1 0 0 0 0 0 0 0 0 1 1 0 0 0\n",
      " 1 0 1 0 0 1 0 1 0 0 1 1 0 0 0 0 0 1 0 0 0 1 0 0 1 1 0 0 1 0 0 0 1 1 1 0 0\n",
      " 1 0 1 0 1 1 0 1 0 0 1 0 1 1 0 0 1 0 1 0 0 1 0 1 0 1 1 1 0 0 1 0 1 0 0 0 1\n",
      " 0 0 0 0 1 1 1 0 0 0 0 0 0 0 0 0 1 0 0 0 0 0 1 1 1 0 1 1 0 0 1 0 0 1 0 0 1\n",
      " 1 0 0 0 0 1 0 0 1 0 0 0 0 0 0 0 1 1 1 0 0 1 0 0 1 0 0 1 0 1 1 0 1 0 1 0 1\n",
      " 0 1 1 0 0 0 0 1 1 0 1 0 1 0 0 0 0 1 1 0 1 0 1 0 0 0 0 0 1 0 0 0 0 1 0 0 1\n",
      " 1 1 0 0 1 0 0 1 0 0 0 1 0 0 1 0 0 0 0 0 0 0 0 0 1 0 0 0 0 0 0 0 1 0 0 0 1\n",
      " 0 0 0 1 1 0 0 0 0 0 0 0 1 0 0 0 0 1 0 0 0 1 0 0 0 1 0 0 0 1 0 0 0 0 1 1 0\n",
      " 0 0 0 0 0 1 0 0 0 0 0 0 0 0 0 0 0 1 0 0 0 1 1 1 1 0 0 1 1 0 0 0 0 0 0 0 0\n",
      " 0 0 0 0 0 1 1 0 0 0 0 0 0 0 1 0 0 0 0 0 0 0 1 0 1 1 0 0 0 1 0 1 0 1 0 1 0\n",
      " 1 0 0 1 0 0 1 0 0 0 0 1 1 0 1 0 0 0 0 1 1 0 1 0 0 0 1 1 0 0 0 0 0 0 0 0 0\n",
      " 0 1 0 0 0 0 1 0 0 1 0 0 0 1 0 0 0 1 1 1 0 0 0 0 0 0 1 0 0 0 1 0 1 1 1 1 0\n",
      " 1 1 0 0 0 0 0 0 0 1 1 0 1 0 0 1 0 1 0 0 0 0 0 1 0 1 0 1 0 1 1 0 0 0 0 1 1\n",
      " 0 0 0 1 0 1 1 0 0 1 0 0 1 1 0 0 1 0 0 1 0 0 0 0 0 0 0 1 1 1 0 0 0 0 0 0 1\n",
      " 1 0 0 1 0 0 1 0 1 1 1 0 0 1 1 1 0 1 0 1 0 1 0 0 0 0 1 0]\n",
      "####\n",
      "X_train: [[  2.     84.      0.    ...   0.      0.304  21.   ]\n",
      " [  9.    112.     82.    ...  28.2     1.282  50.   ]\n",
      " [  1.    139.     46.    ...  28.7     0.654  22.   ]\n",
      " ...\n",
      " [ 10.    101.     86.    ...  45.6     1.136  38.   ]\n",
      " [  0.    141.      0.    ...  42.4     0.205  29.   ]\n",
      " [  0.    125.     96.    ...  22.5     0.262  21.   ]]\n",
      "####\n",
      "X_test: [[  6.     98.     58.    ...  34.      0.43   43.   ]\n",
      " [  2.    112.     75.    ...  35.7     0.148  21.   ]\n",
      " [  2.    108.     64.    ...  30.8     0.158  21.   ]\n",
      " ...\n",
      " [  8.     95.     72.    ...  36.8     0.485  57.   ]\n",
      " [  2.    146.     70.    ...  28.      0.337  29.   ]\n",
      " [  8.     74.     70.    ...  35.3     0.705  39.   ]]\n",
      "####\n",
      "y_train: [0 1 0 0 1 0 1 1 0 0 0 1 0 0 0 1 0 1 1 0 0 0 0 0 1 1 0 0 0 1 1 0 0 0 1 0 1\n",
      " 0 1 0 0 0 0 0 1 1 0 0 1 0 0 0 0 0 1 1 0 0 0 0 1 0 0 1 0 0 1 0 0 0 0 0 1 1\n",
      " 0 0 0 0 0 1 0 0 0 0 1 1 0 0 1 0 0 0 0 0 0 0 1 0 1 0 0 0 0 1 0 0 0 1 0 0 0\n",
      " 0 0 0 0 0 0 0 1 1 0 0 0 1 0 0 0 1 1 1 0 0 1 1 0 0 0 0 1 0 1 0 0 1 1 0 0 1\n",
      " 1 0 0 0 0 0 0 1 0 1 1 0 0 0 1 0 0 0 1 1 1 0 1 0 0 0 0 0 0 0 0 1 1 0 1 1 0\n",
      " 0 1 0 0 1 1 1 0 0 0 0 0 1 0 1 0 0 0 0 0 0 0 1 1 0 0 0 0 0 0 0 1 0 1 1 1 0\n",
      " 0 0 0 0 1 1 1 1 0 0 1 0 0 1 1 0 1 1 0 1 0 0 0 1 0 1 0 1 0 0 0 1 1 0 1 0 0\n",
      " 1 0 1 0 0 1 0 0 1 0 0 1 0 1 1 0 0 0 0 1 1 0 1 0 0 1 0 1 0 1 0 0 0 0 1 1 1\n",
      " 1 1 0 0 0 0 1 1 0 0 0 1 0 1 0 0 0 0 0 1 1 0 1 1 1 1 1 0 0 0 0 0 1 1 0 1 1\n",
      " 0 0 1 0 1 0 0 0 0 0 0 1 0 1 0 0 0 1 0 1 1 1 0 0 0 0 0 0 0 0 0 0 0 1 0 0 0\n",
      " 1 0 1 0 0 1 0 1 0 0 0 1 0 0 1 0 0 0 0 1 0 0 0 0 0 1 0 0 0 0 0 0 0 0 1 1 0\n",
      " 0 0 1 0 0 1 0 1 0 1 1 0 0 0 0 0 1 1 1 1 0 0 0 1 1 1 1 0 1 0 0 0 0 0 0 0 0\n",
      " 0 0 0 0 1 0 0 0 0 0 0 0 0 0 1 0 0 0 0 0 1 0 0 0 1 0 1 1 0 0 1 1 0 0 1 0 0\n",
      " 0 0 0 0 1 1 0 1 0 0 1 1 0 1 1 0 0 1 1 0 0 0 0 0 1 1 0 1 0 0 1 1 1 0 0 0 1\n",
      " 1 0 0 1 1 0 0 0 0 1 1 0 1 0 0 0 1 0 1 0 0 0 0 1 0 0 0 0 0 1 0 0 0 0 1 0 1\n",
      " 0 1 0 0 0 1 0 0 1 0 0 1 1 1 1 0 1 0 0 0 1 0 0 1 1 0 0 1 0 0 0 0 0 1 0 0 0\n",
      " 0 0 1 1 1 1 1 0 0 1 0 1 0 0 1 0 0 0 0 1 1 0]\n",
      "####\n",
      "y_test: [0 0 0 0 0 0 0 0 0 0 1 0 1 0 0 1 0 0 1 1 0 0 0 0 0 1 0 0 1 0 1 1 1 1 0 1 1\n",
      " 1 0 1 0 0 0 1 0 1 1 0 0 0 0 1 1 1 0 0 0 0 0 1 1 0 0 1 0 0 0 1 0 1 0 0 0 1\n",
      " 0 0 0 0 0 0 1 1 0 0 0 1 1 1 0 0 0 0 0 1 0 0 0 0 1 0 0 0 1 0 1 0 0 1 1 1 0\n",
      " 0 0 1 0 0 1 0 0 0 0 0 1 0 0 0 1 1 1 0 1 1 0 1 1 0 1 1 1 0 0 0 0 0 0 0 1 0\n",
      " 0 1 0 0 1 0]\n"
     ]
    }
   ],
   "source": [
    "# Step 1: Import the required functions\n",
    "from sklearn.model_selection import train_test_split\n",
    "\n",
    "# Step 2: Separate features (X) and target (y)\n",
    "X = diabetes_df.drop('diabetes', axis=1).values  # Features (all columns except 'diabetes')\n",
    "y = diabetes_df['diabetes'].values  # Target variable (the 'diabetes' column)\n",
    "\n",
    "print(\"X:\", X)\n",
    "print(\"####\")\n",
    "print(\"y:\", y)\n",
    "print(\"####\")\n",
    "# Step 3: Split the data into training and testing sets\n",
    "X_train, X_test, y_train, y_test = train_test_split(X, y, test_size=0.2, random_state=42)\n",
    "\n",
    "# Now you have X_train, X_test, y_train, and y_test ready to use for modeling\n",
    "print(\"X_train:\", X_train)\n",
    "print(\"####\")\n",
    "print(\"X_test:\", X_test)\n",
    "print(\"####\")\n",
    "print(\"y_train:\", y_train)\n",
    "print(\"####\")\n",
    "print(\"y_test:\", y_test)"
   ]
  },
  {
   "cell_type": "code",
   "execution_count": 96,
   "id": "ed509f63",
   "metadata": {
    "execution": {
     "iopub.execute_input": "2024-09-06T15:10:48.169273Z",
     "iopub.status.busy": "2024-09-06T15:10:48.168850Z",
     "iopub.status.idle": "2024-09-06T15:10:48.419117Z",
     "shell.execute_reply": "2024-09-06T15:10:48.417437Z"
    },
    "papermill": {
     "duration": 0.289622,
     "end_time": "2024-09-06T15:10:48.421521",
     "exception": false,
     "start_time": "2024-09-06T15:10:48.131899",
     "status": "completed"
    },
    "tags": []
   },
   "outputs": [
    {
     "name": "stdout",
     "output_type": "stream",
     "text": [
      "Tuned Logistic Regression Parameters: {'logreg__tol': np.float64(0.3878163265306122), 'logreg__solver': 'saga', 'logreg__penalty': 'l2', 'logreg__max_iter': 400, 'logreg__class_weight': 'balanced', 'logreg__C': np.float64(0.11836734693877551)}\n",
      "Tuned Logistic Regression Best Accuracy Score: 0.7606447109588171\n"
     ]
    }
   ],
   "source": [
    "from sklearn.model_selection import RandomizedSearchCV\n",
    "from sklearn.preprocessing import StandardScaler\n",
    "from sklearn.pipeline import Pipeline\n",
    "from sklearn.linear_model import LogisticRegression\n",
    "import numpy as np\n",
    "\n",
    "# Create the parameter space\n",
    "params = {\"logreg__penalty\": [\"l1\", \"l2\"],\n",
    "          \"logreg__tol\": np.linspace(0.0001, 1.0, 50),\n",
    "          \"logreg__C\": np.linspace(0.1, 1.0, 50),\n",
    "          \"logreg__class_weight\": [\"balanced\", {0:0.8, 1:0.2}],\n",
    "          \"logreg__solver\": [\"liblinear\", \"saga\"],\n",
    "          \"logreg__max_iter\": [200, 300, 400]}\n",
    "\n",
    "# Create a pipeline\n",
    "pipeline = Pipeline([\n",
    "    ('scaler', StandardScaler()),\n",
    "    ('logreg', LogisticRegression())\n",
    "])\n",
    "\n",
    "# Instantiate the RandomizedSearchCV object\n",
    "logreg_cv = RandomizedSearchCV(pipeline, params, cv=kf)\n",
    "\n",
    "# Fit the data to the model\n",
    "logreg_cv.fit(X_train, y_train)\n",
    "\n",
    "# Print the tuned parameters and score\n",
    "print(\"Tuned Logistic Regression Parameters: {}\".format(logreg_cv.best_params_))\n",
    "print(\"Tuned Logistic Regression Best Accuracy Score: {}\".format(logreg_cv.best_score_))\n"
   ]
  },
  {
   "cell_type": "markdown",
   "id": "b91557e3",
   "metadata": {
    "papermill": {
     "duration": 0.035494,
     "end_time": "2024-09-06T15:10:48.492673",
     "exception": false,
     "start_time": "2024-09-06T15:10:48.457179",
     "status": "completed"
    },
    "tags": []
   },
   "source": [
    "**===>>>. Even without exhaustively trying every combination of hyperparameters, the model has an accuracy of over 70% on the test set! So far we have worked with clean datasets; however, in the next chapter, we will discuss the steps required to transform messy data before building supervised learning models.**"
   ]
  },
  {
   "cell_type": "markdown",
   "id": "a79d6605",
   "metadata": {
    "papermill": {
     "duration": 0.036581,
     "end_time": "2024-09-06T15:10:48.564790",
     "exception": false,
     "start_time": "2024-09-06T15:10:48.528209",
     "status": "completed"
    },
    "tags": []
   },
   "source": [
    "# Chapter-4: Preprocessing and Pipelines\n",
    "\n",
    "Learn how to impute missing values, convert categorical data to numeric values, scale data, evaluate multiple supervised learning models simultaneously, and build pipelines to streamline your workflow!"
   ]
  },
  {
   "cell_type": "markdown",
   "id": "836dfb46",
   "metadata": {
    "papermill": {
     "duration": 0.035083,
     "end_time": "2024-09-06T15:10:48.635184",
     "exception": false,
     "start_time": "2024-09-06T15:10:48.600101",
     "status": "completed"
    },
    "tags": []
   },
   "source": [
    "## 4.1. Preprocessing data\n"
   ]
  },
  {
   "cell_type": "code",
   "execution_count": 97,
   "id": "ab75f785",
   "metadata": {
    "execution": {
     "iopub.execute_input": "2024-09-06T15:10:48.707942Z",
     "iopub.status.busy": "2024-09-06T15:10:48.707242Z",
     "iopub.status.idle": "2024-09-06T15:10:48.726507Z",
     "shell.execute_reply": "2024-09-06T15:10:48.725208Z"
    },
    "papermill": {
     "duration": 0.058127,
     "end_time": "2024-09-06T15:10:48.728807",
     "exception": false,
     "start_time": "2024-09-06T15:10:48.670680",
     "status": "completed"
    },
    "tags": []
   },
   "outputs": [
    {
     "name": "stdout",
     "output_type": "stream",
     "text": [
      "Index(['Unnamed: 0', 'popularity', 'acousticness', 'danceability',\n",
      "       'duration_ms', 'energy', 'instrumentalness', 'liveness', 'loudness',\n",
      "       'speechiness', 'tempo', 'valence', 'genre'],\n",
      "      dtype='object')\n",
      "0      1\n",
      "1      1\n",
      "2      1\n",
      "3      1\n",
      "4      1\n",
      "      ..\n",
      "995    0\n",
      "996    0\n",
      "997    0\n",
      "998    0\n",
      "999    0\n",
      "Name: genre, Length: 1000, dtype: int64\n"
     ]
    }
   ],
   "source": [
    "music_df = pd.read_csv('data/music_clean.csv')\n",
    "music_df.head()\n",
    "print(music_df.columns)\n",
    "print(music_df[\"genre\"])"
   ]
  },
  {
   "attachments": {
    "a081010c-ba97-4cad-9f04-00ce54243f8c.png": {
     "image/png": "[encoded data removed]"
    }
   },
   "cell_type": "markdown",
   "id": "2a1155ab",
   "metadata": {
    "papermill": {
     "duration": 0.035375,
     "end_time": "2024-09-06T15:10:48.799965",
     "exception": false,
     "start_time": "2024-09-06T15:10:48.764590",
     "status": "completed"
    },
    "tags": []
   },
   "source": [
    "***Exercise : Creating dummy variables***\n",
    "\n",
    "Being able to include categorical features in the model building process can enhance performance as they may add information that contributes to prediction accuracy.\n",
    "\n",
    "The **music_df** dataset has been preloaded for you, and its shape is printed. Also, pandas has been imported as pd.\n",
    "\n",
    "Now you will create a new DataFrame containing the original columns of music_df plus **dummy variables from the \"genre\"** column.\n",
    "\n",
    "![Screenshot 2024-09-01 at 15.38.15.png](attachment:a081010c-ba97-4cad-9f04-00ce54243f8c.png)\n",
    "\n",
    "\n",
    "\n"
   ]
  },
  {
   "cell_type": "markdown",
   "id": "5a29fe32",
   "metadata": {
    "papermill": {
     "duration": 0.03535,
     "end_time": "2024-09-06T15:10:48.870987",
     "exception": false,
     "start_time": "2024-09-06T15:10:48.835637",
     "status": "completed"
    },
    "tags": []
   },
   "source": [
    "***Instructions***\n",
    "\n",
    "**Use a relevant function, passing the entire music_df DataFrame, to create music_dummies, dropping the first binary column.**\n",
    "**Print the shape of music_dummies.**\n",
    "\n"
   ]
  },
  {
   "cell_type": "code",
   "execution_count": 98,
   "id": "40c132e7",
   "metadata": {
    "execution": {
     "iopub.execute_input": "2024-09-06T15:10:48.943891Z",
     "iopub.status.busy": "2024-09-06T15:10:48.943508Z",
     "iopub.status.idle": "2024-09-06T15:10:48.973053Z",
     "shell.execute_reply": "2024-09-06T15:10:48.971473Z"
    },
    "papermill": {
     "duration": 0.068884,
     "end_time": "2024-09-06T15:10:48.975433",
     "exception": false,
     "start_time": "2024-09-06T15:10:48.906549",
     "status": "completed"
    },
    "tags": []
   },
   "outputs": [
    {
     "name": "stdout",
     "output_type": "stream",
     "text": [
      "Unnamed: 0          0\n",
      "popularity          0\n",
      "acousticness        0\n",
      "danceability        0\n",
      "duration_ms         0\n",
      "energy              0\n",
      "instrumentalness    0\n",
      "liveness            0\n",
      "loudness            0\n",
      "speechiness         0\n",
      "tempo               0\n",
      "valence             0\n",
      "genre               0\n",
      "dtype: int64\n",
      "################\n",
      "<class 'pandas.core.frame.DataFrame'>\n",
      "RangeIndex: 1000 entries, 0 to 999\n",
      "Data columns (total 13 columns):\n",
      " #   Column            Non-Null Count  Dtype  \n",
      "---  ------            --------------  -----  \n",
      " 0   Unnamed: 0        1000 non-null   int64  \n",
      " 1   popularity        1000 non-null   float64\n",
      " 2   acousticness      1000 non-null   float64\n",
      " 3   danceability      1000 non-null   float64\n",
      " 4   duration_ms       1000 non-null   float64\n",
      " 5   energy            1000 non-null   float64\n",
      " 6   instrumentalness  1000 non-null   float64\n",
      " 7   liveness          1000 non-null   float64\n",
      " 8   loudness          1000 non-null   float64\n",
      " 9   speechiness       1000 non-null   float64\n",
      " 10  tempo             1000 non-null   float64\n",
      " 11  valence           1000 non-null   float64\n",
      " 12  genre             1000 non-null   int64  \n",
      "dtypes: float64(11), int64(2)\n",
      "memory usage: 101.7 KB\n",
      "None\n",
      "################\n",
      "   Unnamed: 0  popularity  acousticness  danceability  duration_ms  energy  \\\n",
      "0       36506        60.0      0.896000         0.726     214547.0   0.177   \n",
      "1       37591        63.0      0.003840         0.635     190448.0   0.908   \n",
      "2       37658        59.0      0.000075         0.352     456320.0   0.956   \n",
      "3       36060        54.0      0.945000         0.488     352280.0   0.326   \n",
      "4       35710        55.0      0.245000         0.667     273693.0   0.647   \n",
      "\n",
      "   instrumentalness  liveness  loudness  speechiness    tempo  valence  genre  \n",
      "0          0.000002    0.1160   -14.824       0.0353   92.934    0.618      1  \n",
      "1          0.083400    0.2390    -4.795       0.0563  110.012    0.637      1  \n",
      "2          0.020300    0.1250    -3.634       0.1490  122.897    0.228      1  \n",
      "3          0.015700    0.1190   -12.020       0.0328  106.063    0.323      1  \n",
      "4          0.000297    0.0633    -7.787       0.0487  143.995    0.300      1  \n",
      "################\n",
      "Shape of music_dummies: (1000, 13)\n"
     ]
    }
   ],
   "source": [
    "print(music_df.isna().sum().sort_values())\n",
    "print(\"################\")\n",
    "\n",
    "# Create music_dummies\n",
    "music_dummies = pd.get_dummies(music_df, drop_first=True)\n",
    "print(music_dummies.info())\n",
    "print(\"################\")\n",
    "print(music_dummies.head())\n",
    "print(\"################\")\n",
    "\n",
    "# Print the new DataFrame's shape\n",
    "print(\"Shape of music_dummies: {}\".format(music_dummies.shape))"
   ]
  },
  {
   "cell_type": "markdown",
   "id": "e592b9cb",
   "metadata": {
    "papermill": {
     "duration": 0.035859,
     "end_time": "2024-09-06T15:10:49.047958",
     "exception": false,
     "start_time": "2024-09-06T15:10:49.012099",
     "status": "completed"
    },
    "tags": []
   },
   "source": [
    "**===>>>. As there were ten values in the \"genre\" column, nine new columns were added by a call of pd.get_dummies() using drop_first=True. After dropping the original \"genre\" column, there are still eight new columns in the DataFrame!**"
   ]
  },
  {
   "cell_type": "markdown",
   "id": "003b5b81",
   "metadata": {
    "papermill": {
     "duration": 0.035451,
     "end_time": "2024-09-06T15:10:49.119008",
     "exception": false,
     "start_time": "2024-09-06T15:10:49.083557",
     "status": "completed"
    },
    "tags": []
   },
   "source": [
    "***Exercise : Regression with categorical features***\n",
    "\n",
    "Now you have created **music_dummies**, **containing binary features for each song's genre**, it's time to build a **ridge regression model** to predict song popularity.\n",
    "\n",
    "music_dummies has been preloaded for you, along with Ridge, cross_val_score, numpy as np, and a **KFold** object stored as kf.\n",
    "\n",
    "The model will be evaluated by calculating **the average RMSE**, but first, you will need to convert the scores for each fold to positive values and take their square root. **This metric shows the average error of our model's predictions**, so it can be compared against the standard deviation of the target value—\"popularity\".\n"
   ]
  },
  {
   "cell_type": "markdown",
   "id": "b05c714b",
   "metadata": {
    "papermill": {
     "duration": 0.035741,
     "end_time": "2024-09-06T15:10:49.191507",
     "exception": false,
     "start_time": "2024-09-06T15:10:49.155766",
     "status": "completed"
    },
    "tags": []
   },
   "source": [
    "***Instructions***\n",
    "\n",
    "* Create X, containing all features in music_dummies, and y, consisting of the \"popularity\" column, respectively.\n",
    "* Instantiate a ridge regression model, setting alpha equal to 0.2.\n",
    "* Perform cross-validation on X and y using the ridge model, setting cv equal to kf, and using negative mean squared error as the scoring metric.\n",
    "* Print the RMSE values by converting negative scores to positive and taking the square root."
   ]
  },
  {
   "cell_type": "code",
   "execution_count": 99,
   "id": "39398c80",
   "metadata": {
    "execution": {
     "iopub.execute_input": "2024-09-06T15:10:49.265244Z",
     "iopub.status.busy": "2024-09-06T15:10:49.264406Z",
     "iopub.status.idle": "2024-09-06T15:10:49.285449Z",
     "shell.execute_reply": "2024-09-06T15:10:49.284317Z"
    },
    "papermill": {
     "duration": 0.061247,
     "end_time": "2024-09-06T15:10:49.288732",
     "exception": false,
     "start_time": "2024-09-06T15:10:49.227485",
     "status": "completed"
    },
    "tags": []
   },
   "outputs": [
    {
     "name": "stdout",
     "output_type": "stream",
     "text": [
      "Average RMSE: 10.00867853995568\n",
      "Standard Deviation of the target array: 14.02156909907019\n"
     ]
    }
   ],
   "source": [
    "from sklearn.model_selection import cross_val_score, KFold\n",
    "from sklearn.linear_model import LinearRegression\n",
    "\n",
    "# Create X and y\n",
    "X = music_dummies.drop(\"popularity\", axis=1).values\n",
    "y = music_dummies[\"popularity\"].values\n",
    "\n",
    "# Instantiate a ridge model\n",
    "ridge = Ridge(alpha=0.2)\n",
    "\n",
    "# Perform cross-validation\n",
    "scores = cross_val_score(ridge, X, y, cv=kf, scoring=\"neg_mean_squared_error\")\n",
    "\n",
    "# Calculate RMSE\n",
    "rmse = np.sqrt(-scores)\n",
    "print(\"Average RMSE: {}\".format(np.mean(rmse)))\n",
    "print(\"Standard Deviation of the target array: {}\".format(np.std(y)))"
   ]
  },
  {
   "cell_type": "markdown",
   "id": "5ea3ee25",
   "metadata": {
    "papermill": {
     "duration": 0.057395,
     "end_time": "2024-09-06T15:10:49.405966",
     "exception": false,
     "start_time": "2024-09-06T15:10:49.348571",
     "status": "completed"
    },
    "tags": []
   },
   "source": [
    "**===>>> An average RMSE of approximately 8.24 is lower than the standard deviation of the target variable (song popularity), suggesting the model is reasonably accurate.**"
   ]
  },
  {
   "cell_type": "markdown",
   "id": "0d3a8643",
   "metadata": {
    "papermill": {
     "duration": 0.035297,
     "end_time": "2024-09-06T15:10:49.476876",
     "exception": false,
     "start_time": "2024-09-06T15:10:49.441579",
     "status": "completed"
    },
    "tags": []
   },
   "source": [
    "## 4.2. Handling missing data\n"
   ]
  },
  {
   "cell_type": "markdown",
   "id": "192ccbe6",
   "metadata": {
    "papermill": {
     "duration": 0.036181,
     "end_time": "2024-09-06T15:10:49.549076",
     "exception": false,
     "start_time": "2024-09-06T15:10:49.512895",
     "status": "completed"
    },
    "tags": []
   },
   "source": [
    "***Exercise : Dropping missing data***\n",
    "\n",
    "Over the next three exercises, you are going to tidy the music_df dataset. You will create a pipeline to impute missing values and build a KNN classifier model, then use it to predict whether a song is of the \"Rock\" genre.\n",
    "\n",
    "In this exercise specifically, you will drop missing values accounting for less than 5% of the dataset, and convert the \"genre\" column into a binary feature.\n"
   ]
  },
  {
   "cell_type": "markdown",
   "id": "12acbdd9",
   "metadata": {
    "papermill": {
     "duration": 0.03532,
     "end_time": "2024-09-06T15:10:49.620297",
     "exception": false,
     "start_time": "2024-09-06T15:10:49.584977",
     "status": "completed"
    },
    "tags": []
   },
   "source": [
    "\n",
    "***Instructions 1/3***\n",
    "\n",
    "* Print the number of missing values for each column in the music_df dataset, sorted in ascending order."
   ]
  },
  {
   "cell_type": "code",
   "execution_count": 100,
   "id": "2e3915f2",
   "metadata": {
    "execution": {
     "iopub.execute_input": "2024-09-06T15:10:49.693368Z",
     "iopub.status.busy": "2024-09-06T15:10:49.692909Z",
     "iopub.status.idle": "2024-09-06T15:10:49.700593Z",
     "shell.execute_reply": "2024-09-06T15:10:49.699510Z"
    },
    "papermill": {
     "duration": 0.04679,
     "end_time": "2024-09-06T15:10:49.702730",
     "exception": false,
     "start_time": "2024-09-06T15:10:49.655940",
     "status": "completed"
    },
    "tags": []
   },
   "outputs": [
    {
     "name": "stdout",
     "output_type": "stream",
     "text": [
      "Unnamed: 0          0\n",
      "popularity          0\n",
      "acousticness        0\n",
      "danceability        0\n",
      "duration_ms         0\n",
      "energy              0\n",
      "instrumentalness    0\n",
      "liveness            0\n",
      "loudness            0\n",
      "speechiness         0\n",
      "tempo               0\n",
      "valence             0\n",
      "genre               0\n",
      "dtype: int64\n"
     ]
    }
   ],
   "source": [
    "# Print missing values for each column\n",
    "print(music_df.isna().sum().sort_values())"
   ]
  },
  {
   "cell_type": "markdown",
   "id": "eea2a15b",
   "metadata": {
    "papermill": {
     "duration": 0.035796,
     "end_time": "2024-09-06T15:10:49.775250",
     "exception": false,
     "start_time": "2024-09-06T15:10:49.739454",
     "status": "completed"
    },
    "tags": []
   },
   "source": [
    "\n",
    "***Instructions 2/3***\n",
    "\n",
    "* Remove values for all columns with 50 or fewer missing values."
   ]
  },
  {
   "cell_type": "code",
   "execution_count": 101,
   "id": "4d52bc17",
   "metadata": {
    "execution": {
     "iopub.execute_input": "2024-09-06T15:10:49.848989Z",
     "iopub.status.busy": "2024-09-06T15:10:49.848581Z",
     "iopub.status.idle": "2024-09-06T15:10:49.855215Z",
     "shell.execute_reply": "2024-09-06T15:10:49.854325Z"
    },
    "papermill": {
     "duration": 0.046187,
     "end_time": "2024-09-06T15:10:49.857322",
     "exception": false,
     "start_time": "2024-09-06T15:10:49.811135",
     "status": "completed"
    },
    "tags": []
   },
   "outputs": [],
   "source": [
    "# Remove values where less than 5% are missing\n",
    "music_df = music_df.dropna(subset=[\"genre\", \"popularity\", \"loudness\", \"liveness\", \"tempo\"])"
   ]
  },
  {
   "cell_type": "markdown",
   "id": "19a05f9b",
   "metadata": {
    "papermill": {
     "duration": 0.035865,
     "end_time": "2024-09-06T15:10:49.929577",
     "exception": false,
     "start_time": "2024-09-06T15:10:49.893712",
     "status": "completed"
    },
    "tags": []
   },
   "source": [
    "\n",
    "***Instructions 3/3***\n",
    "\n",
    "* Convert music_df[\"genre\"] to values of 1 if the row contains \"Rock\", otherwise change the value to 0."
   ]
  },
  {
   "cell_type": "code",
   "execution_count": 102,
   "id": "7a8bd733",
   "metadata": {
    "execution": {
     "iopub.execute_input": "2024-09-06T15:10:50.003054Z",
     "iopub.status.busy": "2024-09-06T15:10:50.002650Z",
     "iopub.status.idle": "2024-09-06T15:10:50.011814Z",
     "shell.execute_reply": "2024-09-06T15:10:50.010567Z"
    },
    "papermill": {
     "duration": 0.048807,
     "end_time": "2024-09-06T15:10:50.014273",
     "exception": false,
     "start_time": "2024-09-06T15:10:49.965466",
     "status": "completed"
    },
    "tags": []
   },
   "outputs": [
    {
     "name": "stdout",
     "output_type": "stream",
     "text": [
      "Unnamed: 0          0\n",
      "popularity          0\n",
      "acousticness        0\n",
      "danceability        0\n",
      "duration_ms         0\n",
      "energy              0\n",
      "instrumentalness    0\n",
      "liveness            0\n",
      "loudness            0\n",
      "speechiness         0\n",
      "tempo               0\n",
      "valence             0\n",
      "genre               0\n",
      "dtype: int64\n",
      "Shape of the `music_df`: (1000, 13)\n"
     ]
    }
   ],
   "source": [
    "# Convert genre to a binary feature\n",
    "music_df[\"genre\"] = np.where(music_df[\"genre\"] == \"Rock\", 1, 0)\n",
    "\n",
    "print(music_df.isna().sum().sort_values())\n",
    "print(\"Shape of the `music_df`: {}\".format(music_df.shape))"
   ]
  },
  {
   "cell_type": "markdown",
   "id": "85b1967c",
   "metadata": {
    "papermill": {
     "duration": 0.035595,
     "end_time": "2024-09-06T15:10:50.085859",
     "exception": false,
     "start_time": "2024-09-06T15:10:50.050264",
     "status": "completed"
    },
    "tags": []
   },
   "source": [
    "***Exercise : Pipeline for song genre prediction: I***\n",
    "\n",
    "Now it's time to build a pipeline. It will contain steps to impute missing values using the mean for each feature and build a KNN model for the classification of song genre.\n",
    "\n",
    "The modified **music_df** dataset that you created in the previous exercise has been preloaded for you, along with **KNeighborsClassifier** and **train_test_split**"
   ]
  },
  {
   "cell_type": "markdown",
   "id": "7da82b0e",
   "metadata": {
    "papermill": {
     "duration": 0.035795,
     "end_time": "2024-09-06T15:10:50.157623",
     "exception": false,
     "start_time": "2024-09-06T15:10:50.121828",
     "status": "completed"
    },
    "tags": []
   },
   "source": [
    "***Instructions***\n",
    "\n",
    "* Import SimpleImputer and Pipeline.\n",
    "* Instantiate an imputer.\n",
    "* Instantiate a KNN classifier with three neighbors.\n",
    "* Create steps, a list of tuples containing the imputer variable you created, called \"imputer\", followed by the knn model you created, called \"knn\"."
   ]
  },
  {
   "cell_type": "code",
   "execution_count": 103,
   "id": "8dec25f0",
   "metadata": {
    "execution": {
     "iopub.execute_input": "2024-09-06T15:10:50.231548Z",
     "iopub.status.busy": "2024-09-06T15:10:50.231120Z",
     "iopub.status.idle": "2024-09-06T15:10:50.242711Z",
     "shell.execute_reply": "2024-09-06T15:10:50.241654Z"
    },
    "papermill": {
     "duration": 0.05147,
     "end_time": "2024-09-06T15:10:50.245040",
     "exception": false,
     "start_time": "2024-09-06T15:10:50.193570",
     "status": "completed"
    },
    "tags": []
   },
   "outputs": [],
   "source": [
    "# Import modules\n",
    "from sklearn.impute import SimpleImputer\n",
    "from sklearn.pipeline import Pipeline\n",
    "from sklearn.neighbors import KNeighborsClassifier\n",
    "\n",
    "# Instantiate an imputer\n",
    "imputer = SimpleImputer()\n",
    "\n",
    "# Instantiate a knn model\n",
    "knn = KNeighborsClassifier(n_neighbors=3)\n",
    "\n",
    "# Build steps for the pipeline\n",
    "steps = [(\"imputer\", imputer),  # Imputation step\n",
    "         (\"knn\", knn)]  # KNN classification step"
   ]
  },
  {
   "cell_type": "markdown",
   "id": "b1e7c4fd",
   "metadata": {
    "papermill": {
     "duration": 0.0367,
     "end_time": "2024-09-06T15:10:50.318369",
     "exception": false,
     "start_time": "2024-09-06T15:10:50.281669",
     "status": "completed"
    },
    "tags": []
   },
   "source": [
    "***Exercise : Pipeline for song genre prediction: II***\n",
    "\n",
    "Having set up the steps of the pipeline in the previous exercise, you will now use it on the music_df dataset to classify the genre of songs. What makes pipelines so incredibly useful is the simple interface that they provide.\n",
    "\n",
    "**X_train**, **X_test**, **y_train**, and **y_test** have been preloaded for you, and **confusion_matrix** has been imported from sklearn.metrics."
   ]
  },
  {
   "cell_type": "markdown",
   "id": "7e5e1c8d",
   "metadata": {
    "papermill": {
     "duration": 0.036416,
     "end_time": "2024-09-06T15:10:50.392383",
     "exception": false,
     "start_time": "2024-09-06T15:10:50.355967",
     "status": "completed"
    },
    "tags": []
   },
   "source": [
    "***Instructions***\n",
    "\n",
    "* Create a pipeline using the steps you previously defined.\n",
    "* Fit the pipeline to the training data.\n",
    "* Make predictions on the test set.\n",
    "* Calculate and print the confusion matrix."
   ]
  },
  {
   "cell_type": "code",
   "execution_count": 104,
   "id": "3a54e196",
   "metadata": {
    "execution": {
     "iopub.execute_input": "2024-09-06T15:10:50.466426Z",
     "iopub.status.busy": "2024-09-06T15:10:50.465976Z",
     "iopub.status.idle": "2024-09-06T15:10:50.496782Z",
     "shell.execute_reply": "2024-09-06T15:10:50.495349Z"
    },
    "papermill": {
     "duration": 0.070509,
     "end_time": "2024-09-06T15:10:50.499148",
     "exception": false,
     "start_time": "2024-09-06T15:10:50.428639",
     "status": "completed"
    },
    "tags": []
   },
   "outputs": [
    {
     "name": "stdout",
     "output_type": "stream",
     "text": [
      "[[0 0 0 ... 0 0 0]\n",
      " [0 0 0 ... 0 0 0]\n",
      " [0 0 0 ... 0 0 0]\n",
      " ...\n",
      " [0 0 0 ... 0 0 0]\n",
      " [0 0 0 ... 0 0 0]\n",
      " [0 0 0 ... 0 0 0]]\n"
     ]
    }
   ],
   "source": [
    "# Instantiate the imputer (using mean strategy)\n",
    "imputer = SimpleImputer(strategy='mean')\n",
    "\n",
    "steps = [(\"imputer\", imputer),\n",
    "        (\"knn\", knn)]\n",
    "\n",
    "# Create the pipeline\n",
    "pipeline = Pipeline(steps)\n",
    "\n",
    "# Fit the pipeline to the training data\n",
    "X_train, X_test, y_train, y_test = train_test_split(X, y,test_size=0.3,random_state=42)\n",
    "pipeline.fit(X_train, y_train)\n",
    "\n",
    "# Make predictions on the test set\n",
    "y_pred = pipeline.predict(X_test)\n",
    "\n",
    "# Print the confusion matrix\n",
    "print(confusion_matrix(y_test, y_pred))"
   ]
  },
  {
   "cell_type": "markdown",
   "id": "eb565125",
   "metadata": {
    "papermill": {
     "duration": 0.036943,
     "end_time": "2024-09-06T15:10:50.573647",
     "exception": false,
     "start_time": "2024-09-06T15:10:50.536704",
     "status": "completed"
    },
    "tags": []
   },
   "source": [
    "## 4.3. Centering and scaling\n"
   ]
  },
  {
   "cell_type": "markdown",
   "id": "5884b416",
   "metadata": {
    "papermill": {
     "duration": 0.035485,
     "end_time": "2024-09-06T15:10:50.645134",
     "exception": false,
     "start_time": "2024-09-06T15:10:50.609649",
     "status": "completed"
    },
    "tags": []
   },
   "source": [
    "**Summary and Key Points:**\n",
    "\n",
    "**Centering and Scaling:**\n",
    "\n",
    "After data imputation, another crucial preprocessing step is centering and scaling. This involves adjusting data so features are on a similar scale, which is important for many machine learning models.\n",
    "\n",
    "**Why Scale Data?:**\n",
    "\n",
    "Different features in the dataset can have widely varying ranges (e.g., duration in milliseconds vs. speechiness). If not scaled, features with larger ranges can disproportionately influence models like KNN, which rely on distance calculations.\n",
    "\n",
    "**Scaling Methods:**\n",
    "\n",
    "Standardization: Subtract the mean and divide by the variance, centering data around zero with a variance of one.\n",
    "Normalization: Scale data to a range, such as 0 to 1 or -1 to 1. Standardization is used in the video, but scikit-learn supports other methods.\n",
    "\n",
    "**Scaling in scikit-learn:**\n",
    "\n",
    "Use StandardScaler from sklearn.preprocessing. Split data before scaling to avoid data leakage, fit the scaler on training data, and transform both training and test sets. This ensures features are centered and scaled appropriately.\n",
    "\n",
    "**Scaling in a Pipeline:**\n",
    "\n",
    "Incorporate the scaler into a pipeline with a KNN model. This automates scaling during model fitting and prediction. When tested, scaling improved model accuracy from 0.53 to 0.81.\n",
    "\n",
    "**Comparing Performance:**\n",
    "\n",
    "The scaled data significantly improved model performance compared to unscaled data, demonstrating the importance of scaling.\n",
    "\n",
    "**Cross-Validation (CV) and Scaling in a Pipeline:**\n",
    "\n",
    "Cross-validation can be integrated with pipelines to fine-tune hyperparameters (e.g., number of neighbors in KNN). By using GridSearchCV, the pipeline finds the optimal model configuration, leading to slight performance improvements.\n",
    "\n",
    "**Checking Model Parameters:**\n",
    "\n",
    "After grid search, the optimal model with 12 neighbors was identified, slightly improving accuracy over previous models.\n",
    "\n",
    "**Explanation:**\n",
    "\n",
    "Scaling and centering are essential for ensuring that all features contribute equally to distance-based models like KNN. Without scaling, features with larger ranges can dominate the model's decisions. By using tools like StandardScaler and pipelines in scikit-learn, scaling can be seamlessly integrated into the machine learning workflow, improving model performance. Additionally, cross-validation within pipelines allows for efficient hyperparameter tuning, further enhancing accuracy."
   ]
  },
  {
   "cell_type": "markdown",
   "id": "7ac8b665",
   "metadata": {
    "papermill": {
     "duration": 0.035765,
     "end_time": "2024-09-06T15:10:50.716729",
     "exception": false,
     "start_time": "2024-09-06T15:10:50.680964",
     "status": "completed"
    },
    "tags": []
   },
   "source": [
    "***Exercise : Centering and scaling for regression***\n",
    "\n",
    "Now you have seen the benefits of scaling your data, you will use a pipeline to preprocess the **music_df** features and build a **lasso regression model** to predict a **song's loudness**.\n",
    "\n",
    "X_train, X_test, y_train, and y_test have been created from the music_df dataset, where **the target is \"loudness\" and the features are all other columns in the dataset**. Lasso and Pipeline have also been imported for you.\n",
    "\n",
    "Note that \"genre\" has been converted to a binary feature where 1 indicates a rock song, and 0 represents other genres.\n",
    "\n",
    "\n"
   ]
  },
  {
   "cell_type": "markdown",
   "id": "bb2ace69",
   "metadata": {
    "papermill": {
     "duration": 0.03569,
     "end_time": "2024-09-06T15:10:50.788410",
     "exception": false,
     "start_time": "2024-09-06T15:10:50.752720",
     "status": "completed"
    },
    "tags": []
   },
   "source": [
    "***Instructions***\n",
    "\n",
    "* Import StandardScaler.\n",
    "* Create the steps for the pipeline object, a StandardScaler object called \"scaler\", and a lasso model called \"lasso\" with alpha set to 0.5.\n",
    "* Instantiate a pipeline with steps to scale and build a lasso regression model.\n",
    "* Calculate the R-squared value on the test data."
   ]
  },
  {
   "cell_type": "code",
   "execution_count": 105,
   "id": "96e4d55d",
   "metadata": {
    "execution": {
     "iopub.execute_input": "2024-09-06T15:10:50.862188Z",
     "iopub.status.busy": "2024-09-06T15:10:50.861804Z",
     "iopub.status.idle": "2024-09-06T15:10:50.881377Z",
     "shell.execute_reply": "2024-09-06T15:10:50.880184Z"
    },
    "papermill": {
     "duration": 0.059188,
     "end_time": "2024-09-06T15:10:50.883506",
     "exception": false,
     "start_time": "2024-09-06T15:10:50.824318",
     "status": "completed"
    },
    "tags": []
   },
   "outputs": [
    {
     "data": {
      "text/html": [
       "<div>\n",
       "<style scoped>\n",
       "    .dataframe tbody tr th:only-of-type {\n",
       "        vertical-align: middle;\n",
       "    }\n",
       "\n",
       "    .dataframe tbody tr th {\n",
       "        vertical-align: top;\n",
       "    }\n",
       "\n",
       "    .dataframe thead th {\n",
       "        text-align: right;\n",
       "    }\n",
       "</style>\n",
       "<table border=\"1\" class=\"dataframe\">\n",
       "  <thead>\n",
       "    <tr style=\"text-align: right;\">\n",
       "      <th></th>\n",
       "      <th>Unnamed: 0</th>\n",
       "      <th>popularity</th>\n",
       "      <th>acousticness</th>\n",
       "      <th>danceability</th>\n",
       "      <th>duration_ms</th>\n",
       "      <th>energy</th>\n",
       "      <th>instrumentalness</th>\n",
       "      <th>liveness</th>\n",
       "      <th>loudness</th>\n",
       "      <th>speechiness</th>\n",
       "      <th>tempo</th>\n",
       "      <th>valence</th>\n",
       "      <th>genre</th>\n",
       "    </tr>\n",
       "  </thead>\n",
       "  <tbody>\n",
       "    <tr>\n",
       "      <th>0</th>\n",
       "      <td>36506</td>\n",
       "      <td>60.0</td>\n",
       "      <td>0.896000</td>\n",
       "      <td>0.726</td>\n",
       "      <td>214547.0</td>\n",
       "      <td>0.177</td>\n",
       "      <td>0.000002</td>\n",
       "      <td>0.1160</td>\n",
       "      <td>-14.824</td>\n",
       "      <td>0.0353</td>\n",
       "      <td>92.934</td>\n",
       "      <td>0.618</td>\n",
       "      <td>0</td>\n",
       "    </tr>\n",
       "    <tr>\n",
       "      <th>1</th>\n",
       "      <td>37591</td>\n",
       "      <td>63.0</td>\n",
       "      <td>0.003840</td>\n",
       "      <td>0.635</td>\n",
       "      <td>190448.0</td>\n",
       "      <td>0.908</td>\n",
       "      <td>0.083400</td>\n",
       "      <td>0.2390</td>\n",
       "      <td>-4.795</td>\n",
       "      <td>0.0563</td>\n",
       "      <td>110.012</td>\n",
       "      <td>0.637</td>\n",
       "      <td>0</td>\n",
       "    </tr>\n",
       "    <tr>\n",
       "      <th>2</th>\n",
       "      <td>37658</td>\n",
       "      <td>59.0</td>\n",
       "      <td>0.000075</td>\n",
       "      <td>0.352</td>\n",
       "      <td>456320.0</td>\n",
       "      <td>0.956</td>\n",
       "      <td>0.020300</td>\n",
       "      <td>0.1250</td>\n",
       "      <td>-3.634</td>\n",
       "      <td>0.1490</td>\n",
       "      <td>122.897</td>\n",
       "      <td>0.228</td>\n",
       "      <td>0</td>\n",
       "    </tr>\n",
       "    <tr>\n",
       "      <th>3</th>\n",
       "      <td>36060</td>\n",
       "      <td>54.0</td>\n",
       "      <td>0.945000</td>\n",
       "      <td>0.488</td>\n",
       "      <td>352280.0</td>\n",
       "      <td>0.326</td>\n",
       "      <td>0.015700</td>\n",
       "      <td>0.1190</td>\n",
       "      <td>-12.020</td>\n",
       "      <td>0.0328</td>\n",
       "      <td>106.063</td>\n",
       "      <td>0.323</td>\n",
       "      <td>0</td>\n",
       "    </tr>\n",
       "    <tr>\n",
       "      <th>4</th>\n",
       "      <td>35710</td>\n",
       "      <td>55.0</td>\n",
       "      <td>0.245000</td>\n",
       "      <td>0.667</td>\n",
       "      <td>273693.0</td>\n",
       "      <td>0.647</td>\n",
       "      <td>0.000297</td>\n",
       "      <td>0.0633</td>\n",
       "      <td>-7.787</td>\n",
       "      <td>0.0487</td>\n",
       "      <td>143.995</td>\n",
       "      <td>0.300</td>\n",
       "      <td>0</td>\n",
       "    </tr>\n",
       "  </tbody>\n",
       "</table>\n",
       "</div>"
      ],
      "text/plain": [
       "   Unnamed: 0  popularity  acousticness  danceability  duration_ms  energy  \\\n",
       "0       36506        60.0      0.896000         0.726     214547.0   0.177   \n",
       "1       37591        63.0      0.003840         0.635     190448.0   0.908   \n",
       "2       37658        59.0      0.000075         0.352     456320.0   0.956   \n",
       "3       36060        54.0      0.945000         0.488     352280.0   0.326   \n",
       "4       35710        55.0      0.245000         0.667     273693.0   0.647   \n",
       "\n",
       "   instrumentalness  liveness  loudness  speechiness    tempo  valence  genre  \n",
       "0          0.000002    0.1160   -14.824       0.0353   92.934    0.618      0  \n",
       "1          0.083400    0.2390    -4.795       0.0563  110.012    0.637      0  \n",
       "2          0.020300    0.1250    -3.634       0.1490  122.897    0.228      0  \n",
       "3          0.015700    0.1190   -12.020       0.0328  106.063    0.323      0  \n",
       "4          0.000297    0.0633    -7.787       0.0487  143.995    0.300      0  "
      ]
     },
     "execution_count": 105,
     "metadata": {},
     "output_type": "execute_result"
    }
   ],
   "source": [
    "music_df.head()"
   ]
  },
  {
   "cell_type": "code",
   "execution_count": 106,
   "id": "8d746971",
   "metadata": {
    "execution": {
     "iopub.execute_input": "2024-09-06T15:10:50.958175Z",
     "iopub.status.busy": "2024-09-06T15:10:50.957417Z",
     "iopub.status.idle": "2024-09-06T15:10:50.967924Z",
     "shell.execute_reply": "2024-09-06T15:10:50.966729Z"
    },
    "papermill": {
     "duration": 0.050375,
     "end_time": "2024-09-06T15:10:50.970408",
     "exception": false,
     "start_time": "2024-09-06T15:10:50.920033",
     "status": "completed"
    },
    "tags": []
   },
   "outputs": [
    {
     "name": "stdout",
     "output_type": "stream",
     "text": [
      "X_train shape: (700, 12)\n",
      "X_test shape: (300, 12)\n",
      "y_train shape: (700,)\n",
      "y_test shape: (300,)\n"
     ]
    }
   ],
   "source": [
    "from sklearn.model_selection import train_test_split\n",
    "\n",
    "# Create the feature matrix X and target vector y\n",
    "X = music_df.drop(columns=['loudness'], axis=1).values  # Features are all columns except 'loudness'\n",
    "y = music_df['loudness'].values  # Target is the 'loudness' column\n",
    "\n",
    "# Split the data into training and test sets\n",
    "X_train, X_test, y_train, y_test = train_test_split(X, y, test_size=0.3, random_state=42)\n",
    "\n",
    "# Print the shapes to verify\n",
    "print(\"X_train shape:\", X_train.shape)\n",
    "print(\"X_test shape:\", X_test.shape)\n",
    "print(\"y_train shape:\", y_train.shape)\n",
    "print(\"y_test shape:\", y_test.shape)"
   ]
  },
  {
   "cell_type": "code",
   "execution_count": 107,
   "id": "204e2d9c",
   "metadata": {
    "execution": {
     "iopub.execute_input": "2024-09-06T15:10:51.045942Z",
     "iopub.status.busy": "2024-09-06T15:10:51.045534Z",
     "iopub.status.idle": "2024-09-06T15:10:51.056035Z",
     "shell.execute_reply": "2024-09-06T15:10:51.055008Z"
    },
    "papermill": {
     "duration": 0.050511,
     "end_time": "2024-09-06T15:10:51.058196",
     "exception": false,
     "start_time": "2024-09-06T15:10:51.007685",
     "status": "completed"
    },
    "tags": []
   },
   "outputs": [
    {
     "name": "stdout",
     "output_type": "stream",
     "text": [
      "0.7185052514704713\n"
     ]
    }
   ],
   "source": [
    "# Import StandardScaler\n",
    "from sklearn.preprocessing import StandardScaler\n",
    "from sklearn.linear_model import Lasso\n",
    "from sklearn.pipeline import Pipeline\n",
    "\n",
    "# Create pipeline steps\n",
    "steps = [(\"scaler\", StandardScaler()),  # Step to scale the data\n",
    "         (\"lasso\", Lasso(alpha=0.5))]   # Step to build a Lasso model with alpha=0.5\n",
    "\n",
    "# Instantiate the pipeline\n",
    "pipeline = Pipeline(steps)\n",
    "pipeline.fit(X_train, y_train)\n",
    "\n",
    "# Calculate and print R-squared\n",
    "print(pipeline.score(X_test, y_test))"
   ]
  },
  {
   "cell_type": "markdown",
   "id": "b5457cac",
   "metadata": {
    "papermill": {
     "duration": 0.037356,
     "end_time": "2024-09-06T15:10:51.185326",
     "exception": false,
     "start_time": "2024-09-06T15:10:51.147970",
     "status": "completed"
    },
    "tags": []
   },
   "source": [
    "**===>>>. Awesome scaling! The model may have only produced an R-squared of 0.718, but without scaling this exact model would have only produced a score of 0.35, which proves just how powerful scaling can be!**\n"
   ]
  },
  {
   "cell_type": "markdown",
   "id": "884d6344",
   "metadata": {
    "papermill": {
     "duration": 0.036324,
     "end_time": "2024-09-06T15:10:51.258850",
     "exception": false,
     "start_time": "2024-09-06T15:10:51.222526",
     "status": "completed"
    },
    "tags": []
   },
   "source": [
    "***Exercise : Centering and scaling for classification***\n",
    "\n",
    "Now you will bring together scaling and model building into a pipeline for **cross-validation**.\n",
    "\n",
    "Your task is to build a pipeline to scale features in the music_df dataset and perform **grid search cross-validation** using a **logistic regression model** with different values for the hyperparameter C. **The target variable here is \"genre\"**, which contains binary values for rock as 1 and any other genre as 0.\n",
    "\n",
    "StandardScaler, LogisticRegression, and GridSearchCV have all been imported for you.\n",
    "\n"
   ]
  },
  {
   "cell_type": "markdown",
   "id": "8548ce4e",
   "metadata": {
    "papermill": {
     "duration": 0.036764,
     "end_time": "2024-09-06T15:10:51.333620",
     "exception": false,
     "start_time": "2024-09-06T15:10:51.296856",
     "status": "completed"
    },
    "tags": []
   },
   "source": [
    "***Instructions***\n",
    "\n",
    "* Build the steps for the pipeline: a StandardScaler() object named \"scaler\", and a logistic regression model named \"logreg\".\n",
    "* Create the parameters, searching 20 equally spaced float values ranging from 0.001 to 1.0 for the logistic regression model's C hyperparameter within the pipeline.\n",
    "* Instantiate the grid search object.\n",
    "* Fit the grid search object to the training data."
   ]
  },
  {
   "cell_type": "code",
   "execution_count": 108,
   "id": "368e52b2",
   "metadata": {
    "execution": {
     "iopub.execute_input": "2024-09-06T15:10:51.409807Z",
     "iopub.status.busy": "2024-09-06T15:10:51.409388Z",
     "iopub.status.idle": "2024-09-06T15:10:51.414101Z",
     "shell.execute_reply": "2024-09-06T15:10:51.413101Z"
    },
    "papermill": {
     "duration": 0.045343,
     "end_time": "2024-09-06T15:10:51.416251",
     "exception": false,
     "start_time": "2024-09-06T15:10:51.370908",
     "status": "completed"
    },
    "tags": []
   },
   "outputs": [],
   "source": [
    "# Create the feature matrix X and target vector y\n",
    "#X = music_df.drop(columns=['genre'], axis=1).values  # Features are all columns except 'genre'\n",
    "#y = music_df['genre'].values  # Target is the 'genre' column"
   ]
  },
  {
   "cell_type": "code",
   "execution_count": 109,
   "id": "ea00f694",
   "metadata": {
    "execution": {
     "iopub.execute_input": "2024-09-06T15:10:51.491630Z",
     "iopub.status.busy": "2024-09-06T15:10:51.490689Z",
     "iopub.status.idle": "2024-09-06T15:10:51.502690Z",
     "shell.execute_reply": "2024-09-06T15:10:51.501424Z"
    },
    "papermill": {
     "duration": 0.052437,
     "end_time": "2024-09-06T15:10:51.505203",
     "exception": false,
     "start_time": "2024-09-06T15:10:51.452766",
     "status": "completed"
    },
    "tags": []
   },
   "outputs": [
    {
     "name": "stdout",
     "output_type": "stream",
     "text": [
      "Index(['Unnamed: 0', 'popularity', 'acousticness', 'danceability',\n",
      "       'duration_ms', 'energy', 'instrumentalness', 'liveness', 'loudness',\n",
      "       'speechiness', 'tempo', 'valence', 'genre'],\n",
      "      dtype='object')\n",
      "0      1\n",
      "1      1\n",
      "2      1\n",
      "3      1\n",
      "4      1\n",
      "      ..\n",
      "995    0\n",
      "996    0\n",
      "997    0\n",
      "998    0\n",
      "999    0\n",
      "Name: genre, Length: 1000, dtype: int64\n"
     ]
    }
   ],
   "source": [
    "music_df2 = pd.read_csv('data/music_clean.csv')\n",
    "music_df2.head()\n",
    "print(music_df2.columns)\n",
    "print(music_df2[\"genre\"])"
   ]
  },
  {
   "cell_type": "code",
   "execution_count": 110,
   "id": "0ace539e",
   "metadata": {
    "execution": {
     "iopub.execute_input": "2024-09-06T15:10:51.582815Z",
     "iopub.status.busy": "2024-09-06T15:10:51.582401Z",
     "iopub.status.idle": "2024-09-06T15:10:52.719825Z",
     "shell.execute_reply": "2024-09-06T15:10:52.718569Z"
    },
    "papermill": {
     "duration": 1.18197,
     "end_time": "2024-09-06T15:10:52.724070",
     "exception": false,
     "start_time": "2024-09-06T15:10:51.542100",
     "status": "completed"
    },
    "tags": []
   },
   "outputs": [
    {
     "name": "stdout",
     "output_type": "stream",
     "text": [
      "0.9275 \n",
      " {'logreg__C': np.float64(0.5267894736842105)}\n"
     ]
    }
   ],
   "source": [
    "from sklearn.pipeline import Pipeline\n",
    "from sklearn.preprocessing import StandardScaler\n",
    "from sklearn.linear_model import LogisticRegression\n",
    "from sklearn.model_selection import GridSearchCV, train_test_split\n",
    "import numpy as np\n",
    "\n",
    "# Build the steps\n",
    "steps = [(\"scaler\", StandardScaler()),\n",
    "         (\"logreg\", LogisticRegression())]\n",
    "pipeline = Pipeline(steps)\n",
    "\n",
    "# Create the parameter space\n",
    "parameters = {\"logreg__C\": np.linspace(0.001, 1.0, 20)}\n",
    "\n",
    "# Assuming X and y have been defined, with X as the features and y as the target variable\n",
    "X = music_df2.drop('genre', axis=1)  # Features excluding the target\n",
    "y = music_df2['genre']  # Target variable\n",
    "\n",
    "X_train, X_test, y_train, y_test = train_test_split(X, y, test_size=0.2, \n",
    "                                                    random_state=21)\n",
    "\n",
    "# Instantiate the grid search object\n",
    "cv = GridSearchCV(pipeline, param_grid=parameters)\n",
    "\n",
    "# Fit to the training data\n",
    "cv.fit(X_train, y_train)\n",
    "\n",
    "print(cv.best_score_, \"\\n\", cv.best_params_)\n"
   ]
  },
  {
   "cell_type": "markdown",
   "id": "39776b0a",
   "metadata": {
    "papermill": {
     "duration": 0.06074,
     "end_time": "2024-09-06T15:10:52.849292",
     "exception": false,
     "start_time": "2024-09-06T15:10:52.788552",
     "status": "completed"
    },
    "tags": []
   },
   "source": [
    "**=== >>> Using a pipeline shows that a logistic regression model with \"C\" set to approximately 0.5793 produces a model with 0.92 accuracy!**"
   ]
  },
  {
   "cell_type": "markdown",
   "id": "3a348d82",
   "metadata": {
    "papermill": {
     "duration": 0.038648,
     "end_time": "2024-09-06T15:10:52.928028",
     "exception": false,
     "start_time": "2024-09-06T15:10:52.889380",
     "status": "completed"
    },
    "tags": []
   },
   "source": [
    "## 4.4. Evaluating multiple models\n"
   ]
  },
  {
   "cell_type": "markdown",
   "id": "8a2da49f",
   "metadata": {
    "papermill": {
     "duration": 0.036365,
     "end_time": "2024-09-06T15:10:53.001056",
     "exception": false,
     "start_time": "2024-09-06T15:10:52.964691",
     "status": "completed"
    },
    "tags": []
   },
   "source": [
    "***Exercise : Visualizing regression model performance***\n",
    "\n",
    "Now you have seen how to evaluate **multiple models** out of the box, you will build **three regression models** to predict a song's \"energy\" levels.\n",
    "\n",
    "The **music_df** dataset has had dummy variables for \"genre\" added. Also, feature and target arrays have been created, and these have been split into X_train, X_test, y_train, and y_test.\n",
    "\n",
    "The following have been imported for you: **LinearRegression**, **Ridge**, **Lasso**, **cross_val_score**, and **KFold**.\n",
    "\n"
   ]
  },
  {
   "cell_type": "markdown",
   "id": "c4e59e6f",
   "metadata": {
    "papermill": {
     "duration": 0.036454,
     "end_time": "2024-09-06T15:10:53.074341",
     "exception": false,
     "start_time": "2024-09-06T15:10:53.037887",
     "status": "completed"
    },
    "tags": []
   },
   "source": [
    "***Instructions***\n",
    "\n",
    "* Write a for loop using model as the iterator, and model.values() as the iterable.\n",
    "* Perform cross-validation on the training features and the training target array using the model, setting cv equal to the KFold object.\n",
    "* Append the model's cross-validation scores to the results list.\n",
    "* Create a box plot displaying the results, with the x-axis labels as the names of the models."
   ]
  },
  {
   "cell_type": "code",
   "execution_count": 111,
   "id": "51cce0b9",
   "metadata": {
    "execution": {
     "iopub.execute_input": "2024-09-06T15:10:53.150805Z",
     "iopub.status.busy": "2024-09-06T15:10:53.150344Z",
     "iopub.status.idle": "2024-09-06T15:10:53.173699Z",
     "shell.execute_reply": "2024-09-06T15:10:53.172653Z"
    },
    "papermill": {
     "duration": 0.06491,
     "end_time": "2024-09-06T15:10:53.175907",
     "exception": false,
     "start_time": "2024-09-06T15:10:53.110997",
     "status": "completed"
    },
    "tags": []
   },
   "outputs": [
    {
     "data": {
      "text/html": [
       "<div>\n",
       "<style scoped>\n",
       "    .dataframe tbody tr th:only-of-type {\n",
       "        vertical-align: middle;\n",
       "    }\n",
       "\n",
       "    .dataframe tbody tr th {\n",
       "        vertical-align: top;\n",
       "    }\n",
       "\n",
       "    .dataframe thead th {\n",
       "        text-align: right;\n",
       "    }\n",
       "</style>\n",
       "<table border=\"1\" class=\"dataframe\">\n",
       "  <thead>\n",
       "    <tr style=\"text-align: right;\">\n",
       "      <th></th>\n",
       "      <th>Unnamed: 0</th>\n",
       "      <th>popularity</th>\n",
       "      <th>acousticness</th>\n",
       "      <th>danceability</th>\n",
       "      <th>duration_ms</th>\n",
       "      <th>energy</th>\n",
       "      <th>instrumentalness</th>\n",
       "      <th>liveness</th>\n",
       "      <th>loudness</th>\n",
       "      <th>speechiness</th>\n",
       "      <th>tempo</th>\n",
       "      <th>valence</th>\n",
       "      <th>genre</th>\n",
       "    </tr>\n",
       "  </thead>\n",
       "  <tbody>\n",
       "    <tr>\n",
       "      <th>0</th>\n",
       "      <td>36506</td>\n",
       "      <td>60.0</td>\n",
       "      <td>0.896000</td>\n",
       "      <td>0.726</td>\n",
       "      <td>214547.0</td>\n",
       "      <td>0.177</td>\n",
       "      <td>0.000002</td>\n",
       "      <td>0.1160</td>\n",
       "      <td>-14.824</td>\n",
       "      <td>0.0353</td>\n",
       "      <td>92.934</td>\n",
       "      <td>0.618</td>\n",
       "      <td>1</td>\n",
       "    </tr>\n",
       "    <tr>\n",
       "      <th>1</th>\n",
       "      <td>37591</td>\n",
       "      <td>63.0</td>\n",
       "      <td>0.003840</td>\n",
       "      <td>0.635</td>\n",
       "      <td>190448.0</td>\n",
       "      <td>0.908</td>\n",
       "      <td>0.083400</td>\n",
       "      <td>0.2390</td>\n",
       "      <td>-4.795</td>\n",
       "      <td>0.0563</td>\n",
       "      <td>110.012</td>\n",
       "      <td>0.637</td>\n",
       "      <td>1</td>\n",
       "    </tr>\n",
       "    <tr>\n",
       "      <th>2</th>\n",
       "      <td>37658</td>\n",
       "      <td>59.0</td>\n",
       "      <td>0.000075</td>\n",
       "      <td>0.352</td>\n",
       "      <td>456320.0</td>\n",
       "      <td>0.956</td>\n",
       "      <td>0.020300</td>\n",
       "      <td>0.1250</td>\n",
       "      <td>-3.634</td>\n",
       "      <td>0.1490</td>\n",
       "      <td>122.897</td>\n",
       "      <td>0.228</td>\n",
       "      <td>1</td>\n",
       "    </tr>\n",
       "    <tr>\n",
       "      <th>3</th>\n",
       "      <td>36060</td>\n",
       "      <td>54.0</td>\n",
       "      <td>0.945000</td>\n",
       "      <td>0.488</td>\n",
       "      <td>352280.0</td>\n",
       "      <td>0.326</td>\n",
       "      <td>0.015700</td>\n",
       "      <td>0.1190</td>\n",
       "      <td>-12.020</td>\n",
       "      <td>0.0328</td>\n",
       "      <td>106.063</td>\n",
       "      <td>0.323</td>\n",
       "      <td>1</td>\n",
       "    </tr>\n",
       "    <tr>\n",
       "      <th>4</th>\n",
       "      <td>35710</td>\n",
       "      <td>55.0</td>\n",
       "      <td>0.245000</td>\n",
       "      <td>0.667</td>\n",
       "      <td>273693.0</td>\n",
       "      <td>0.647</td>\n",
       "      <td>0.000297</td>\n",
       "      <td>0.0633</td>\n",
       "      <td>-7.787</td>\n",
       "      <td>0.0487</td>\n",
       "      <td>143.995</td>\n",
       "      <td>0.300</td>\n",
       "      <td>1</td>\n",
       "    </tr>\n",
       "  </tbody>\n",
       "</table>\n",
       "</div>"
      ],
      "text/plain": [
       "   Unnamed: 0  popularity  acousticness  danceability  duration_ms  energy  \\\n",
       "0       36506        60.0      0.896000         0.726     214547.0   0.177   \n",
       "1       37591        63.0      0.003840         0.635     190448.0   0.908   \n",
       "2       37658        59.0      0.000075         0.352     456320.0   0.956   \n",
       "3       36060        54.0      0.945000         0.488     352280.0   0.326   \n",
       "4       35710        55.0      0.245000         0.667     273693.0   0.647   \n",
       "\n",
       "   instrumentalness  liveness  loudness  speechiness    tempo  valence  genre  \n",
       "0          0.000002    0.1160   -14.824       0.0353   92.934    0.618      1  \n",
       "1          0.083400    0.2390    -4.795       0.0563  110.012    0.637      1  \n",
       "2          0.020300    0.1250    -3.634       0.1490  122.897    0.228      1  \n",
       "3          0.015700    0.1190   -12.020       0.0328  106.063    0.323      1  \n",
       "4          0.000297    0.0633    -7.787       0.0487  143.995    0.300      1  "
      ]
     },
     "execution_count": 111,
     "metadata": {},
     "output_type": "execute_result"
    }
   ],
   "source": [
    "music_df3 = pd.read_csv('data/music_clean.csv')\n",
    "music_df3.head()"
   ]
  },
  {
   "cell_type": "code",
   "execution_count": 112,
   "id": "ea227e92",
   "metadata": {
    "execution": {
     "iopub.execute_input": "2024-09-06T15:10:53.252039Z",
     "iopub.status.busy": "2024-09-06T15:10:53.251624Z",
     "iopub.status.idle": "2024-09-06T15:10:53.258416Z",
     "shell.execute_reply": "2024-09-06T15:10:53.257408Z"
    },
    "papermill": {
     "duration": 0.047407,
     "end_time": "2024-09-06T15:10:53.260545",
     "exception": false,
     "start_time": "2024-09-06T15:10:53.213138",
     "status": "completed"
    },
    "tags": []
   },
   "outputs": [
    {
     "data": {
      "text/plain": [
       "Index(['Unnamed: 0', 'popularity', 'acousticness', 'danceability',\n",
       "       'duration_ms', 'energy', 'instrumentalness', 'liveness', 'loudness',\n",
       "       'speechiness', 'tempo', 'valence', 'genre'],\n",
       "      dtype='object')"
      ]
     },
     "execution_count": 112,
     "metadata": {},
     "output_type": "execute_result"
    }
   ],
   "source": [
    "music_df3.columns"
   ]
  },
  {
   "cell_type": "code",
   "execution_count": null,
   "id": "aece877f",
   "metadata": {
    "execution": {
     "iopub.execute_input": "2024-09-06T15:10:53.337943Z",
     "iopub.status.busy": "2024-09-06T15:10:53.336850Z",
     "iopub.status.idle": "2024-09-06T15:10:53.346617Z",
     "shell.execute_reply": "2024-09-06T15:10:53.345694Z"
    },
    "papermill": {
     "duration": 0.050296,
     "end_time": "2024-09-06T15:10:53.348818",
     "exception": false,
     "start_time": "2024-09-06T15:10:53.298522",
     "status": "completed"
    },
    "tags": []
   },
   "outputs": [],
   "source": [
    "# Import necessary libraries\n",
    "import matplotlib.pyplot as plt\n",
    "from sklearn.linear_model import LinearRegression, Ridge, Lasso\n",
    "from sklearn.model_selection import cross_val_score, KFold\n",
    "\n",
    "X3 = music_df3.drop(\"genre\", axis=1).values\n",
    "y3 = music_df3[\"genre\"].values\n",
    "X_train3, X_test3, y_train3, y_test3 = train_test_split(X3, y3, random_state=42)\n",
    "scaler = StandardScaler()\n",
    "X_train_scaled = scaler.fit_transform(X_train3)\n",
    "X_test_scaled = scaler.transform(X_test3)"
   ]
  },
  {
   "cell_type": "code",
   "execution_count": null,
   "id": "e6cbf305",
   "metadata": {
    "execution": {
     "iopub.execute_input": "2024-09-06T15:10:53.425419Z",
     "iopub.status.busy": "2024-09-06T15:10:53.425016Z",
     "iopub.status.idle": "2024-09-06T15:10:53.714672Z",
     "shell.execute_reply": "2024-09-06T15:10:53.713533Z"
    },
    "papermill": {
     "duration": 0.330405,
     "end_time": "2024-09-06T15:10:53.716957",
     "exception": false,
     "start_time": "2024-09-06T15:10:53.386552",
     "status": "completed"
    },
    "tags": []
   },
   "outputs": [
    {
     "name": "stdout",
     "output_type": "stream",
     "text": [
      "Linear Regression Cross-Validation Scores: [0.65195251 0.44019754 0.60777068 0.58779721 0.67177198 0.48354537]\n",
      "Mean Score for Linear Regression: 0.5738392153872561\n",
      "\n",
      "Ridge Cross-Validation Scores: [0.65020691 0.44261889 0.60961015 0.58777574 0.67029473 0.48267651]\n",
      "Mean Score for Ridge: 0.5738638204392257\n",
      "\n",
      "Lasso Cross-Validation Scores: [0.41016983 0.42933605 0.51530901 0.4812154  0.49142359 0.2643919 ]\n",
      "Mean Score for Lasso: 0.4319742960789135\n",
      "\n"
     ]
    },
    {
     "data": {
      "image/png": "[encoded data removed]",
      "text/plain": [
       "<Figure size 640x480 with 1 Axes>"
      ]
     },
     "metadata": {},
     "output_type": "display_data"
    }
   ],
   "source": [
    "# Models to evaluate\n",
    "models = {\n",
    "    \"Linear Regression\": LinearRegression(),\n",
    "    \"Ridge\": Ridge(alpha=0.1),\n",
    "    \"Lasso\": Lasso(alpha=0.1)\n",
    "}\n",
    "results = []\n",
    "\n",
    "# Loop through the models' values\n",
    "for model_name, model in models.items():  # Use .items() to get both model names and models\n",
    "    # Define the KFold cross-validator\n",
    "    kf = KFold(n_splits=6, random_state=42, shuffle=True)\n",
    "    \n",
    "    # Perform cross-validation\n",
    "    cv_scores = cross_val_score(model, X_train3, y_train3, cv=kf)\n",
    "    \n",
    "    # Append the results\n",
    "    results.append(cv_scores)\n",
    "    \n",
    "    # Print the cross-validation scores for each model\n",
    "    print(f\"{model_name} Cross-Validation Scores: {cv_scores}\")\n",
    "    print(f\"Mean Score for {model_name}: {cv_scores.mean()}\\n\")\n",
    "\n",
    "# Create a box plot of the results\n",
    "plt.boxplot(results, tick_labels=models.keys())\n",
    "plt.title(\"Cross-Validation Scores for Regression Models\")\n",
    "plt.ylabel(\"Cross-Validation Score\")\n",
    "plt.xlabel(\"Model\")\n",
    "plt.show()"
   ]
  },
  {
   "cell_type": "markdown",
   "id": "a1ef0cc8",
   "metadata": {
    "papermill": {
     "duration": 0.037403,
     "end_time": "2024-09-06T15:10:53.792226",
     "exception": false,
     "start_time": "2024-09-06T15:10:53.754823",
     "status": "completed"
    },
    "tags": []
   },
   "source": [
    "====>>>> To determine which model is the best among Linear Regression, Ridge, and Lasso, **you can compare their mean cross-validation scores. The higher the mean score, the better the model is performing** in terms of predicting the target variable (e.g., energy levels in your dataset).\n",
    "\n",
    "**Here are the mean scores for each model:**\n",
    "\n",
    "**Linear Regression: 0.5738**\n",
    "\n",
    "**Ridge: 0.5739**\n",
    "\n",
    "**Lasso: 0.4320**\n",
    "\n",
    "**Conclusion:**\n",
    "\n",
    "**Ridge Regressio**n has the highest mean cross-validation score (0.5739), making it the best-performing model among the three based on this metric.\n",
    "\n",
    "**Linear Regression** is very close to Ridge Regression with a mean score of 0.5738, but slightly lower.\n",
    "\n",
    "**Lasso Regression** has the lowest mean score (0.4320), indicating it performs the worst among the three models in this context.\n",
    "\n",
    "**Therefore, Ridge Regression would be the best model to choose based on the cross-validation scores.**\n"
   ]
  },
  {
   "cell_type": "markdown",
   "id": "72d9b55f",
   "metadata": {
    "papermill": {
     "duration": 0.037582,
     "end_time": "2024-09-06T15:10:53.868896",
     "exception": false,
     "start_time": "2024-09-06T15:10:53.831314",
     "status": "completed"
    },
    "tags": []
   },
   "source": [
    "**===>>> Let's make predictions on the test set, and see if the RMSE can guide us on model selection.**"
   ]
  },
  {
   "cell_type": "markdown",
   "id": "998440f3",
   "metadata": {
    "papermill": {
     "duration": 0.037618,
     "end_time": "2024-09-06T15:10:53.944402",
     "exception": false,
     "start_time": "2024-09-06T15:10:53.906784",
     "status": "completed"
    },
    "tags": []
   },
   "source": [
    "***Exercise : Predicting on the test set***\n",
    "\n",
    "In the last exercise, linear regression and ridge appeared to produce similar results. It would be appropriate to select either of those models; however, you can check **predictive performance** on the test set to see if either one can outperform the other.\n",
    "\n",
    "You will use **root mean squared error (RMSE**) as the metric. The dictionary models, containing the names and instances of the two models, has been preloaded for you along with the training and target arrays X_train_scaled, X_test_scaled, y_train, and y_test.\n",
    "\n"
   ]
  },
  {
   "cell_type": "markdown",
   "id": "653529da",
   "metadata": {
    "papermill": {
     "duration": 0.037506,
     "end_time": "2024-09-06T15:10:54.019831",
     "exception": false,
     "start_time": "2024-09-06T15:10:53.982325",
     "status": "completed"
    },
    "tags": []
   },
   "source": [
    "***Instructions***\n",
    "\n",
    "* Import root_mean_squared_error.\n",
    "* Fit the model to the scaled training features and the training labels.\n",
    "* Make predictions using the scaled test features.\n",
    "* Calculate RMSE by passing the test set labels and the predicted labels."
   ]
  },
  {
   "cell_type": "code",
   "execution_count": 115,
   "id": "e042c7ea",
   "metadata": {
    "execution": {
     "iopub.execute_input": "2024-09-06T15:10:54.096929Z",
     "iopub.status.busy": "2024-09-06T15:10:54.096515Z",
     "iopub.status.idle": "2024-09-06T15:10:54.110028Z",
     "shell.execute_reply": "2024-09-06T15:10:54.108844Z"
    },
    "papermill": {
     "duration": 0.054895,
     "end_time": "2024-09-06T15:10:54.112513",
     "exception": false,
     "start_time": "2024-09-06T15:10:54.057618",
     "status": "completed"
    },
    "tags": []
   },
   "outputs": [
    {
     "name": "stdout",
     "output_type": "stream",
     "text": [
      "Linear Regression Test Set RMSE: 0.378041091131301\n",
      "Ridge Test Set RMSE: 0.377120797997644\n",
      "Lasso Test Set RMSE: 0.3832055953313204\n"
     ]
    }
   ],
   "source": [
    "# Import root_mean_squared_error\n",
    "from sklearn.metrics import root_mean_squared_error\n",
    "\n",
    "for name, model in models.items():\n",
    "  \n",
    "  # Fit the model to the training data\n",
    "  model.fit(X_train3, y_train3)\n",
    "  \n",
    "  # Make predictions on the test set\n",
    "  y_pred3 = model.predict(X_test3)\n",
    "\n",
    "  # Calculate the test_rmse\n",
    "  test_rmse = root_mean_squared_error(y_test3, y_pred3) \n",
    "  print(\"{} Test Set RMSE: {}\".format(name, test_rmse))"
   ]
  },
  {
   "cell_type": "markdown",
   "id": "59c96b83",
   "metadata": {
    "papermill": {
     "duration": 0.03857,
     "end_time": "2024-09-06T15:10:54.190279",
     "exception": false,
     "start_time": "2024-09-06T15:10:54.151709",
     "status": "completed"
    },
    "tags": []
   },
   "source": [
    "**=== >>>The Root Mean Squared Error (RMSE) values you provided represent the prediction errors of the models on the test set. RMSE is a metric that measures the average magnitude of the prediction errors. A lower RMSE indicates better predictive accuracy.**\n",
    "\n",
    "Here are the RMSE values for each model:\n",
    "\n",
    "* Linear Regression Test Set RMSE: 0.3780\n",
    "\n",
    "* Ridge Regression Test Set RMSE: 0.3771\n",
    "\n",
    "* Lasso Regression Test Set RMSE: 0.3832\n",
    "\n",
    "**Interpretation:**\n",
    "\n",
    "1. Ridge Regression has the lowest RMSE (0.3771), indicating that it has the best predictive performance on the test set among the three models. This means that Ridge Regression made the smallest average prediction errors when predicting the target values.\n",
    "\n",
    "2. Linear Regression has a slightly higher RMSE (0.3780) compared to Ridge Regression. The difference between Ridge and Linear Regression is very small, so their predictive performance is almost identical.\n",
    "\n",
    "3. Lasso Regression has the highest RMSE (0.3832), meaning it had the largest average prediction errors. Therefore, it performed the worst on the test set among the three models.\n",
    "\n",
    "**Conclusion:**\n",
    "\n",
    "Based on these RMSE values, **Ridge Regression would be the preferred model **since it has the **lowest prediction error**. However, the difference between Ridge and Linear Regression is minimal, so either model could be chosen, depending on other considerations such as model simplicity or regularization preferences."
   ]
  },
  {
   "cell_type": "markdown",
   "id": "5a5b7957",
   "metadata": {
    "papermill": {
     "duration": 0.037757,
     "end_time": "2024-09-06T15:10:54.266278",
     "exception": false,
     "start_time": "2024-09-06T15:10:54.228521",
     "status": "completed"
    },
    "tags": []
   },
   "source": [
    "***Exercise : Visualizing classification model performance***\n",
    "\n",
    "In this exercise, you will be solving a **classification problem** where the \"**popularity**\" column in the music_df dataset has been converted to **binary values**, with 1 representing popularity more than or equal to the median for the \"popularity\" column, and 0 indicating popularity below the median.\n",
    "\n",
    "Your task is to build and visualize the results of three different models to classify whether a song is popular or not.\n",
    "\n",
    "The data has been **split**, **scaled**, and **preloaded** for you as **X_train_scaled**, **X_test_scaled**, **y_train**, and **y_test**. Additionally, **KNeighborsClassifier**, **DecisionTreeClassifier**, and **LogisticRegression** have been imported.\n"
   ]
  },
  {
   "cell_type": "markdown",
   "id": "155441af",
   "metadata": {
    "papermill": {
     "duration": 0.037244,
     "end_time": "2024-09-06T15:10:54.342725",
     "exception": false,
     "start_time": "2024-09-06T15:10:54.305481",
     "status": "completed"
    },
    "tags": []
   },
   "source": [
    "***Instructions***\n",
    "\n",
    "* Create a dictionary of \"Logistic Regression\", \"KNN\", and \"Decision Tree Classifier\", setting the dictionary's values to a call of each model.\n",
    "* Loop through the values in models.\n",
    "* Instantiate a KFold object to perform 6 splits, setting shuffle to True and random_state to 12.\n",
    "* Perform cross-validation using the model, the scaled training features, the target training set, and setting cv equal to kf."
   ]
  },
  {
   "cell_type": "code",
   "execution_count": 116,
   "id": "1f4c1a92",
   "metadata": {
    "execution": {
     "iopub.execute_input": "2024-09-06T15:10:54.420435Z",
     "iopub.status.busy": "2024-09-06T15:10:54.420016Z",
     "iopub.status.idle": "2024-09-06T15:10:54.442482Z",
     "shell.execute_reply": "2024-09-06T15:10:54.441307Z"
    },
    "papermill": {
     "duration": 0.063565,
     "end_time": "2024-09-06T15:10:54.444786",
     "exception": false,
     "start_time": "2024-09-06T15:10:54.381221",
     "status": "completed"
    },
    "tags": []
   },
   "outputs": [
    {
     "data": {
      "text/html": [
       "<div>\n",
       "<style scoped>\n",
       "    .dataframe tbody tr th:only-of-type {\n",
       "        vertical-align: middle;\n",
       "    }\n",
       "\n",
       "    .dataframe tbody tr th {\n",
       "        vertical-align: top;\n",
       "    }\n",
       "\n",
       "    .dataframe thead th {\n",
       "        text-align: right;\n",
       "    }\n",
       "</style>\n",
       "<table border=\"1\" class=\"dataframe\">\n",
       "  <thead>\n",
       "    <tr style=\"text-align: right;\">\n",
       "      <th></th>\n",
       "      <th>Unnamed: 0</th>\n",
       "      <th>popularity</th>\n",
       "      <th>acousticness</th>\n",
       "      <th>danceability</th>\n",
       "      <th>duration_ms</th>\n",
       "      <th>energy</th>\n",
       "      <th>instrumentalness</th>\n",
       "      <th>liveness</th>\n",
       "      <th>loudness</th>\n",
       "      <th>speechiness</th>\n",
       "      <th>tempo</th>\n",
       "      <th>valence</th>\n",
       "      <th>genre</th>\n",
       "    </tr>\n",
       "  </thead>\n",
       "  <tbody>\n",
       "    <tr>\n",
       "      <th>0</th>\n",
       "      <td>36506</td>\n",
       "      <td>60.0</td>\n",
       "      <td>0.896000</td>\n",
       "      <td>0.726</td>\n",
       "      <td>214547.0</td>\n",
       "      <td>0.177</td>\n",
       "      <td>0.000002</td>\n",
       "      <td>0.1160</td>\n",
       "      <td>-14.824</td>\n",
       "      <td>0.0353</td>\n",
       "      <td>92.934</td>\n",
       "      <td>0.618</td>\n",
       "      <td>1</td>\n",
       "    </tr>\n",
       "    <tr>\n",
       "      <th>1</th>\n",
       "      <td>37591</td>\n",
       "      <td>63.0</td>\n",
       "      <td>0.003840</td>\n",
       "      <td>0.635</td>\n",
       "      <td>190448.0</td>\n",
       "      <td>0.908</td>\n",
       "      <td>0.083400</td>\n",
       "      <td>0.2390</td>\n",
       "      <td>-4.795</td>\n",
       "      <td>0.0563</td>\n",
       "      <td>110.012</td>\n",
       "      <td>0.637</td>\n",
       "      <td>1</td>\n",
       "    </tr>\n",
       "    <tr>\n",
       "      <th>2</th>\n",
       "      <td>37658</td>\n",
       "      <td>59.0</td>\n",
       "      <td>0.000075</td>\n",
       "      <td>0.352</td>\n",
       "      <td>456320.0</td>\n",
       "      <td>0.956</td>\n",
       "      <td>0.020300</td>\n",
       "      <td>0.1250</td>\n",
       "      <td>-3.634</td>\n",
       "      <td>0.1490</td>\n",
       "      <td>122.897</td>\n",
       "      <td>0.228</td>\n",
       "      <td>1</td>\n",
       "    </tr>\n",
       "    <tr>\n",
       "      <th>3</th>\n",
       "      <td>36060</td>\n",
       "      <td>54.0</td>\n",
       "      <td>0.945000</td>\n",
       "      <td>0.488</td>\n",
       "      <td>352280.0</td>\n",
       "      <td>0.326</td>\n",
       "      <td>0.015700</td>\n",
       "      <td>0.1190</td>\n",
       "      <td>-12.020</td>\n",
       "      <td>0.0328</td>\n",
       "      <td>106.063</td>\n",
       "      <td>0.323</td>\n",
       "      <td>1</td>\n",
       "    </tr>\n",
       "    <tr>\n",
       "      <th>4</th>\n",
       "      <td>35710</td>\n",
       "      <td>55.0</td>\n",
       "      <td>0.245000</td>\n",
       "      <td>0.667</td>\n",
       "      <td>273693.0</td>\n",
       "      <td>0.647</td>\n",
       "      <td>0.000297</td>\n",
       "      <td>0.0633</td>\n",
       "      <td>-7.787</td>\n",
       "      <td>0.0487</td>\n",
       "      <td>143.995</td>\n",
       "      <td>0.300</td>\n",
       "      <td>1</td>\n",
       "    </tr>\n",
       "  </tbody>\n",
       "</table>\n",
       "</div>"
      ],
      "text/plain": [
       "   Unnamed: 0  popularity  acousticness  danceability  duration_ms  energy  \\\n",
       "0       36506        60.0      0.896000         0.726     214547.0   0.177   \n",
       "1       37591        63.0      0.003840         0.635     190448.0   0.908   \n",
       "2       37658        59.0      0.000075         0.352     456320.0   0.956   \n",
       "3       36060        54.0      0.945000         0.488     352280.0   0.326   \n",
       "4       35710        55.0      0.245000         0.667     273693.0   0.647   \n",
       "\n",
       "   instrumentalness  liveness  loudness  speechiness    tempo  valence  genre  \n",
       "0          0.000002    0.1160   -14.824       0.0353   92.934    0.618      1  \n",
       "1          0.083400    0.2390    -4.795       0.0563  110.012    0.637      1  \n",
       "2          0.020300    0.1250    -3.634       0.1490  122.897    0.228      1  \n",
       "3          0.015700    0.1190   -12.020       0.0328  106.063    0.323      1  \n",
       "4          0.000297    0.0633    -7.787       0.0487  143.995    0.300      1  "
      ]
     },
     "execution_count": 116,
     "metadata": {},
     "output_type": "execute_result"
    }
   ],
   "source": [
    "music_df4 = pd.read_csv('data/music_clean.csv')\n",
    "music_df4.head()"
   ]
  },
  {
   "cell_type": "code",
   "execution_count": 117,
   "id": "8b706f4f",
   "metadata": {
    "execution": {
     "iopub.execute_input": "2024-09-06T15:10:54.524049Z",
     "iopub.status.busy": "2024-09-06T15:10:54.523641Z",
     "iopub.status.idle": "2024-09-06T15:10:54.540437Z",
     "shell.execute_reply": "2024-09-06T15:10:54.539373Z"
    },
    "papermill": {
     "duration": 0.059685,
     "end_time": "2024-09-06T15:10:54.542869",
     "exception": false,
     "start_time": "2024-09-06T15:10:54.483184",
     "status": "completed"
    },
    "tags": []
   },
   "outputs": [
    {
     "name": "stdout",
     "output_type": "stream",
     "text": [
      "     acousticness  danceability  duration_ms  energy  instrumentalness  \\\n",
      "0        0.896000         0.726     214547.0  0.1770          0.000002   \n",
      "1        0.003840         0.635     190448.0  0.9080          0.083400   \n",
      "2        0.000075         0.352     456320.0  0.9560          0.020300   \n",
      "3        0.945000         0.488     352280.0  0.3260          0.015700   \n",
      "4        0.245000         0.667     273693.0  0.6470          0.000297   \n",
      "..            ...           ...          ...     ...               ...   \n",
      "995      0.972000         0.193     208040.0  0.0329          0.929000   \n",
      "996      0.005790         0.939     144453.0  0.3730          0.000000   \n",
      "997      0.016100         0.739     238339.0  0.5390          0.000000   \n",
      "998      0.326000         0.515     286707.0  0.5050          0.000000   \n",
      "999      0.029500         0.291     194679.0  0.5980          0.002270   \n",
      "\n",
      "     liveness  loudness  speechiness    tempo  valence  genre  \\\n",
      "0      0.1160   -14.824       0.0353   92.934   0.6180      1   \n",
      "1      0.2390    -4.795       0.0563  110.012   0.6370      1   \n",
      "2      0.1250    -3.634       0.1490  122.897   0.2280      1   \n",
      "3      0.1190   -12.020       0.0328  106.063   0.3230      1   \n",
      "4      0.0633    -7.787       0.0487  143.995   0.3000      1   \n",
      "..        ...       ...          ...      ...      ...    ...   \n",
      "995    0.0978   -28.228       0.0460   82.165   0.0366      0   \n",
      "996    0.2740    -7.779       0.2270  119.953   0.0602      0   \n",
      "997    0.2350    -9.735       0.3370   85.082   0.8350      0   \n",
      "998    0.1020    -5.606       0.0294  150.063   0.5380      0   \n",
      "999    0.0738    -6.972       0.0394  146.245   0.1860      0   \n",
      "\n",
      "     popularity_label  \n",
      "0                   1  \n",
      "1                   1  \n",
      "2                   1  \n",
      "3                   1  \n",
      "4                   1  \n",
      "..                ...  \n",
      "995                 1  \n",
      "996                 1  \n",
      "997                 1  \n",
      "998                 1  \n",
      "999                 0  \n",
      "\n",
      "[1000 rows x 12 columns]\n"
     ]
    }
   ],
   "source": [
    "# Calculate the median of the popularity column\n",
    "median_popularity = music_df4['popularity'].median()\n",
    "\n",
    "# Create the popularity_label column\n",
    "music_df4['popularity_label'] = (music_df4['popularity'] >= median_popularity).astype(int)\n",
    "music_df4 = music_df4.drop(columns=['popularity', 'Unnamed: 0'])\n",
    "\n",
    "# Display the updated DataFrame\n",
    "print(music_df4)"
   ]
  },
  {
   "cell_type": "code",
   "execution_count": 118,
   "id": "480d03e7",
   "metadata": {
    "execution": {
     "iopub.execute_input": "2024-09-06T15:10:54.622599Z",
     "iopub.status.busy": "2024-09-06T15:10:54.621778Z",
     "iopub.status.idle": "2024-09-06T15:10:54.627367Z",
     "shell.execute_reply": "2024-09-06T15:10:54.626401Z"
    },
    "papermill": {
     "duration": 0.047046,
     "end_time": "2024-09-06T15:10:54.629467",
     "exception": false,
     "start_time": "2024-09-06T15:10:54.582421",
     "status": "completed"
    },
    "tags": []
   },
   "outputs": [
    {
     "name": "stdout",
     "output_type": "stream",
     "text": [
      "Index(['acousticness', 'danceability', 'duration_ms', 'energy',\n",
      "       'instrumentalness', 'liveness', 'loudness', 'speechiness', 'tempo',\n",
      "       'valence', 'genre', 'popularity_label'],\n",
      "      dtype='object')\n"
     ]
    }
   ],
   "source": [
    "print(music_df4.columns)"
   ]
  },
  {
   "cell_type": "code",
   "execution_count": null,
   "id": "dd05537b",
   "metadata": {
    "execution": {
     "iopub.execute_input": "2024-09-06T15:10:54.707805Z",
     "iopub.status.busy": "2024-09-06T15:10:54.707014Z",
     "iopub.status.idle": "2024-09-06T15:10:55.165017Z",
     "shell.execute_reply": "2024-09-06T15:10:55.163886Z"
    },
    "papermill": {
     "duration": 0.500115,
     "end_time": "2024-09-06T15:10:55.167544",
     "exception": false,
     "start_time": "2024-09-06T15:10:54.667429",
     "status": "completed"
    },
    "tags": []
   },
   "outputs": [
    {
     "name": "stdout",
     "output_type": "stream",
     "text": [
      "Logistic Regression Cross-Validation Scores: [0.81343284 0.82835821 0.7593985  0.78195489 0.77443609 0.77443609]\n",
      "Mean Score for Logistic Regression: 0.7886694347809823\n",
      "\n",
      "KNN Cross-Validation Scores: [0.76119403 0.7761194  0.69924812 0.81203008 0.7593985  0.73684211]\n",
      "Mean Score for KNN: 0.757472038304717\n",
      "\n",
      "Decision Tree Classifier Cross-Validation Scores: [0.70895522 0.69402985 0.65413534 0.73684211 0.67669173 0.69924812]\n",
      "Mean Score for Decision Tree Classifier: 0.6949837279766582\n",
      "\n"
     ]
    },
    {
     "name": "stderr",
     "output_type": "stream",
     "text": [
      "/tmp/ipykernel_70868/807210928.py:46: MatplotlibDeprecationWarning: The 'labels' parameter of boxplot() has been renamed 'tick_labels' since Matplotlib 3.9; support for the old name will be dropped in 3.11.\n",
      "  plt.boxplot(results, labels=models.keys())\n"
     ]
    },
    {
     "data": {
      "image/png": "[encoded data removed]",
      "text/plain": [
       "<Figure size 640x480 with 1 Axes>"
      ]
     },
     "metadata": {},
     "output_type": "display_data"
    }
   ],
   "source": [
    "import matplotlib.pyplot as plt\n",
    "from sklearn.model_selection import KFold, cross_val_score\n",
    "from sklearn.neighbors import KNeighborsClassifier\n",
    "from sklearn.tree import DecisionTreeClassifier\n",
    "from sklearn.linear_model import LogisticRegression\n",
    "\n",
    "\n",
    "# Split the data into features (X) and target (y)\n",
    "X4 = music_df4.drop(columns=['popularity_label'])  # Drop the popularity column (you've already converted it)\n",
    "y4 = music_df4['popularity_label']  # Use the binary label as the target\n",
    "\n",
    "# Split the dataset into training and testing sets (e.g., 80% train, 20% test)\n",
    "X_train4, X_test4, y_train4, y_test4 = train_test_split(X4, y4, test_size=0.2, random_state=42)\n",
    "\n",
    "# Initialize a StandardScaler and fit it on the training data, then transform both train and test sets\n",
    "scaler = StandardScaler()\n",
    "X_train_scaled4 = scaler.fit_transform(X_train4)\n",
    "X_test_scaled4 = scaler.transform(X_test4)\n",
    "\n",
    "# Create models dictionary\n",
    "# Create models dictionary\n",
    "models = {\"Logistic Regression\": LogisticRegression (),\n",
    "          \"KNN\": KNeighborsClassifier(),\n",
    "          \"Decision Tree Classifier\": DecisionTreeClassifier()\n",
    "         }\n",
    "\n",
    "# To store cross-validation results\n",
    "results = []\n",
    "\n",
    "# Loop through the models' values\n",
    "for model_name, model in models.items():  # Remove the extra colon\n",
    "  \n",
    "    # Instantiate a KFold object\n",
    "    kf = KFold(n_splits=6, random_state=12, shuffle=True)\n",
    "  \n",
    "    # Perform cross-validation and store the results\n",
    "    cv_results = cross_val_score(model, X_train_scaled4, y_train4, cv=kf)\n",
    "    results.append(cv_results)\n",
    "    \n",
    "    # Print the cross-validation scores for each model\n",
    "    print(f\"{model_name} Cross-Validation Scores: {cv_results}\")\n",
    "    print(f\"Mean Score for {model_name}: {cv_results.mean()}\\n\")\n",
    "\n",
    "\n",
    "# Visualize the cross-validation results\n",
    "plt.boxplot(results, tick_labels=models.keys())\n",
    "plt.title(\"Model Performance Comparison\")\n",
    "plt.ylabel(\"Accuracy\")\n",
    "plt.show()\n"
   ]
  },
  {
   "cell_type": "markdown",
   "id": "b1fe4ff1",
   "metadata": {
    "papermill": {
     "duration": 0.038229,
     "end_time": "2024-09-06T15:10:55.245105",
     "exception": false,
     "start_time": "2024-09-06T15:10:55.206876",
     "status": "completed"
    },
    "tags": []
   },
   "source": [
    "**=== >>>. Looks like logistic regression is the best candidate based on the cross-validation results!**"
   ]
  },
  {
   "cell_type": "markdown",
   "id": "2cb082c8",
   "metadata": {
    "papermill": {
     "duration": 0.040151,
     "end_time": "2024-09-06T15:10:55.323947",
     "exception": false,
     "start_time": "2024-09-06T15:10:55.283796",
     "status": "completed"
    },
    "tags": []
   },
   "source": [
    "***Exercise : Pipeline for predicting song popularity***\n",
    "\n",
    "For the final exercise, you will build a **pipeline** **to impute missing values, scale features, and perform hyperparameter tuning of a logistic regression model**. The aim is to find the best **parameters** and **accuracy** when predicting song genre!\n",
    "\n",
    "All the models and objects required to build the pipeline have been preloaded for you.\n"
   ]
  },
  {
   "cell_type": "markdown",
   "id": "385ccf80",
   "metadata": {
    "papermill": {
     "duration": 0.039033,
     "end_time": "2024-09-06T15:10:55.402257",
     "exception": false,
     "start_time": "2024-09-06T15:10:55.363224",
     "status": "completed"
    },
    "tags": []
   },
   "source": [
    "***Instructions***\n",
    "\n",
    "* Create the steps for the pipeline by calling a simple imputer, a standard scaler, and a logistic regression model.\n",
    "* Create a pipeline object, and pass the steps variable.\n",
    "* Instantiate a grid search object to perform cross-validation using the pipeline and the parameters.\n",
    "* Print the best parameters and compute and print the test set accuracy score for the grid search object.Create the steps for the pipeline by calling a simple imputer, a standard scaler, and a logistic regression model.\n"
   ]
  },
  {
   "cell_type": "code",
   "execution_count": 120,
   "id": "0185db73",
   "metadata": {
    "execution": {
     "iopub.execute_input": "2024-09-06T15:10:55.482475Z",
     "iopub.status.busy": "2024-09-06T15:10:55.482038Z",
     "iopub.status.idle": "2024-09-06T15:10:55.486928Z",
     "shell.execute_reply": "2024-09-06T15:10:55.485745Z"
    },
    "papermill": {
     "duration": 0.047427,
     "end_time": "2024-09-06T15:10:55.489143",
     "exception": false,
     "start_time": "2024-09-06T15:10:55.441716",
     "status": "completed"
    },
    "tags": []
   },
   "outputs": [],
   "source": [
    "#music_df5 = pd.read_csv('data/music_clean.csv')\n",
    "#music_df5.head()"
   ]
  },
  {
   "cell_type": "code",
   "execution_count": 121,
   "id": "d6d10d6c",
   "metadata": {
    "execution": {
     "iopub.execute_input": "2024-09-06T15:10:55.569312Z",
     "iopub.status.busy": "2024-09-06T15:10:55.568390Z",
     "iopub.status.idle": "2024-09-06T15:10:55.577438Z",
     "shell.execute_reply": "2024-09-06T15:10:55.576447Z"
    },
    "papermill": {
     "duration": 0.051336,
     "end_time": "2024-09-06T15:10:55.579556",
     "exception": false,
     "start_time": "2024-09-06T15:10:55.528220",
     "status": "completed"
    },
    "tags": []
   },
   "outputs": [
    {
     "name": "stdout",
     "output_type": "stream",
     "text": [
      "X_train shape: (800, 11)\n",
      "X_test shape: (200, 11)\n",
      "y_train shape: (800,)\n",
      "y_test shape: (200,)\n"
     ]
    }
   ],
   "source": [
    "from sklearn.model_selection import train_test_split\n",
    "\n",
    "# Create the feature matrix X and target vector y\n",
    "#X5 = music_df5.drop(columns=['genre'], axis=1).values  # Features are all columns except 'loudness'\n",
    "#y5 = music_df5['genre'].values  # Target is the 'loudness' column\n",
    "\n",
    "# Split the data into training and test sets\n",
    "#X_train5, X_test5, y_train5, y_test5 = train_test_split(X5, y5, test_size=0.3, random_state=42)\n",
    "\n",
    "# Print the shapes to verify\n",
    "print(\"X_train shape:\", X_train4.shape)\n",
    "print(\"X_test shape:\", X_test4.shape)\n",
    "print(\"y_train shape:\", y_train4.shape)\n",
    "print(\"y_test shape:\", y_test4.shape)"
   ]
  },
  {
   "cell_type": "markdown",
   "id": "66222604",
   "metadata": {
    "papermill": {
     "duration": 0.039297,
     "end_time": "2024-09-06T15:10:55.658245",
     "exception": false,
     "start_time": "2024-09-06T15:10:55.618948",
     "status": "completed"
    },
    "tags": []
   },
   "source": [
    "**\n",
    "===>>> Here's the complete code to build a pipeline for predicting song popularity, performing hyperparameter tuning, and evaluating the model's performance:**"
   ]
  },
  {
   "cell_type": "code",
   "execution_count": 122,
   "id": "94684582",
   "metadata": {
    "execution": {
     "iopub.execute_input": "2024-09-06T15:10:55.739237Z",
     "iopub.status.busy": "2024-09-06T15:10:55.738499Z",
     "iopub.status.idle": "2024-09-06T15:10:58.005160Z",
     "shell.execute_reply": "2024-09-06T15:10:58.003159Z"
    },
    "papermill": {
     "duration": 2.311443,
     "end_time": "2024-09-06T15:10:58.009343",
     "exception": false,
     "start_time": "2024-09-06T15:10:55.697900",
     "status": "completed"
    },
    "tags": []
   },
   "outputs": [
    {
     "name": "stdout",
     "output_type": "stream",
     "text": [
      "Tuned Logistic Regression Parameters: {'logreg__C': np.float64(0.556), 'logreg__solver': 'newton-cg'}, Accuracy: 0.8800\n"
     ]
    }
   ],
   "source": [
    "\n",
    "from sklearn.pipeline import Pipeline\n",
    "from sklearn.impute import SimpleImputer\n",
    "from sklearn.preprocessing import StandardScaler\n",
    "from sklearn.linear_model import LogisticRegression\n",
    "from sklearn.model_selection import GridSearchCV\n",
    "from sklearn.metrics import accuracy_score\n",
    "\n",
    "# Create steps for the pipeline\n",
    "steps = [(\"imp_mean\", SimpleImputer(strategy=\"mean\")),  # Impute missing values using the mean strategy\n",
    "         (\"scaler\", StandardScaler()),  # Scale features using StandardScaler\n",
    "         (\"logreg\", LogisticRegression())]  # Logistic regression model\n",
    "\n",
    "# Set up the pipeline\n",
    "pipeline = Pipeline(steps)\n",
    "\n",
    "# Define the hyperparameter grid for logistic regression\n",
    "params = {\"logreg__solver\": [\"newton-cg\", \"saga\", \"lbfgs\"],  # Different solvers\n",
    "          \"logreg__C\": np.linspace(0.001, 1.0, 10)}  # Regularization strength\n",
    "\n",
    "# Create the GridSearchCV object\n",
    "tuning = GridSearchCV(pipeline, param_grid=params, cv=5)  # 5-fold cross-validation\n",
    "\n",
    "# Fit the model on the training data\n",
    "tuning.fit(X_train, y_train)\n",
    "\n",
    "# Make predictions on the test data\n",
    "y_pred = tuning.predict(X_test)\n",
    "\n",
    "# Compute and print performance\n",
    "print(\"Tuned Logistic Regression Parameters: {}, Accuracy: {:.4f}\".format(tuning.best_params_, tuning.score(X_test, y_test)))\n"
   ]
  },
  {
   "cell_type": "markdown",
   "id": "60b72865",
   "metadata": {
    "papermill": {
     "duration": 0.059995,
     "end_time": "2024-09-06T15:10:58.137430",
     "exception": false,
     "start_time": "2024-09-06T15:10:58.077435",
     "status": "completed"
    },
    "tags": []
   },
   "source": [
    "**Explanation:**\n",
    "\n",
    "**Pipeline Steps:**\n",
    "\n",
    "* SimpleImputer: Handles missing values by imputing with the mean.\n",
    "\n",
    "* StandardScaler: Scales features to ensure they're on the same scale.\n",
    "\n",
    "* LogisticRegression: The model for prediction.\n",
    "\n",
    "**GridSearchCV:**\n",
    "\n",
    "Performs hyperparameter tuning using cross-validation to find the best combination of parameters.\n",
    "\n",
    "Output:\n",
    "\n",
    "**Prints the best hyperparameters found by GridSearchCV and the accuracy score on the test set.**\n",
    "\n",
    "**===>>> This code should help you effectively tune your model and evaluate its performance!**\n",
    "\n",
    "\n",
    "\n",
    "\n",
    "\n",
    "\n",
    "\n"
   ]
  },
  {
   "cell_type": "markdown",
   "id": "e1ac0072",
   "metadata": {
    "papermill": {
     "duration": 0.039052,
     "end_time": "2024-09-06T15:10:58.217508",
     "exception": false,
     "start_time": "2024-09-06T15:10:58.178456",
     "status": "completed"
    },
    "tags": []
   },
   "source": [
    "# Congratulations!"
   ]
  },
  {
   "cell_type": "code",
   "execution_count": null,
   "id": "a29c8375-f1b0-4260-a5b0-c692e1855447",
   "metadata": {},
   "outputs": [],
   "source": []
  }
 ],
 "metadata": {
  "kaggle": {
   "accelerator": "none",
   "dataSources": [
    {
     "datasetId": 5612782,
     "sourceId": 9274159,
     "sourceType": "datasetVersion"
    }
   ],
   "dockerImageVersionId": 30761,
   "isGpuEnabled": false,
   "isInternetEnabled": true,
   "language": "python",
   "sourceType": "notebook"
  },
  "kernelspec": {
   "display_name": "ai6",
   "language": "python",
   "name": "python3"
  },
  "language_info": {
   "codemirror_mode": {
    "name": "ipython",
    "version": 3
   },
   "file_extension": ".py",
   "mimetype": "text/x-python",
   "name": "python",
   "nbconvert_exporter": "python",
   "pygments_lexer": "ipython3",
   "version": "3.12.11"
  },
  "papermill": {
   "default_parameters": {},
   "duration": 26.146973,
   "end_time": "2024-09-06T15:10:58.878150",
   "environment_variables": {},
   "exception": null,
   "input_path": "__notebook__.ipynb",
   "output_path": "__notebook__.ipynb",
   "parameters": {},
   "start_time": "2024-09-06T15:10:32.731177",
   "version": "2.6.0"
  }
 },
 "nbformat": 4,
 "nbformat_minor": 5
}
