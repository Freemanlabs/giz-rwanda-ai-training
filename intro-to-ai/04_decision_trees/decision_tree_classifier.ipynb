{
 "cells": [
  {
   "cell_type": "markdown",
   "id": "27331754",
   "metadata": {},
   "source": [
    "<a href=\"https://colab.research.google.com/github/Freemanlabs/giz-rwanda-ai-training/blob/master/intro-to-ai/04_decision_trees/decision_tree_classifier.ipynb\" target=\"_blank\">\n",
    "  <img src=\"https://colab.research.google.com/assets/colab-badge.svg\" alt=\"Open In Colab\"/>\n",
    "</a>"
   ]
  },
  {
   "cell_type": "markdown",
   "id": "345d8b32",
   "metadata": {},
   "source": [
    "# Decision Tree Classifier in Scikit-learn"
   ]
  },
  {
   "cell_type": "markdown",
   "id": "d21fa739",
   "metadata": {},
   "source": [
    "## Loading Data"
   ]
  },
  {
   "cell_type": "markdown",
   "id": "f42190c3",
   "metadata": {},
   "source": [
    "Let's first load the required Pima Indian Diabetes dataset using pandas' `.read_csv()` function. "
   ]
  },
  {
   "cell_type": "code",
   "execution_count": null,
   "id": "9e6320d9",
   "metadata": {},
   "outputs": [],
   "source": [
    "# load dataset\n",
    "import pandas as pd\n",
    "\n",
    "# diabetes_df = pd.read_csv('data/diabetes_clean.csv')\n",
    "diabetes_df = pd.read_csv('https://raw.githubusercontent.com/Freemanlabs/giz-rwanda-ai-training/master/intro-to-ai/04_decision_trees/data/diabetes_clean.csv')\n",
    "diabetes_df.head()"
   ]
  },
  {
   "cell_type": "markdown",
   "id": "6de0c0cd",
   "metadata": {},
   "source": [
    "## Feature Engineering"
   ]
  },
  {
   "cell_type": "markdown",
   "id": "4a263e48",
   "metadata": {},
   "source": [
    "### Feature Selection"
   ]
  },
  {
   "cell_type": "markdown",
   "id": "a7163579",
   "metadata": {},
   "source": [
    "Here, you need to divide given columns into two types of variables dependent (or target variable) and independent variable(or feature variables)."
   ]
  },
  {
   "cell_type": "code",
   "execution_count": null,
   "id": "48963727",
   "metadata": {},
   "outputs": [],
   "source": [
    "# split dataset in features and target variable\n",
    "X = diabetes_df.drop([\"diabetes\"], axis=1).values # Features\n",
    "y = diabetes_df[\"diabetes\"].values # Target variable\n",
    "print(X.shape, y.shape)"
   ]
  },
  {
   "cell_type": "markdown",
   "id": "8da92e3d",
   "metadata": {},
   "source": [
    "### Splitting Data\n",
    "\n",
    "To understand model performance, dividing the dataset into a training set and a test set is a good strategy.\n",
    "\n",
    "Let's split the dataset by using the function train_test_split(). You need to pass three parameters features; target, and test_set size."
   ]
  },
  {
   "cell_type": "code",
   "execution_count": null,
   "id": "a288ee2d",
   "metadata": {},
   "outputs": [],
   "source": [
    "# Split dataset into training set and test set\n",
    "from sklearn.model_selection import train_test_split\n",
    "\n",
    "X_train, X_test, y_train, y_test = train_test_split(X, y, test_size=0.2, random_state=1) # 80% training and 20% test"
   ]
  },
  {
   "cell_type": "markdown",
   "id": "08e976dd",
   "metadata": {},
   "source": [
    "### Scaling Data"
   ]
  },
  {
   "cell_type": "markdown",
   "id": "425d13ee",
   "metadata": {},
   "source": [
    "Standardize features by removing the mean and scaling to unit variance.\n",
    "\n",
    "Standardization of a dataset is a common requirement for many machine learning estimators: they might behave badly if the individual features do not more or less look like standard normally distributed data (e.g. Gaussian with 0 mean and unit variance)."
   ]
  },
  {
   "cell_type": "code",
   "execution_count": null,
   "id": "7620f363",
   "metadata": {},
   "outputs": [],
   "source": [
    "from sklearn.preprocessing import StandardScaler\n",
    "scaler = StandardScaler()\n",
    "X_train = scaler.fit_transform(X_train)\n",
    "X_test = scaler.transform(X_test)"
   ]
  },
  {
   "cell_type": "markdown",
   "id": "c9cd4cd6",
   "metadata": {},
   "source": [
    "## Modelling"
   ]
  },
  {
   "cell_type": "code",
   "execution_count": null,
   "id": "7cfe1202",
   "metadata": {},
   "outputs": [],
   "source": [
    "from sklearn.linear_model import LogisticRegression\n",
    "from sklearn.tree import DecisionTreeClassifier\n",
    "from sklearn.ensemble import RandomForestClassifier \n",
    "from sklearn.metrics import roc_auc_score"
   ]
  },
  {
   "cell_type": "markdown",
   "id": "5bf9b14d",
   "metadata": {},
   "source": [
    "### Building Logistic Regression Model"
   ]
  },
  {
   "cell_type": "markdown",
   "id": "6666606c",
   "metadata": {},
   "source": [
    "Let's create a logistic regression model using Scikit-learn."
   ]
  },
  {
   "cell_type": "code",
   "execution_count": null,
   "id": "917ba311",
   "metadata": {},
   "outputs": [],
   "source": [
    "# Create Logistic Regression classifer object\n",
    "lr_clf = LogisticRegression()\n",
    "\n",
    "# Train Logistic Regression Classifer\n",
    "lr_clf = lr_clf.fit(X_train, y_train)\n",
    "\n",
    "#Predict the response for test dataset\n",
    "lr_pred = lr_clf.predict(X_test)"
   ]
  },
  {
   "cell_type": "markdown",
   "id": "c4de5616",
   "metadata": {},
   "source": [
    "#### Evaluating the Model"
   ]
  },
  {
   "cell_type": "markdown",
   "id": "73782e9b",
   "metadata": {},
   "source": [
    "Let's estimate how accurately the classifier or model can predict the type of cultivars."
   ]
  },
  {
   "cell_type": "code",
   "execution_count": null,
   "id": "7d3ea5ac",
   "metadata": {},
   "outputs": [],
   "source": [
    "print(\"Logistic Regression AUC: \", roc_auc_score(y_test, lr_pred))"
   ]
  },
  {
   "cell_type": "markdown",
   "id": "a6616114",
   "metadata": {},
   "source": [
    "### Building Decision Tree Model"
   ]
  },
  {
   "cell_type": "markdown",
   "id": "544cc919",
   "metadata": {},
   "source": [
    "Let's create a decision tree model using Scikit-learn."
   ]
  },
  {
   "cell_type": "code",
   "execution_count": null,
   "id": "469e7dd9",
   "metadata": {},
   "outputs": [],
   "source": [
    "# Create Decision Tree classifer object\n",
    "tree_clf = DecisionTreeClassifier()\n",
    "\n",
    "# Train Decision Tree Classifer\n",
    "tree_clf = tree_clf.fit(X_train, y_train)\n",
    "\n",
    "#Predict the response for test dataset\n",
    "tree_pred = tree_clf.predict(X_test)"
   ]
  },
  {
   "cell_type": "markdown",
   "id": "59e524fe",
   "metadata": {},
   "source": [
    "#### Evaluating the Model"
   ]
  },
  {
   "cell_type": "markdown",
   "id": "622efe2d",
   "metadata": {},
   "source": [
    "Let's estimate how accurately the classifier or model can predict the type of cultivars."
   ]
  },
  {
   "cell_type": "code",
   "execution_count": null,
   "id": "8ca96454",
   "metadata": {},
   "outputs": [],
   "source": [
    "print(\"Decision Tree AUC: \", roc_auc_score(y_test, tree_pred))"
   ]
  },
  {
   "cell_type": "markdown",
   "id": "cc1483e8",
   "metadata": {},
   "source": [
    "### Building Random Forest Model"
   ]
  },
  {
   "cell_type": "markdown",
   "id": "ef1bc5d3",
   "metadata": {},
   "source": [
    "Let's create a random forest model using Scikit-learn."
   ]
  },
  {
   "cell_type": "code",
   "execution_count": null,
   "id": "f6484254",
   "metadata": {},
   "outputs": [],
   "source": [
    "# Create Random Forest classifer object\n",
    "rf_clf = RandomForestClassifier()\n",
    "\n",
    "# Train Logistic Regression Classifer\n",
    "rf_clf = rf_clf.fit(X_train, y_train)\n",
    "\n",
    "#Predict the response for test dataset\n",
    "rf_pred = rf_clf.predict(X_test)"
   ]
  },
  {
   "cell_type": "markdown",
   "id": "2de7a287",
   "metadata": {},
   "source": [
    "#### Evaluating the Model"
   ]
  },
  {
   "cell_type": "markdown",
   "id": "9ef79a4c",
   "metadata": {},
   "source": [
    "Let's estimate how accurately the classifier or model can predict the type of cultivars."
   ]
  },
  {
   "cell_type": "code",
   "execution_count": null,
   "id": "e6b31999",
   "metadata": {},
   "outputs": [],
   "source": [
    "print(\"Random Forest AUC: \", roc_auc_score(y_test, rf_pred))"
   ]
  }
 ],
 "metadata": {
  "kernelspec": {
   "display_name": "ai6",
   "language": "python",
   "name": "python3"
  },
  "language_info": {
   "codemirror_mode": {
    "name": "ipython",
    "version": 3
   },
   "file_extension": ".py",
   "mimetype": "text/x-python",
   "name": "python",
   "nbconvert_exporter": "python",
   "pygments_lexer": "ipython3",
   "version": "3.12.11"
  }
 },
 "nbformat": 4,
 "nbformat_minor": 5
}
